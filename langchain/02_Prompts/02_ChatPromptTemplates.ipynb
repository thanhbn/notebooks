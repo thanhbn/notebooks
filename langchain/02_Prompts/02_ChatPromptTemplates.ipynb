{
 "cells": [
  {
   "cell_type": "markdown",
   "metadata": {},
   "source": [
    "# ChatPromptTemplate trong LangChain\n",
    "\n",
    "## Giới thiệu\n",
    "\n",
    "Trong notebook này, chúng ta sẽ tìm hiểu về:\n",
    "- **ChatPromptTemplate** là gì và sự khác biệt với PromptTemplate\n",
    "- Cách xây dựng các prompt có vai trò (System, Human, AI)\n",
    "- Tích hợp với ChatAnthropic để tạo các cuộc hội thoại\n",
    "- Các kỹ thuật nâng cao với ChatPromptTemplate"
   ]
  },
  {
   "cell_type": "markdown",
   "metadata": {},
   "source": [
    "## 1. Sự khác biệt giữa PromptTemplate và ChatPromptTemplate\n",
    "\n",
    "### PromptTemplate\n",
    "- Được thiết kế cho **completion models** (text-in, text-out)\n",
    "- Chỉ có một chuỗi văn bản đầu vào\n",
    "- Phù hợp cho các tác vụ đơn giản\n",
    "\n",
    "### ChatPromptTemplate\n",
    "- Được thiết kế cho **chat models** (messages-in, message-out)\n",
    "- Hỗ trợ nhiều vai trò: System, Human, AI\n",
    "- Phù hợp cho các cuộc hội thoại phức tạp"
   ]
  },
  {
   "cell_type": "code",
   "execution_count": null,
   "metadata": {},
   "outputs": [],
   "source": [
    "# Import các thư viện cần thiết\n",
    "from langchain_core.prompts import ChatPromptTemplate, MessagesPlaceholder\n",
    "from langchain_core.messages import SystemMessage, HumanMessage, AIMessage\n",
    "from langchain_anthropic import ChatAnthropic\n",
    "import os\n",
    "from dotenv import load_dotenv\n",
    "\n",
    "# Load biến môi trường\n",
    "load_dotenv()\n",
    "\n",
    "# Khởi tạo ChatAnthropic\n",
    "chat = ChatAnthropic(\n",
    "    model=\"claude-3-5-sonnet-20241022\",\n",
    "    temperature=0.7,\n",
    "    anthropic_api_key=os.getenv(\"ANTHROPIC_API_KEY\")\n",
    ")"
   ]
  },
  {
   "cell_type": "markdown",
   "metadata": {},
   "source": [
    "## 2. Tạo ChatPromptTemplate cơ bản"
   ]
  },
  {
   "cell_type": "code",
   "execution_count": null,
   "metadata": {},
   "outputs": [],
   "source": [
    "# Cách 1: Sử dụng from_messages\n",
    "chat_template = ChatPromptTemplate.from_messages([\n",
    "    (\"system\", \"Bạn là một trợ lý AI chuyên về {topic}.\"),\n",
    "    (\"human\", \"Hãy giải thích về {concept} một cách đơn giản.\")\n",
    "])\n",
    "\n",
    "# Format prompt với các biến\n",
    "messages = chat_template.format_messages(\n",
    "    topic=\"lập trình Python\",\n",
    "    concept=\"list comprehension\"\n",
    ")\n",
    "\n",
    "print(\"Messages được tạo:\")\n",
    "for msg in messages:\n",
    "    print(f\"{msg.__class__.__name__}: {msg.content}\")"
   ]
  },
  {
   "cell_type": "code",
   "execution_count": null,
   "metadata": {},
   "outputs": [],
   "source": [
    "# Gửi messages đến ChatAnthropic\n",
    "response = chat.invoke(messages)\n",
    "print(\"\\nPhản hồi từ Claude:\")\n",
    "print(response.content)"
   ]
  },
  {
   "cell_type": "markdown",
   "metadata": {},
   "source": [
    "## 3. Các vai trò trong ChatPromptTemplate\n",
    "\n",
    "### System Message\n",
    "- Định nghĩa vai trò và hành vi của AI\n",
    "- Thiết lập context và constraints\n",
    "\n",
    "### Human Message\n",
    "- Đại diện cho input từ người dùng\n",
    "- Chứa câu hỏi hoặc yêu cầu\n",
    "\n",
    "### AI Message\n",
    "- Đại diện cho phản hồi trước đó của AI\n",
    "- Hữu ích cho few-shot learning"
   ]
  },
  {
   "cell_type": "code",
   "execution_count": null,
   "metadata": {},
   "outputs": [],
   "source": [
    "# Template với nhiều vai trò\n",
    "multi_role_template = ChatPromptTemplate.from_messages([\n",
    "    (\"system\", \"\"\"Bạn là một giáo viên dạy tiếng Việt cho người nước ngoài.\n",
    "    Hãy giải thích ngữ pháp một cách rõ ràng và cho ví dụ cụ thể.\"\"\"),\n",
    "    (\"human\", \"Từ '{word}' có nghĩa là gì?\"),\n",
    "    (\"ai\", \"Tôi sẽ giải thích từ '{word}' cho bạn.\"),\n",
    "    (\"human\", \"Cho tôi ví dụ sử dụng từ này trong câu.\")\n",
    "])\n",
    "\n",
    "# Format với từ cụ thể\n",
    "messages = multi_role_template.format_messages(word=\"xin chào\")\n",
    "\n",
    "# In ra để xem cấu trúc\n",
    "for i, msg in enumerate(messages):\n",
    "    print(f\"Message {i+1} ({msg.__class__.__name__}):\")\n",
    "    print(f\"  {msg.content}\\n\")"
   ]
  },
  {
   "cell_type": "markdown",
   "metadata": {},
   "source": [
    "## 4. Few-shot Learning với ChatPromptTemplate"
   ]
  },
  {
   "cell_type": "code",
   "execution_count": null,
   "metadata": {},
   "outputs": [],
   "source": [
    "# Few-shot template cho phân loại cảm xúc\n",
    "few_shot_template = ChatPromptTemplate.from_messages([\n",
    "    (\"system\", \"Bạn là một chuyên gia phân tích cảm xúc. Phân loại câu thành: Tích cực, Tiêu cực, hoặc Trung lập.\"),\n",
    "    # Ví dụ 1\n",
    "    (\"human\", \"Hôm nay trời đẹp quá!\"),\n",
    "    (\"ai\", \"Cảm xúc: Tích cực\"),\n",
    "    # Ví dụ 2\n",
    "    (\"human\", \"Tôi rất buồn vì mất việc.\"),\n",
    "    (\"ai\", \"Cảm xúc: Tiêu cực\"),\n",
    "    # Ví dụ 3\n",
    "    (\"human\", \"Hôm nay là thứ ba.\"),\n",
    "    (\"ai\", \"Cảm xúc: Trung lập\"),\n",
    "    # Câu cần phân loại\n",
    "    (\"human\", \"{text}\")\n",
    "])\n",
    "\n",
    "# Test với các câu khác nhau\n",
    "test_sentences = [\n",
    "    \"Tôi rất vui khi được gặp bạn!\",\n",
    "    \"Dịch vụ này thật tệ.\",\n",
    "    \"Giá của sản phẩm là 100.000đ.\"\n",
    "]\n",
    "\n",
    "for sentence in test_sentences:\n",
    "    messages = few_shot_template.format_messages(text=sentence)\n",
    "    response = chat.invoke(messages)\n",
    "    print(f\"Câu: '{sentence}'\")\n",
    "    print(f\"Phân loại: {response.content}\\n\")"
   ]
  },
  {
   "cell_type": "markdown",
   "metadata": {},
   "source": [
    "## 5. Sử dụng MessagesPlaceholder cho lịch sử hội thoại"
   ]
  },
  {
   "cell_type": "code",
   "execution_count": null,
   "metadata": {},
   "outputs": [],
   "source": [
    "# Template với placeholder cho lịch sử\n",
    "conversation_template = ChatPromptTemplate.from_messages([\n",
    "    (\"system\", \"\"\"Bạn là một trợ lý AI thân thiện. \n",
    "    Hãy nhớ context từ các tin nhắn trước đó và trả lời một cách nhất quán.\"\"\"),\n",
    "    MessagesPlaceholder(variable_name=\"chat_history\"),\n",
    "    (\"human\", \"{question}\")\n",
    "])\n",
    "\n",
    "# Tạo lịch sử hội thoại\n",
    "chat_history = [\n",
    "    HumanMessage(content=\"Tên tôi là Nam.\"),\n",
    "    AIMessage(content=\"Xin chào Nam! Rất vui được gặp bạn.\"),\n",
    "    HumanMessage(content=\"Tôi đang học lập trình Python.\"),\n",
    "    AIMessage(content=\"Tuyệt vời! Python là ngôn ngữ rất phù hợp cho người mới bắt đầu.\")\n",
    "]\n",
    "\n",
    "# Hỏi câu hỏi mới với context\n",
    "messages = conversation_template.format_messages(\n",
    "    chat_history=chat_history,\n",
    "    question=\"Bạn có nhớ tên tôi không?\"\n",
    ")\n",
    "\n",
    "response = chat.invoke(messages)\n",
    "print(\"Câu hỏi: Bạn có nhớ tên tôi không?\")\n",
    "print(f\"Trả lời: {response.content}\")"
   ]
  },
  {
   "cell_type": "markdown",
   "metadata": {},
   "source": [
    "## 6. Template động với partial variables"
   ]
  },
  {
   "cell_type": "code",
   "execution_count": null,
   "metadata": {},
   "outputs": [],
   "source": [
    "from datetime import datetime\n",
    "\n",
    "# Template với biến động\n",
    "dynamic_template = ChatPromptTemplate.from_messages([\n",
    "    (\"system\", \"\"\"Bạn là một trợ lý AI. \n",
    "    Hôm nay là {current_date}.\n",
    "    Hãy trả lời dựa trên thông tin thời gian hiện tại.\"\"\"),\n",
    "    (\"human\", \"{question}\")\n",
    "])\n",
    "\n",
    "# Partial template với ngày hiện tại\n",
    "partial_template = dynamic_template.partial(\n",
    "    current_date=datetime.now().strftime(\"%d/%m/%Y\")\n",
    ")\n",
    "\n",
    "# Sử dụng template đã partial\n",
    "questions = [\n",
    "    \"Hôm nay là ngày gì?\",\n",
    "    \"Còn bao nhiêu ngày nữa đến Tết Nguyên Đán 2025?\"\n",
    "]\n",
    "\n",
    "for q in questions:\n",
    "    messages = partial_template.format_messages(question=q)\n",
    "    response = chat.invoke(messages)\n",
    "    print(f\"Q: {q}\")\n",
    "    print(f\"A: {response.content}\\n\")"
   ]
  },
  {
   "cell_type": "markdown",
   "metadata": {},
   "source": [
    "## 7. Template phức tạp cho use case thực tế"
   ]
  },
  {
   "cell_type": "code",
   "execution_count": null,
   "metadata": {},
   "outputs": [],
   "source": [
    "# Template cho chatbot hỗ trợ khách hàng\n",
    "customer_support_template = ChatPromptTemplate.from_messages([\n",
    "    (\"system\", \"\"\"Bạn là nhân viên hỗ trợ khách hàng của công ty {company_name}.\n",
    "    \n",
    "    Thông tin công ty:\n",
    "    - Lĩnh vực: {industry}\n",
    "    - Chính sách hoàn trả: {return_policy}\n",
    "    \n",
    "    Hướng dẫn:\n",
    "    1. Luôn lịch sự và chuyên nghiệp\n",
    "    2. Giải quyết vấn đề của khách hàng\n",
    "    3. Đề xuất giải pháp phù hợp\n",
    "    4. Nếu không thể giải quyết, hướng dẫn liên hệ bộ phận phù hợp\n",
    "    \"\"\"),\n",
    "    MessagesPlaceholder(variable_name=\"chat_history\", optional=True),\n",
    "    (\"human\", \"{customer_message}\")\n",
    "])\n",
    "\n",
    "# Cấu hình cho một công ty cụ thể\n",
    "configured_template = customer_support_template.partial(\n",
    "    company_name=\"TechViet Solutions\",\n",
    "    industry=\"Phần mềm và dịch vụ IT\",\n",
    "    return_policy=\"Hoàn tiền 100% trong 30 ngày nếu không hài lòng\"\n",
    ")\n",
    "\n",
    "# Mô phỏng cuộc hội thoại\n",
    "customer_queries = [\n",
    "    \"Tôi muốn biết về chính sách hoàn trả của công ty.\",\n",
    "    \"Phần mềm của các bạn có hỗ trợ tiếng Việt không?\",\n",
    "    \"Tôi gặp lỗi khi cài đặt, làm sao để khắc phục?\"\n",
    "]\n",
    "\n",
    "conversation_history = []\n",
    "\n",
    "for query in customer_queries:\n",
    "    print(f\"Khách hàng: {query}\")\n",
    "    \n",
    "    messages = configured_template.format_messages(\n",
    "        chat_history=conversation_history,\n",
    "        customer_message=query\n",
    "    )\n",
    "    \n",
    "    response = chat.invoke(messages)\n",
    "    print(f\"Hỗ trợ: {response.content}\\n\")\n",
    "    \n",
    "    # Cập nhật lịch sử\n",
    "    conversation_history.append(HumanMessage(content=query))\n",
    "    conversation_history.append(AIMessage(content=response.content))"
   ]
  },
  {
   "cell_type": "markdown",
   "metadata": {},
   "source": [
    "## 8. So sánh với PromptTemplate truyền thống"
   ]
  },
  {
   "cell_type": "code",
   "execution_count": null,
   "metadata": {},
   "outputs": [],
   "source": [
    "from langchain_core.prompts import PromptTemplate\n",
    "\n",
    "# PromptTemplate truyền thống\n",
    "simple_prompt = PromptTemplate(\n",
    "    template=\"Dịch câu sau sang tiếng Anh: {vietnamese_text}\",\n",
    "    input_variables=[\"vietnamese_text\"]\n",
    ")\n",
    "\n",
    "# ChatPromptTemplate tương đương\n",
    "chat_prompt = ChatPromptTemplate.from_messages([\n",
    "    (\"system\", \"Bạn là một dịch giả chuyên nghiệp Việt-Anh.\"),\n",
    "    (\"human\", \"Dịch câu sau sang tiếng Anh: {vietnamese_text}\")\n",
    "])\n",
    "\n",
    "# So sánh output\n",
    "test_text = \"Xin chào, rất vui được gặp bạn\"\n",
    "\n",
    "print(\"=== PromptTemplate Output ===\")\n",
    "print(simple_prompt.format(vietnamese_text=test_text))\n",
    "\n",
    "print(\"\\n=== ChatPromptTemplate Output ===\")\n",
    "messages = chat_prompt.format_messages(vietnamese_text=test_text)\n",
    "for msg in messages:\n",
    "    print(f\"{msg.__class__.__name__}: {msg.content}\")\n",
    "\n",
    "# Gọi với ChatAnthropic\n",
    "response = chat.invoke(messages)\n",
    "print(f\"\\nKết quả dịch: {response.content}\")"
   ]
  },
  {
   "cell_type": "markdown",
   "metadata": {},
   "source": [
    "## 9. Best Practices và Tips\n",
    "\n",
    "### 1. Thiết kế System Message hiệu quả\n",
    "- Rõ ràng về vai trò và nhiệm vụ\n",
    "- Cung cấp constraints và guidelines\n",
    "- Không quá dài, tập trung vào điều quan trọng\n",
    "\n",
    "### 2. Sử dụng Few-shot khi cần\n",
    "- Cung cấp 2-3 ví dụ chất lượng cao\n",
    "- Đảm bảo ví dụ đa dạng và representative\n",
    "\n",
    "### 3. Quản lý Chat History\n",
    "- Giới hạn độ dài history để tránh tốn token\n",
    "- Lưu trữ và tóm tắt các cuộc hội thoại dài"
   ]
  },
  {
   "cell_type": "code",
   "execution_count": null,
   "metadata": {},
   "outputs": [],
   "source": [
    "# Ví dụ về template với best practices\n",
    "optimized_template = ChatPromptTemplate.from_messages([\n",
    "    (\"system\", \"\"\"Vai trò: Chuyên gia tư vấn {domain}\n",
    "    \n",
    "    Nguyên tắc:\n",
    "    - Trả lời chính xác, dựa trên kiến thức chuyên môn\n",
    "    - Nếu không chắc chắn, hãy nói rõ\n",
    "    - Giải thích phức tạp theo cách dễ hiểu\n",
    "    \"\"\"),\n",
    "    MessagesPlaceholder(variable_name=\"examples\", optional=True),\n",
    "    MessagesPlaceholder(variable_name=\"history\", optional=True),\n",
    "    (\"human\", \"{question}\")\n",
    "])\n",
    "\n",
    "# Sử dụng với các biến khác nhau\n",
    "examples = [\n",
    "    HumanMessage(content=\"Machine Learning là gì?\"),\n",
    "    AIMessage(content=\"Machine Learning là một nhánh của AI cho phép máy tính học từ dữ liệu mà không cần lập trình cụ thể.\")\n",
    "]\n",
    "\n",
    "messages = optimized_template.format_messages(\n",
    "    domain=\"Trí tuệ nhân tạo\",\n",
    "    examples=examples,\n",
    "    history=[],\n",
    "    question=\"Deep Learning khác gì với Machine Learning?\"\n",
    ")\n",
    "\n",
    "response = chat.invoke(messages)\n",
    "print(response.content)"
   ]
  },
  {
   "cell_type": "markdown",
   "metadata": {},
   "source": [
    "## Tổng kết\n",
    "\n",
    "Trong notebook này, chúng ta đã học:\n",
    "\n",
    "1. **Sự khác biệt cơ bản** giữa PromptTemplate và ChatPromptTemplate\n",
    "2. **Các vai trò** trong chat: System, Human, AI\n",
    "3. **Few-shot learning** với ChatPromptTemplate\n",
    "4. **MessagesPlaceholder** để quản lý lịch sử hội thoại\n",
    "5. **Partial variables** cho template động\n",
    "6. **Use cases thực tế** như customer support chatbot\n",
    "\n",
    "ChatPromptTemplate là công cụ mạnh mẽ cho việc xây dựng các ứng dụng chat phức tạp với LangChain và Claude!"
   ]
  }
 ],
 "metadata": {
  "kernelspec": {
   "display_name": "Python 3",
   "language": "python",
   "name": "python3"
  },
  "language_info": {
   "codemirror_mode": {
    "name": "ipython",
    "version": 3
   },
   "file_extension": ".py",
   "mimetype": "text/x-python",
   "name": "python",
   "nbconvert_exporter": "python",
   "pygments_lexer": "ipython3",
   "version": "3.11.0"
  }
 },
 "nbformat": 4,
 "nbformat_minor": 4
}