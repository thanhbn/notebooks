{
 "cells": [
  {
   "cell_type": "markdown",
   "id": "f98120ca",
   "metadata": {},
   "source": [
    "# LangGraph Tutorial – Part 8️⃣: Mini‑RAG Pipeline"
   ]
  },
  {
   "cell_type": "markdown",
   "id": "adc82dc6",
   "metadata": {},
   "source": [
    "Pipeline RAG (retrieve → answer) với Claude"
   ]
  },
  {
   "cell_type": "code",
   "execution_count": null,
   "id": "e401df05",
   "metadata": {},
   "outputs": [],
   "source": [
    "from langchain_anthropic import ChatAnthropic\n",
    "from langchain.schema import HumanMessage\n",
    "from langgraph.graph import StateGraph, MessageState\n",
    "\n",
    "llm = ChatAnthropic(model_name=\"claude-3-haiku-20240307\", temperature=0.2)\n",
    "\n",
    "class St(MessageState):\n",
    "    messages:list[str]=[]\n",
    "\n",
    "def user(state:St):\n",
    "    state.messages.append(\"Tôi là AI muốn biết về Python.\")\n",
    "    return state\n",
    "\n",
    "def retrieve(state:St):\n",
    "    state.messages.append(\"🔍 3 tài liệu Python docs\")\n",
    "    return state\n",
    "\n",
    "def answer(state:St):\n",
    "    resp = llm([HumanMessage(content=f\"Trả lời dựa trên: {state.messages[-1]}\")]).content\n",
    "    state.messages.append(resp)\n",
    "    return state\n",
    "\n",
    "rag = StateGraph(St)    .add_node(\"u\", user)    .add_node(\"ret\", retrieve)    .add_node(\"ans\", answer)    .set_entry_point(\"u\")    .add_edge(\"u\",\"ret\")    .add_edge(\"ret\",\"ans\")    .compile()\n",
    "\n",
    "rag.invoke(St()).messages"
   ]
  }
 ],
 "metadata": {},
 "nbformat": 4,
 "nbformat_minor": 5
}
