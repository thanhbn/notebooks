{
 "cells": [
  {
   "cell_type": "markdown",
   "id": "d0c18de0",
   "metadata": {},
   "source": [
    "# LangFuse Tutorial – Part 3️⃣: Tích hợp với LangChain + Claude"
   ]
  },
  {
   "cell_type": "markdown",
   "id": "4f95ea33",
   "metadata": {},
   "source": [
    "Sử dụng `LangfuseCallbackHandler` để tự động ghi lại prompt/completion khi gọi LLM qua LangChain."
   ]
  },
  {
   "cell_type": "code",
   "execution_count": null,
   "id": "d6aede09",
   "metadata": {},
   "outputs": [],
   "source": [
    "from langfuse.callback import LangfuseCallbackHandler\n",
    "from langchain_anthropic import ChatAnthropic\n",
    "from langchain.schema import HumanMessage\n",
    "\n",
    "handler = LangfuseCallbackHandler()\n",
    "llm = ChatAnthropic(model_name=\"claude-3-sonnet-20240229\", temperature=0.2, callbacks=[handler])\n",
    "\n",
    "response = llm([HumanMessage(content=\"Giải thích ngắn gọn LangFuse là gì?\")])\n",
    "print(response.content)"
   ]
  }
 ],
 "metadata": {},
 "nbformat": 4,
 "nbformat_minor": 5
}
