{
 "cells": [
  {
   "cell_type": "markdown",
   "id": "7a4f3a53",
   "metadata": {},
   "source": [
    "# LangGraph Tutorial – Part 9️⃣: Bài tập thực hành"
   ]
  },
  {
   "cell_type": "markdown",
   "id": "d325d373",
   "metadata": {},
   "source": [
    "## Bài tập\n",
    "\n",
    "1. **Translate node** – thêm node dịch câu trả lời sang tiếng Anh.  \n",
    "2. **Tên đặc biệt** – nếu tên người dùng chứa “AI” chuyển tới node `special_greet`.  \n",
    "3. **SQL Tool** – tạo agent truy vấn cơ sở dữ liệu Postgres bằng LangChainTool + LangGraph.\n",
    "\n",
    "*Gợi ý*: copy code các notebook trước và chỉnh sửa."
   ]
  }
 ],
 "metadata": {},
 "nbformat": 4,
 "nbformat_minor": 5
}
