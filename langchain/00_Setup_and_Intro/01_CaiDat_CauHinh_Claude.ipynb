{
 "cells": [
  {
   "cell_type": "markdown",
   "metadata": {},
   "source": [
    "# Cài Đặt và Cấu Hình Claude với LangChain\n",
    "\n",
    "Notebook này hướng dẫn chi tiết cách:\n",
    "1. Cài đặt các thư viện cần thiết\n",
    "2. Cấu hình API key cho Claude (Anthropic)\n",
    "3. Kiểm tra kết nối với Claude\n",
    "4. Thực hiện một ví dụ đơn giản với ChatAnthropic\n",
    "\n",
    "## Yêu cầu\n",
    "- Python 3.8 trở lên\n",
    "- Tài khoản Anthropic với API key (đăng ký tại https://console.anthropic.com/)"
   ]
  },
  {
   "cell_type": "markdown",
   "metadata": {},
   "source": [
    "## ⚠️ Quan trọng: Virtual Environment\n",
    "Trước khi chạy notebook này, hãy chắc chắn rằng bạn đã:\n",
    "1. Chạy notebook `00_Setup_Virtual_Environment.ipynb` để tạo virtual environment\n",
    "2. Chọn kernel `Python (langchain_env)` trong Jupyter\n",
    "3. Kiểm tra: **Kernel → Change kernel → Python (langchain_env)**\""
   ]
  },
  {
   "cell_type": "markdown",
   "metadata": {},
   "source": [
    "## 1. Cài đặt các thư viện cần thiết\n",
    "\n",
    "Chúng ta cần cài đặt:\n",
    "- `langchain`: Framework chính cho việc xây dựng ứng dụng LLM\n",
    "- `langchain-anthropic`: Package tích hợp Claude của Anthropic\n",
    "- `python-dotenv`: Quản lý biến môi trường một cách an toàn"
   ]
  },
  {
   "cell_type": "code",
   "execution_count": 1,
   "metadata": {
    "jupyter": {
     "is_executing": true
    }
   },
   "outputs": [
    {
     "name": "stdout",
     "output_type": "stream",
     "text": [
      "anthropic                 0.54.0\n",
      "langchain                 0.3.25\n",
      "langchain-anthropic       0.3.15\n",
      "langchain-core            0.3.65\n",
      "langchain-text-splitters  0.3.8\n",
      "python-dotenv             1.1.0\n"
     ]
    }
   ],
   "source": [
    "# Kiểm tra các package đã cài đặt\n",
    "!pip list | grep -E \"langchain|anthropic|dotenv\""
   ]
  },
  {
   "cell_type": "code",
   "execution_count": null,
   "metadata": {
    "ExecuteTime": {
     "end_time": "2025-06-14T16:43:14.664847Z",
     "start_time": "2025-06-14T16:43:13.833748Z"
    }
   },
   "outputs": [],
   "source": [
    "# Cài đặt các thư viện cần thiết\n",
    "# Lưu ý: Đảm bảo bạn đang sử dụng kernel 'Python (langchain_env)' \n",
    "!pip install langchain langchain-anthropic python-dotenv"
   ]
  },
  {
   "cell_type": "markdown",
   "metadata": {},
   "source": [
    "## 2. Cấu hình API Key\n",
    "\n",
    "### 2.1 Tạo file .env\n",
    "\n",
    "Tạo file `.env` trong thư mục gốc của project với nội dung:\n",
    "```\n",
    "ANTHROPIC_API_KEY=YOUR_KEY_HERE\n",
    "```\n",
    "\n",
    "**Lưu ý quan trọng:**\n",
    "- KHÔNG BAO GIỜ commit file `.env` lên Git\n",
    "- Thêm `.env` vào file `.gitignore`\n",
    "- Giữ API key của bạn bí mật"
   ]
  },
  {
   "cell_type": "code",
   "execution_count": null,
   "metadata": {},
   "outputs": [
    {
     "name": "stdout",
     "output_type": "stream",
     "text": [
      "✅ Đã tạo file .env mẫu. Vui lòng cập nhật API key của bạn!\n",
      "✅ Đã tạo file .gitignore\n"
     ]
    }
   ],
   "source": [
    "# Tạo file .env mẫu (chỉ chạy một lần)\n",
    "import os\n",
    "\n",
    "# Kiểm tra xem file .env đã tồn tại chưa\n",
    "if not os.path.exists('../../.env'):\n",
    "    with open('../../.env', 'w') as f:\n",
    "        f.write('ANTHROPIC_API_KEY=YOUR_KEY_HERE\\n')\n",
    "    print(\"✅ Đã tạo file .env mẫu. Vui lòng cập nhật API key của bạn!\")\n",
    "else:\n",
    "    print(\"ℹ️ File .env đã tồn tại\")\n",
    "\n",
    "# Tạo file .gitignore nếu chưa có\n",
    "if not os.path.exists('../../.gitignore'):\n",
    "    with open('../../.gitignore', 'w') as f:\n",
    "        f.write('.env\\n')\n",
    "    print(\"✅ Đã tạo file .gitignore\")"
   ]
  },
  {
   "cell_type": "markdown",
   "metadata": {},
   "source": [
    "### 2.2 Load biến môi trường"
   ]
  },
  {
   "cell_type": "markdown",
   "metadata": {},
   "source": [
    "### 2.1.1 Chỉnh sửa file .env\n",
    "\n",
    "Để cập nhật API key, bạn có thể:\n",
    "1. Mở file .env bằng text editor yêu thích\n",
    "2. Hoặc sử dụng lệnh sau trong terminal:\n",
    "```bash\n",
    "nano ../.env\n",
    "# hoặc\n",
    "vim ../.env\n",
    "```"
   ]
  },
  {
   "cell_type": "code",
   "execution_count": null,
   "metadata": {},
   "outputs": [
    {
     "name": "stdout",
     "output_type": "stream",
     "text": [
      "✅ File .env đã tồn tại hoặc vừa được tạo\n",
      "✅ File .gitignore đã tồn tại hoặc vừa được tạo\n",
      "\\n📄 Nội dung file .env:\n",
      "ANTHROPIC_API_KEY=***hidden***\n"
     ]
    }
   ],
   "source": [
    "# Tạo file .env mẫu (chỉ chạy một lần)\n",
    "!test -f ../.env || echo 'ANTHROPIC_API_KEY=YOUR_KEY_HERE' > ../.env\n",
    "!test -f ../.env && echo \"✅ File .env đã tồn tại hoặc vừa được tạo\"\n",
    "\n",
    "# Tạo file .gitignore nếu chưa có\n",
    "!test -f ../.gitignore || echo '.env' > ../.gitignore\n",
    "!test -f ../.gitignore && echo \"✅ File .gitignore đã tồn tại hoặc vừa được tạo\"\n",
    "\n",
    "# Hiển thị nội dung file .env (ẩn phần API key)\n",
    "!echo \"\\n📄 Nội dung file .env:\"\n",
    "!head -n 1 ../.env | sed 's/=.*/=***hidden***/'"
   ]
  },
  {
   "cell_type": "code",
   "execution_count": 2,
   "metadata": {
    "ExecuteTime": {
     "end_time": "2025-06-15T00:55:43.927144Z",
     "start_time": "2025-06-15T00:55:43.810113Z"
    }
   },
   "outputs": [
    {
     "name": "stdout",
     "output_type": "stream",
     "text": [
      "Load env successfully!\n"
     ]
    }
   ],
   "source": [
    "from dotenv import load_dotenv\n",
    "import os\n",
    "\n",
    "load_dotenv()\n",
    "\n",
    "print(\"Load env successfully!\")\n",
    "\n",
    "api_key = os.getenv(\"ANTHROPIC_API_KEY\")\n",
    "ANTHROPIC_MODEL=os.getenv(\"ANTHROPIC_MODEL\")"
   ]
  },
  {
   "cell_type": "markdown",
   "metadata": {},
   "source": [
    "## 3. Khởi tạo ChatAnthropic\n",
    "\n",
    "Bây giờ chúng ta sẽ khởi tạo model Claude thông qua LangChain"
   ]
  },
  {
   "cell_type": "code",
   "execution_count": 3,
   "metadata": {
    "ExecuteTime": {
     "end_time": "2025-06-15T00:55:58.613535Z",
     "start_time": "2025-06-15T00:55:45.917088Z"
    }
   },
   "outputs": [
    {
     "name": "stdout",
     "output_type": "stream",
     "text": [
      "✅ Đã khởi tạo ChatAnthropic thành công!\n",
      "📊 Model: claude-3-5-sonnet-20241022\n",
      "🌡️ Temperature: 0.7\n",
      "📝 Max tokens: 1000\n"
     ]
    }
   ],
   "source": [
    "from langchain_anthropic import ChatAnthropic\n",
    "\n",
    "# Khởi tạo model Claude\n",
    "# Có thể sử dụng các model: claude-3-opus-20240229, claude-3-sonnet-20240229, claude-3-haiku-20240307\n",
    "chat = ChatAnthropic(\n",
    "    model=ANTHROPIC_MODEL,\n",
    "    anthropic_api_key=api_key,\n",
    "    temperature=0.7,\n",
    "    max_tokens=1000\n",
    ")\n",
    "\n",
    "print(\"✅ Đã khởi tạo ChatAnthropic thành công!\")\n",
    "print(f\"📊 Model: {chat.model}\")\n",
    "print(f\"🌡️ Temperature: {chat.temperature}\")\n",
    "print(f\"📝 Max tokens: {chat.max_tokens}\")"
   ]
  },
  {
   "cell_type": "markdown",
   "metadata": {},
   "source": [
    "## 4. Kiểm tra kết nối với ví dụ đơn giản\n",
    "\n",
    "Hãy thử gửi một tin nhắn đơn giản để kiểm tra kết nối"
   ]
  },
  {
   "cell_type": "code",
   "execution_count": 4,
   "metadata": {
    "ExecuteTime": {
     "end_time": "2025-06-15T00:56:07.438624Z",
     "start_time": "2025-06-15T00:56:03.687703Z"
    }
   },
   "outputs": [
    {
     "name": "stdout",
     "output_type": "stream",
     "text": [
      "✅ Kết nối thành công!\n",
      "\n",
      "Claude trả lời:\n",
      "--------------------------------------------------\n",
      "Tôi là Claude, một trợ lý AI được tạo bởi Anthropic. Tôi có thể giúp bạn với nhiều việc khác nhau như viết lách, phân tích, và trả lời câu hỏi. Tôi luôn cố gắng trung thực và đáng tin cậy.\n"
     ]
    }
   ],
   "source": [
    "# Gửi tin nhắn test\n",
    "try:\n",
    "    response = chat.invoke(\"Xin chào! Bạn có thể giới thiệu ngắn gọn về bản thân không?\")\n",
    "    print(\"✅ Kết nối thành công!\\n\")\n",
    "    print(\"Claude trả lời:\")\n",
    "    print(\"-\" * 50)\n",
    "    print(response.content)\n",
    "except Exception as e:\n",
    "    print(f\"❌ Lỗi kết nối: {e}\")\n",
    "    print(\"\\n💡 Kiểm tra lại:\")\n",
    "    print(\"1. API key có hợp lệ không?\")\n",
    "    print(\"2. Kết nối internet có ổn định không?\")\n",
    "    print(\"3. Tài khoản Anthropic có đủ credit không?\")"
   ]
  },
  {
   "cell_type": "markdown",
   "metadata": {},
   "source": [
    "## 5. Ví dụ nâng cao hơn\n",
    "\n",
    "### 5.1 Sử dụng System Message"
   ]
  },
  {
   "cell_type": "code",
   "execution_count": 5,
   "metadata": {
    "ExecuteTime": {
     "end_time": "2025-06-15T00:56:16.717634Z",
     "start_time": "2025-06-15T00:56:13.278257Z"
    }
   },
   "outputs": [
    {
     "name": "stdout",
     "output_type": "stream",
     "text": [
      "Claude (Expert) trả lời:\n",
      "--------------------------------------------------\n",
      "LangChain là một framework giúp phát triển ứng dụng sử dụng các mô hình ngôn ngữ lớn (LLMs). Nó hữu ích vì:\n",
      "\n",
      "1. Tích hợp dễ dàng với nhiều LLM khác nhau\n",
      "2. Cung cấp các components sẵn có để xây dựng chuỗi xử lý (chains)\n",
      "3. Hỗ trợ quản lý memory và context\n",
      "4. Cho phép truy xuất và xử lý dữ liệu từ nhiều nguồn\n",
      "5. Đơn giản hóa việc xây dựng chatbots và ứng dụng AI phức tạp\n"
     ]
    }
   ],
   "source": [
    "from langchain_core.messages import SystemMessage, HumanMessage\n",
    "\n",
    "# Tạo một cuộc hội thoại với system message\n",
    "messages = [\n",
    "    SystemMessage(content=\"Bạn là một chuyên gia về LangChain, hãy trả lời ngắn gọn và chính xác.\"),\n",
    "    HumanMessage(content=\"LangChain là gì và tại sao nó hữu ích?\")\n",
    "]\n",
    "\n",
    "response = chat.invoke(messages)\n",
    "print(\"Claude (Expert) trả lời:\")\n",
    "print(\"-\" * 50)\n",
    "print(response.content)"
   ]
  },
  {
   "cell_type": "markdown",
   "metadata": {},
   "source": [
    "### 5.2 Streaming Response"
   ]
  },
  {
   "cell_type": "code",
   "execution_count": 6,
   "metadata": {
    "ExecuteTime": {
     "end_time": "2025-06-15T00:56:29.071226Z",
     "start_time": "2025-06-15T00:56:24.260303Z"
    }
   },
   "outputs": [
    {
     "name": "stdout",
     "output_type": "stream",
     "text": [
      "Claude đang trả lời (streaming):\n",
      "--------------------------------------------------\n",
      "RAG (Retrieval-Augmented Generation) là kỹ thuật kết hợp giữa việc truy xuất thông tin (retrieval) và sinh văn bản (generation). Cụ thể:\n",
      "\n",
      "1. Retrieval: Tìm kiếm và truy xuất thông tin liên quan từ cơ sở dữ liệu/kho kiến thức\n",
      "\n",
      "2. Augmentation: Bổ sung thông tin đã truy xuất vào prompt\n",
      "\n",
      "3. Generation: Sử dụng mô hình ngôn ngữ để tạo câu trả lời dựa trên prompt đã được tăng cường\n",
      "\n",
      "Ưu điểm chính:\n",
      "- Cải thiện độ chính xác\n",
      "- Giảm \"hallucination\" \n",
      "- Có thể cập nhật kiến thức mà không cần retrain mô hình\n",
      "- Minh bạch về nguồn thông tin\n",
      "\n",
      "RAG thường được sử dụng trong chatbot, hệ thống hỏi đáp và các ứng dụng AI cần độ chính xác cao."
     ]
    }
   ],
   "source": [
    "# Streaming để nhận response theo từng phần\n",
    "print(\"Claude đang trả lời (streaming):\")\n",
    "print(\"-\" * 50)\n",
    "\n",
    "for chunk in chat.stream(\"Giải thích ngắn gọn về RAG (Retrieval-Augmented Generation)\"):\n",
    "    print(chunk.content, end=\"\", flush=True)"
   ]
  },
  {
   "cell_type": "markdown",
   "metadata": {},
   "source": [
    "## 6. Các lưu ý quan trọng\n",
    "\n",
    "### 6.1 Về API Key\n",
    "- **Bảo mật**: Không bao giờ share API key công khai\n",
    "- **Giới hạn**: Mỗi API key có giới hạn rate limit và usage\n",
    "- **Monitoring**: Theo dõi usage tại https://console.anthropic.com/\n",
    "\n",
    "### 6.2 Về Models\n",
    "- **Claude 3 Opus**: Mạnh nhất, phù hợp cho task phức tạp\n",
    "- **Claude 3 Sonnet**: Cân bằng giữa hiệu năng và chi phí\n",
    "- **Claude 3 Haiku**: Nhanh và rẻ nhất, phù hợp cho task đơn giản\n",
    "\n",
    "### 6.3 Best Practices\n",
    "1. Luôn handle exceptions khi gọi API\n",
    "2. Sử dụng temperature phù hợp với use case\n",
    "3. Giới hạn max_tokens để kiểm soát chi phí\n",
    "4. Cache response khi có thể để tránh gọi API lặp lại"
   ]
  },
  {
   "cell_type": "markdown",
   "metadata": {},
   "source": [
    "## 7. Tổng kết\n",
    "\n",
    "Trong notebook này, chúng ta đã:\n",
    "- ✅ Cài đặt LangChain và langchain-anthropic\n",
    "- ✅ Cấu hình API key an toàn với python-dotenv\n",
    "- ✅ Khởi tạo và test ChatAnthropic\n",
    "- ✅ Thực hiện các ví dụ cơ bản và nâng cao\n",
    "\n",
    "Bây giờ bạn đã sẵn sàng để xây dựng các ứng dụng phức tạp hơn với Claude và LangChain!"
   ]
  },
  {
   "cell_type": "code",
   "execution_count": 7,
   "metadata": {
    "ExecuteTime": {
     "end_time": "2025-06-15T00:56:40.469180Z",
     "start_time": "2025-06-15T00:56:40.460920Z"
    }
   },
   "outputs": [
    {
     "ename": "SyntaxError",
     "evalue": "f-string: expecting '=', or '!', or ':', or '}' (4255267232.py, line 7)",
     "output_type": "error",
     "traceback": [
      "  \u001b[36mCell\u001b[39m\u001b[36m \u001b[39m\u001b[32mIn[7]\u001b[39m\u001b[32m, line 7\u001b[39m\n\u001b[31m    \u001b[39m\u001b[31mprint(f\"- LangChain-Anthropic: {langchain_anthropic.}\")\u001b[39m\n                                                       ^\n\u001b[31mSyntaxError\u001b[39m\u001b[31m:\u001b[39m f-string: expecting '=', or '!', or ':', or '}'\n"
     ]
    }
   ],
   "source": [
    "# Cell cuối cùng - Kiểm tra version\n",
    "import langchain\n",
    "import langchain_anthropic\n",
    "\n",
    "print(\"📦 Phiên bản các thư viện:\")\n",
    "print(f\"- LangChain: {langchain.__version__}\")\n",
    "print(f\"- LangChain-Anthropic: {langchain_anthropic.chat_models.}\")"
   ]
  }
 ],
 "metadata": {
  "kernelspec": {
   "display_name": "Python (langchain_env)",
   "language": "python",
   "name": "langchain_env"
  },
  "language_info": {
   "codemirror_mode": {
    "name": "ipython",
    "version": 3
   },
   "file_extension": ".py",
   "mimetype": "text/x-python",
   "name": "python",
   "nbconvert_exporter": "python",
   "pygments_lexer": "ipython3",
   "version": "3.12.3"
  }
 },
 "nbformat": 4,
 "nbformat_minor": 4
}
