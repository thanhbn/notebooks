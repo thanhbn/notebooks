{
 "cells": [
  {
   "cell_type": "markdown",
   "id": "53adb059",
   "metadata": {},
   "source": [
    "# LangGraph Advanced – Part 2️⃣: Data Cleaning Pipeline"
   ]
  },
  {
   "cell_type": "markdown",
   "id": "f7af0aa8",
   "metadata": {},
   "source": [
    "ETL pipeline làm sạch CSV: dùng pandas + Claude để gợi ý sửa lỗi, sau đó áp dụng."
   ]
  },
  {
   "cell_type": "code",
   "execution_count": null,
   "id": "c8c182b6",
   "metadata": {},
   "outputs": [],
   "source": [
    "%pip install -q langgraph langchain langchain-anthropic pandas tiktoken"
   ]
  },
  {
   "cell_type": "code",
   "execution_count": null,
   "id": "4653bdce",
   "metadata": {},
   "outputs": [],
   "source": [
    "             import pandas as pd\n",
    "             from langgraph.graph import StateGraph, MessageState\n",
    "             from langchain_anthropic import ChatAnthropic\n",
    "             from langchain.schema import HumanMessage\n",
    "\n",
    "             CSV_PATH = \"dirty_data.csv\"\n",
    "             OUTPUT_PATH = \"clean_data.csv\"\n",
    "             llm = ChatAnthropic(model_name=\"claude-3-sonnet-20240229\", temperature=0.2)\n",
    "\n",
    "             class DataState(MessageState):\n",
    "                 df: pd.DataFrame | None = None\n",
    "\n",
    "             def load(_):\n",
    "                 return DataState(df=pd.read_csv(CSV_PATH))\n",
    "\n",
    "             def generate_instructions(state: DataState):\n",
    "                 preview = state.df.head(20).to_csv(index=False)\n",
    "                 prompt = f\"\"\"Phát hiện vấn đề chất lượng dữ liệu và viết code pandas để làm sạch:\n",
    "\n",
    "CSV:\n",
    "{preview}\n",
    "\"\"\"\n",
    "                 code_block = llm([HumanMessage(content=prompt)]).content\n",
    "                 state.df.to_csv(\"_raw_preview.csv\", index=False)\n",
    "                 # Lưu hướng dẫn để dev xem, demo:\n",
    "                 with open(\"clean_instructions.md\", \"w\", encoding=\"utf-8\") as f:\n",
    "                     f.write(code_block)\n",
    "                 return state\n",
    "\n",
    "             g = StateGraph(DataState)\n",
    "             g.add_node(\"load\", load)\n",
    "             g.add_node(\"analyze\", generate_instructions)\n",
    "             g.set_entry_point(\"load\")\n",
    "             g.add_edge(\"load\", \"analyze\")\n",
    "             g.compile().invoke(DataState())\n"
   ]
  }
 ],
 "metadata": {},
 "nbformat": 4,
 "nbformat_minor": 5
}
