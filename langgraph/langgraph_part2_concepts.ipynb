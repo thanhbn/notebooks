{
 "cells": [
  {
   "cell_type": "markdown",
   "id": "c625c6b2",
   "metadata": {},
   "source": [
    "# LangGraph Tutorial – Part 2️⃣: Khái niệm nền tảng"
   ]
  },
  {
   "cell_type": "markdown",
   "id": "ec5cf8db",
   "metadata": {},
   "source": [
    "**Các khái niệm chính:**\n",
    "\n",
    "* **StateGraph** – đồ thị workflow.  \n",
    "* **MessageState** – lớp lưu trạng thái xuyên suốt.  \n",
    "* **Node** – hàm/ lớp xử lý State rồi trả State.  \n",
    "* **Edge** – điều hướng giữa node.\n",
    "\n",
    "![](https://raw.githubusercontent.com/langchain-ai/langgraph/main/docs/imgs/langgraph_architecture.png)\n",
    "\n",
    "> Bạn nên đọc docs chính thức để hiểu sâu: https://python.langgraph.org/"
   ]
  }
 ],
 "metadata": {},
 "nbformat": 4,
 "nbformat_minor": 5
}
