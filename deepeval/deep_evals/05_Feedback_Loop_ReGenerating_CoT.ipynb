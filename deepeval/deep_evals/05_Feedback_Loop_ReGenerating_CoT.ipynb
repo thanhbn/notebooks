{
 "cells": [
  {
   "cell_type": "markdown",
   "id": "49bf983d",
   "metadata": {},
   "source": [
    "# 05 – Feedback Loop: Tái tạo CoT dựa trên đánh giá"
   ]
  },
  {
   "cell_type": "markdown",
   "id": "64f7c95f",
   "metadata": {},
   "source": [
    "Vòng lặp tự động cải thiện prompt khi LogicalFlowMetric dưới ngưỡng."
   ]
  },
  {
   "cell_type": "code",
   "execution_count": null,
   "id": "f32ed0af",
   "metadata": {},
   "outputs": [],
   "source": [
    "from deepeval import LLMTestCase, assert_test\n",
    "from deepeval.metrics.geval import GEval\n",
    "from langgraph.graph import StateGraph\n",
    "from langchain.chat_models import ChatOpenAI\n",
    "\n",
    "llm = ChatOpenAI(model_name='gpt-3.5-turbo')\n",
    "\n",
    "logical_prompt = \"Chấm 1 nếu chuỗi suy luận hợp lý; 0 nếu không:\\n{actual_output}\"\n",
    "LogicalFlow = GEval(name=\"LogicalFlow\", prompt=logical_prompt, threshold=0.7)\n",
    "\n",
    "def build_agent(prompt: str):\n",
    "    g = StateGraph(llm=llm)\n",
    "    g.add_system_message(prompt)\n",
    "    g.add_user_message(\"Tính căn bậc hai của 65?\")\n",
    "    return g\n",
    "\n",
    "base_prompt = \"Bạn là trợ lý toán học, giải thích từng bước.\"\n",
    "for i in range(5):\n",
    "    agent = build_agent(base_prompt)\n",
    "    res = agent.run()\n",
    "    cot = res.cot\n",
    "    case = LLMTestCase(input=\"sqrt(65)\", actual_output=cot)\n",
    "    passed = assert_test(case, [LogicalFlow], raise_error=False)\n",
    "    if passed:\n",
    "        print(f\"✅ Thành công ở vòng {i+1}\")\n",
    "        break\n",
    "    reason = case.feedback[0].failure_reasons[0]\n",
    "    print(f\"❌ Vòng {i+1} thất bại: {reason}\")\n",
    "    base_prompt += f\"\\n# Chú ý sửa lỗi: {reason}\" "
   ]
  }
 ],
 "metadata": {},
 "nbformat": 4,
 "nbformat_minor": 5
}
