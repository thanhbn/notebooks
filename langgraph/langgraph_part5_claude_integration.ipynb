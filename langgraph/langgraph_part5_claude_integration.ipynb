{
 "cells": [
  {
   "cell_type": "markdown",
   "id": "9af986ec",
   "metadata": {},
   "source": [
    "# LangGraph Tutorial – Part 5️⃣: Tích hợp Claude (Anthropic)"
   ]
  },
  {
   "cell_type": "markdown",
   "id": "8176cbd2",
   "metadata": {},
   "source": [
    "Sử dụng **ChatAnthropic** từ `langchain_anthropic` để gọi Claude."
   ]
  },
  {
   "cell_type": "code",
   "execution_count": null,
   "id": "ca0be618",
   "metadata": {},
   "outputs": [],
   "source": [
    "from langchain_anthropic import ChatAnthropic\n",
    "from langchain.schema import HumanMessage\n",
    "from langgraph.graph import StateGraph, MessageState\n",
    "\n",
    "llm = ChatAnthropic(model_name=\"claude-3-opus-20240229\", temperature=0.1)\n",
    "\n",
    "class ChatState(MessageState):\n",
    "    messages: list[str] = []\n",
    "\n",
    "def user_prompt(state: ChatState):\n",
    "    state.messages.append(\"Hãy giới thiệu về LangGraph ngắn gọn.\")\n",
    "    return state\n",
    "\n",
    "def claude_reply(state: ChatState):\n",
    "    resp = llm([HumanMessage(content=state.messages[-1])]).content\n",
    "    state.messages.append(resp)\n",
    "    return state\n",
    "\n",
    "g = StateGraph(ChatState)    .add_node(\"ask\", user_prompt)    .add_node(\"reply\", claude_reply)    .set_entry_point(\"ask\")    .add_edge(\"ask\", \"reply\")    .compile()\n",
    "\n",
    "g.invoke(ChatState()).messages[-1]"
   ]
  }
 ],
 "metadata": {},
 "nbformat": 4,
 "nbformat_minor": 5
}
