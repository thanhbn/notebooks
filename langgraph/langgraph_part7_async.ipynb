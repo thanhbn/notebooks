{
 "cells": [
  {
   "cell_type": "markdown",
   "id": "4e512031",
   "metadata": {},
   "source": [
    "# LangGraph Tutorial – Part 7️⃣: Bất đồng bộ & song song hoá"
   ]
  },
  {
   "cell_type": "markdown",
   "id": "be8e2cca",
   "metadata": {},
   "source": [
    "Ví dụ node async"
   ]
  },
  {
   "cell_type": "code",
   "execution_count": null,
   "id": "c4966ad5",
   "metadata": {},
   "outputs": [],
   "source": [
    "import asyncio\n",
    "from langgraph.graph import StateGraph, MessageState\n",
    "\n",
    "class S(MessageState): log:list[str]=[]\n",
    "\n",
    "async def wait(state:S):\n",
    "    await asyncio.sleep(0.2)\n",
    "    state.log.append(\"done async\")\n",
    "    return state\n",
    "\n",
    "g = StateGraph(S).add_node(\"w\", wait, is_async=True).set_entry_point(\"w\").compile()\n",
    "asyncio.run(g.ainvoke(S()))"
   ]
  }
 ],
 "metadata": {},
 "nbformat": 4,
 "nbformat_minor": 5
}
