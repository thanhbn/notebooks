{
 "cells": [
  {
   "cell_type": "markdown",
   "id": "b6a04510",
   "metadata": {},
   "source": [
    "# LangGraph Tutorial – Part 4️⃣: Rẽ nhánh & vòng lặp"
   ]
  },
  {
   "cell_type": "markdown",
   "id": "c39f2dc5",
   "metadata": {},
   "source": [
    "Thêm `add_conditional_edges` để rẽ nhánh"
   ]
  },
  {
   "cell_type": "code",
   "execution_count": null,
   "id": "56652c53",
   "metadata": {},
   "outputs": [],
   "source": [
    "from random import random\n",
    "from langgraph.graph import StateGraph, MessageState\n",
    "\n",
    "class ChatState(MessageState):\n",
    "    messages: list[str] = []\n",
    "\n",
    "def start(state: ChatState):\n",
    "    state.messages.append(\"Bắt đầu\")\n",
    "    return state\n",
    "\n",
    "def branch(state: ChatState) -> str:\n",
    "    return \"joke\" if random() < 0.5 else \"fact\"\n",
    "\n",
    "def joke(state: ChatState):\n",
    "    state.messages.append(\"🤡 Đây là joke\")\n",
    "    return state\n",
    "\n",
    "def fact(state: ChatState):\n",
    "    state.messages.append(\"📚 Đây là fact\")\n",
    "    return state\n",
    "\n",
    "g = StateGraph(ChatState)    .add_node(\"start\", start)    .add_node(\"branch\", branch)    .add_conditional_edges(\"branch\", {\"joke\": \"joke\", \"fact\": \"fact\"})    .add_node(\"joke\", joke)    .add_node(\"fact\", fact)    .set_entry_point(\"start\")    .compile()\n",
    "\n",
    "g.invoke(ChatState()).messages"
   ]
  }
 ],
 "metadata": {},
 "nbformat": 4,
 "nbformat_minor": 5
}
