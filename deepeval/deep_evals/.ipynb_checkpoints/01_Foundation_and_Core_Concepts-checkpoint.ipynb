{
 "cells": [
  {
   "cell_type": "markdown",
   "id": "aad6c113",
   "metadata": {},
   "source": [
    "# 01 – Nền tảng và Khái niệm cốt lõi\n",
    "Mục tiêu: Làm quen với DeepEval và cách viết test đơn giản."
   ]
  },
  {
   "cell_type": "markdown",
   "id": "a31ca0e8",
   "metadata": {},
   "source": [
    "## Cài đặt"
   ]
  },
  {
   "cell_type": "code",
   "id": "961f019d",
   "metadata": {
    "ExecuteTime": {
     "end_time": "2025-06-20T01:01:53.852194Z",
     "start_time": "2025-06-20T01:01:53.801643Z"
    }
   },
   "source": [
    "!pip install deepeval langchain pytest -q"
   ],
   "outputs": [],
   "execution_count": 1
  },
  {
   "cell_type": "markdown",
   "id": "3ee6d281",
   "metadata": {},
   "source": [
    "## Thiết lập biến môi trường"
   ]
  },
  {
   "cell_type": "code",
   "id": "a656034d",
   "metadata": {
    "ExecuteTime": {
     "end_time": "2025-06-20T02:11:07.488699Z",
     "start_time": "2025-06-20T02:11:07.483997Z"
    }
   },
   "source": [
    "import os\n",
    "os.environ['OPENAI_API_KEY'] = 'YOUR_API_KEY'  # Thay bằng khóa thật"
   ],
   "outputs": [],
   "execution_count": 3
  },
  {
   "metadata": {
    "ExecuteTime": {
     "end_time": "2025-06-20T02:15:53.131137Z",
     "start_time": "2025-06-20T02:15:53.080990Z"
    }
   },
   "cell_type": "code",
   "source": "!pip list\n",
   "id": "d0a06296ccd1a7ba",
   "outputs": [],
   "execution_count": 14
  },
  {
   "cell_type": "markdown",
   "id": "2e597fff",
   "metadata": {},
   "source": [
    "## LLMTestCase cơ bản"
   ]
  },
  {
   "cell_type": "code",
   "id": "bc3dd3c7",
   "metadata": {
    "ExecuteTime": {
     "end_time": "2025-06-20T02:15:30.357890Z",
     "start_time": "2025-06-20T02:15:30.325003Z"
    }
   },
   "source": [
    "from deepeval import assert_test\n",
    "from deepeval.test_case import LLMTestCase\n",
    "from deepeval.metrics.answer_relevancy.answer_relevancy import AnswerRelevancyMetric\n",
    "\n",
    "test_case = LLMTestCase(\n",
    "    input=\"Xin chào, thủ đô Việt Nam là gì?\",\n",
    "    actual_output=\"Thủ đô của Việt Nam là Hà Nội.\"\n",
    ")\n",
    "metric = AnswerRelevancyMetric(threshold=0.7)\n",
    "assert_test(test_case, metrics=[metric])"
   ],
   "outputs": [
    {
     "ename": "ImportError",
     "evalue": "cannot import name 'assert_test' from 'deepeval' (unknown location)",
     "output_type": "error",
     "traceback": [
      "\u001B[31m---------------------------------------------------------------------------\u001B[39m",
      "\u001B[31mImportError\u001B[39m                               Traceback (most recent call last)",
      "\u001B[36mCell\u001B[39m\u001B[36m \u001B[39m\u001B[32mIn[13]\u001B[39m\u001B[32m, line 1\u001B[39m\n\u001B[32m----> \u001B[39m\u001B[32m1\u001B[39m \u001B[38;5;28;01mfrom\u001B[39;00m\u001B[38;5;250m \u001B[39m\u001B[34;01mdeepeval\u001B[39;00m\u001B[38;5;250m \u001B[39m\u001B[38;5;28;01mimport\u001B[39;00m assert_test\n\u001B[32m      2\u001B[39m \u001B[38;5;28;01mfrom\u001B[39;00m\u001B[38;5;250m \u001B[39m\u001B[34;01mdeepeval\u001B[39;00m\u001B[34;01m.\u001B[39;00m\u001B[34;01mtest_case\u001B[39;00m\u001B[38;5;250m \u001B[39m\u001B[38;5;28;01mimport\u001B[39;00m LLMTestCase\n\u001B[32m      3\u001B[39m \u001B[38;5;28;01mfrom\u001B[39;00m\u001B[38;5;250m \u001B[39m\u001B[34;01mdeepeval\u001B[39;00m\u001B[34;01m.\u001B[39;00m\u001B[34;01mmetrics\u001B[39;00m\u001B[34;01m.\u001B[39;00m\u001B[34;01manswer_relevancy\u001B[39;00m\u001B[34;01m.\u001B[39;00m\u001B[34;01manswer_relevancy\u001B[39;00m\u001B[38;5;250m \u001B[39m\u001B[38;5;28;01mimport\u001B[39;00m AnswerRelevancyMetric\n",
      "\u001B[31mImportError\u001B[39m: cannot import name 'assert_test' from 'deepeval' (unknown location)"
     ]
    }
   ],
   "execution_count": 13
  },
  {
   "cell_type": "markdown",
   "id": "17d06c37",
   "metadata": {},
   "source": [
    "### Tích hợp với pytest"
   ]
  },
  {
   "cell_type": "code",
   "execution_count": null,
   "id": "9dac380d",
   "metadata": {},
   "outputs": [],
   "source": [
    "# file: test_sample.py\n",
    "from deepeval import assert_test, LLMTestCase\n",
    "from deepeval.metrics.hallucination import HallucinationMetric\n",
    "\n",
    "metric = HallucinationMetric(threshold=0.5)\n",
    "\n",
    "def test_capital():\n",
    "    case = LLMTestCase(\n",
    "        input=\"Thủ đô Lào là gì?\",\n",
    "        actual_output=\"Thủ đô của Lào là Viêng Chăn.\"\n",
    "    )\n",
    "    assert_test(case, [metric])"
   ]
  },
  {
   "cell_type": "markdown",
   "id": "e70b1fa6",
   "metadata": {},
   "source": [
    "Chạy `pytest -q` để thực thi."
   ]
  }
 ],
 "metadata": {
  "kernelspec": {
   "name": "python3",
   "language": "python",
   "display_name": "Python 3 (ipykernel)"
  }
 },
 "nbformat": 4,
 "nbformat_minor": 5
}
