{
 "cells": [
  {
   "cell_type": "markdown",
   "metadata": {},
   "source": [
    "## ⚠️ Lưu ý về đường dẫn\n",
    "Notebook này nằm trong thư mục con `00_Setup_and_Intro/`, nhưng virtual environment sẽ được tạo ở thư mục gốc project (`/mnt/d/llm/notebooks/`). Vì vậy:\n",
    "- Các lệnh sẽ sử dụng `../` để truy cập thư mục parent\n",
    "- Virtual environment path: `../langchain_env/`\n",
    "- Requirements file: `../requirements.txt`"
   ]
  },
  {
   "cell_type": "markdown",
   "metadata": {},
   "source": [
    "# Thiết lập Virtual Environment cho LangChain\n",
    "\n",
    "Notebook này hướng dẫn cách thiết lập môi trường ảo (virtual environment) để tránh lỗi `externally-managed-environment` trên các hệ thống Linux/Ubuntu mới.\n",
    "\n",
    "## Tại sao cần Virtual Environment?\n",
    "\n",
    "- **Tránh xung đột**: Các package không ảnh hưởng đến system Python\n",
    "- **Quản lý dependencies**: Mỗi project có môi trường riêng\n",
    "- **Bảo mật**: Không cần quyền admin để cài đặt packages\n",
    "- **Khuyến nghị**: Best practice cho Python development"
   ]
  },
  {
   "cell_type": "code",
   "metadata": {
    "ExecuteTime": {
     "end_time": "2025-06-17T15:30:05.262464Z",
     "start_time": "2025-06-17T15:30:05.085944Z"
    }
   },
   "source": [
    "# Kiểm tra cấu trúc thư mục hiện tại\n",
    "!pwd\n",
    "!echo \"\\n📁 Cấu trúc thư mục:\"\n",
    "!echo \"   /mnt/d/llm/notebooks/           (thư mục gốc project)\"\n",
    "!echo \"   ├── langchain_env/              (virtual environment sẽ ở đây)\"\n",
    "!echo \"   └── 00_Setup_and_Intro/         (thư mục hiện tại)\"\n",
    "!echo \"       └── notebook này\""
   ],
   "outputs": [
    {
     "name": "stderr",
     "output_type": "stream",
     "text": [
      "'pwd' is not recognized as an internal or external command,\n",
      "operable program or batch file.\n"
     ]
    },
    {
     "name": "stdout",
     "output_type": "stream",
     "text": [
      "\"\\n?? C?u tr£c thu m?c:\"\n",
      "\"   /mnt/d/llm/notebooks/           (thu m?c g?c project)\"\n",
      "\"   ÃÄÄ langchain_env/              (virtual environment s? ? dƒy)\"\n",
      "\"   ÀÄÄ 00_Setup_and_Intro/         (thu m?c hi?n t?i)\"\n",
      "\"       ÀÄÄ notebook n…y\"\n"
     ]
    }
   ],
   "execution_count": 1
  },
  {
   "cell_type": "markdown",
   "metadata": {},
   "source": [
    "## 1. Tạo Virtual Environment\n",
    "\n",
    "Chạy các lệnh sau trong terminal (không phải trong Jupyter):"
   ]
  },
  {
   "cell_type": "code",
   "metadata": {
    "ExecuteTime": {
     "end_time": "2025-06-17T15:30:23.209610Z",
     "start_time": "2025-06-17T15:30:14.046049Z"
    }
   },
   "source": [
    "# Tạo virtual environment trong thư mục parent\n",
    "!cd .. && python3 -m venv langchain_env"
   ],
   "outputs": [],
   "execution_count": 2
  },
  {
   "cell_type": "code",
   "metadata": {
    "jupyter": {
     "is_executing": true
    },
    "ExecuteTime": {
     "start_time": "2025-06-17T15:34:44.227307Z"
    }
   },
   "source": [
    "# Cài đặt pip và các tools cơ bản trong venv\n",
    "!cmd ../langchain_env/bin/pip install --upgrade pip"
   ],
   "outputs": [],
   "execution_count": null
  },
  {
   "metadata": {},
   "cell_type": "code",
   "outputs": [],
   "execution_count": null,
   "source": ""
  },
  {
   "cell_type": "markdown",
   "metadata": {},
   "source": [
    "### ⚠️ Lưu ý quan trọng:\n",
    "- Sau khi chạy các cell trên, bạn cần **restart kernel** và chọn kernel mới `Python (langchain_env)`\n",
    "- Đi tới: **Kernel → Change kernel → Python (langchain_env)**\n",
    "- Tất cả các cài đặt package sau này sẽ được thực hiện trong kernel mới"
   ]
  },
  {
   "cell_type": "code",
   "metadata": {
    "ExecuteTime": {
     "end_time": "2025-06-17T15:31:47.942534Z",
     "start_time": "2025-06-17T15:31:47.903010Z"
    }
   },
   "source": [
    "# Thêm kernel cho Jupyter\n",
    "!cmd ../langchain_env/bin/python -m ipykernel install --user --name=langchain_env --display-name='Python (langchain_env)'"
   ],
   "outputs": [
    {
     "name": "stderr",
     "output_type": "stream",
     "text": [
      "'..' is not recognized as an internal or external command,\n",
      "operable program or batch file.\n"
     ]
    }
   ],
   "execution_count": 7
  },
  {
   "cell_type": "code",
   "metadata": {},
   "source": [
    "# Kiểm tra virtual environment đã được tạo chưa\n",
    "!ls -la ../langchain_env/\n",
    "print(\"\\n✅ Virtual environment đã được tạo thành công!\")\n",
    "print(\"🔄 Vui lòng chuyển sang kernel 'Python (langchain_env)' để tiếp tục\")"
   ],
   "outputs": [],
   "execution_count": null
  },
  {
   "cell_type": "markdown",
   "metadata": {},
   "source": [
    "## 2. Cài đặt các packages cần thiết\n",
    "\n",
    "Sau khi đã kích hoạt virtual environment, cài đặt các packages:"
   ]
  },
  {
   "cell_type": "code",
   "execution_count": 1,
   "metadata": {
    "ExecuteTime": {
     "end_time": "2025-06-14T18:15:02.970317Z",
     "start_time": "2025-06-14T18:15:01.723749Z"
    }
   },
   "outputs": [
    {
     "name": "stdout",
     "output_type": "stream",
     "text": [
      "/mnt/d/llm/notebooks/langchain_env/bin/pip3\n",
      "\u001B[31mERROR: Could not open requirements file: [Errno 2] No such file or directory: '../requirements.txt'\u001B[0m\u001B[31m\n",
      "\u001B[0m"
     ]
    }
   ],
   "source": [
    "# Cài đặt tất cả requirements (chỉ chạy sau khi đã chuyển sang kernel langchain_env)\n",
    "!which pip3\n",
    "!pip install -r ../requirements.txt"
   ]
  },
  {
   "cell_type": "code",
   "execution_count": 11,
   "metadata": {
    "ExecuteTime": {
     "end_time": "2025-06-14T18:00:20.734103Z",
     "start_time": "2025-06-14T18:00:20.476471Z"
    }
   },
   "outputs": [
    {
     "name": "stdout",
     "output_type": "stream",
     "text": [
      "/usr/bin/pip3\r\n",
      "/bin/bash: line 1: langchain_env/bin/activate: No such file or directory\r\n"
     ]
    }
   ],
   "source": [
    "!source ../langchain_env/bin/activate & which pip3\n",
    "!source langchain_env/bin/activate && which pip3 && python --version\n"
   ]
  },
  {
   "cell_type": "markdown",
   "metadata": {},
   "source": [
    "## 3. Script tự động setup (cho Linux/Mac)\n",
    "\n",
    "Tạo script để tự động hóa quá trình setup:"
   ]
  },
  {
   "cell_type": "code",
   "execution_count": 15,
   "metadata": {
    "ExecuteTime": {
     "end_time": "2025-06-14T18:04:03.219592Z",
     "start_time": "2025-06-14T18:04:03.208014Z"
    }
   },
   "outputs": [
    {
     "name": "stdout",
     "output_type": "stream",
     "text": [
      "✅ Đã tạo script setup_env.sh\n",
      "\n",
      "📋 Để chạy script, sử dụng lệnh:\n",
      "./setup_env.sh\n"
     ]
    }
   ],
   "source": [
    "# Tạo setup script\n",
    "setup_script = \"\"\"#!/bin/bash\n",
    "\n",
    "# Setup script for LangChain learning environment\n",
    "\n",
    "echo \"🚀 Starting LangChain environment setup...\"\n",
    "\n",
    "# Check if virtual environment exists\n",
    "if [ -d \"langchain_env\" ]; then\n",
    "    echo \"⚠️  Virtual environment already exists. Activating...\"\n",
    "else\n",
    "    echo \"📦 Creating virtual environment...\"\n",
    "    python3 -m venv langchain_env\n",
    "fi\n",
    "\n",
    "# Activate virtual environment\n",
    "source langchain_env/bin/activate\n",
    "\n",
    "# Upgrade pip\n",
    "echo \"📦 Upgrading pip...\"\n",
    "pip install --upgrade pip\n",
    "\n",
    "# Install Jupyter\n",
    "echo \"📦 Installing Jupyter...\"\n",
    "pip install jupyter ipykernel\n",
    "\n",
    "# Add Jupyter kernel\n",
    "echo \"🔧 Adding Jupyter kernel...\"\n",
    "python -m ipykernel install --user --name=langchain_env --display-name='Python (langchain_env)'\n",
    "\n",
    "# Install requirements if file exists\n",
    "if [ -f \"requirements.txt\" ]; then\n",
    "    echo \"📦 Installing requirements...\"\n",
    "    pip install -r requirements.txt\n",
    "else\n",
    "    echo \"📦 Installing basic packages...\"\n",
    "    pip install langchain langchain-anthropic python-dotenv\n",
    "fi\n",
    "\n",
    "echo \"✅ Setup complete!\"\n",
    "echo \"\"\n",
    "echo \"To activate the environment in the future, run:\"\n",
    "echo \"source langchain_env/bin/activate\"\n",
    "echo \"\"\n",
    "echo \"To start Jupyter with the correct kernel:\"\n",
    "echo \"jupyter notebook\"\n",
    "\"\"\"\n",
    "\n",
    "# Lưu script\n",
    "with open('../../setup_env.sh', 'w') as f:\n",
    "    f.write(setup_script)\n",
    "\n",
    "# Make executable\n",
    "import os\n",
    "os.chmod('../../setup_env.sh', 0o755)\n",
    "\n",
    "print(\"✅ Đã tạo script setup_env.sh\")\n",
    "print(\"\\n📋 Để chạy script, sử dụng lệnh:\")\n",
    "print(\"./setup_env.sh\")"
   ]
  },
  {
   "cell_type": "code",
   "execution_count": 16,
   "metadata": {
    "ExecuteTime": {
     "end_time": "2025-06-14T18:04:30.778506Z",
     "start_time": "2025-06-14T18:04:30.753770Z"
    }
   },
   "outputs": [
    {
     "name": "stdout",
     "output_type": "stream",
     "text": [
      "✅ Đã tạo script setup_env.sh trong thư mục gốc project\n",
      "\n",
      "📋 Để chạy script từ thư mục gốc (/mnt/d/llm/notebooks/):\n",
      "./setup_env.sh\n"
     ]
    }
   ],
   "source": [
    "# Tạo setup script\n",
    "setup_script = \"\"\"#!/bin/bash\n",
    "\n",
    "# Setup script for LangChain learning environment\n",
    "# Run this from the project root: /mnt/d/llm/notebooks/\n",
    "\n",
    "echo \"🚀 Starting LangChain environment setup...\"\n",
    "\n",
    "# Check if virtual environment exists\n",
    "if [ -d \"langchain_env\" ]; then\n",
    "    echo \"⚠️  Virtual environment already exists. Activating...\"\n",
    "else\n",
    "    echo \"📦 Creating virtual environment...\"\n",
    "    python3 -m venv langchain_env\n",
    "fi\n",
    "\n",
    "# Activate virtual environment\n",
    "source langchain_env/bin/activate\n",
    "\n",
    "# Upgrade pip\n",
    "echo \"📦 Upgrading pip...\"\n",
    "pip install --upgrade pip\n",
    "\n",
    "# Install Jupyter\n",
    "echo \"📦 Installing Jupyter...\"\n",
    "pip install jupyter ipykernel\n",
    "\n",
    "# Add Jupyter kernel\n",
    "echo \"🔧 Adding Jupyter kernel...\"\n",
    "python -m ipykernel install --user --name=langchain_env --display-name='Python (langchain_env)'\n",
    "\n",
    "# Install requirements if file exists\n",
    "if [ -f \"requirements.txt\" ]; then\n",
    "    echo \"📦 Installing requirements...\"\n",
    "    pip install -r requirements.txt\n",
    "else\n",
    "    echo \"📦 Installing basic packages...\"\n",
    "    pip install langchain langchain-anthropic python-dotenv\n",
    "fi\n",
    "\n",
    "echo \"✅ Setup complete!\"\n",
    "echo \"\"\n",
    "echo \"To activate the environment in the future, run:\"\n",
    "echo \"source langchain_env/bin/activate\"\n",
    "echo \"\"\n",
    "echo \"To start Jupyter with the correct kernel:\"\n",
    "echo \"jupyter notebook\"\n",
    "\"\"\"\n",
    "\n",
    "# Lưu script vào thư mục parent\n",
    "with open('../../setup_env.sh', 'w') as f:\n",
    "    f.write(setup_script)\n",
    "\n",
    "# Make executable\n",
    "import os\n",
    "os.chmod('../../setup_env.sh', 0o755)\n",
    "\n",
    "print(\"✅ Đã tạo script setup_env.sh trong thư mục gốc project\")\n",
    "print(\"\\n📋 Để chạy script từ thư mục gốc (/mnt/d/llm/notebooks/):\")\n",
    "print(\"./setup_env.sh\")"
   ]
  },
  {
   "cell_type": "code",
   "execution_count": 17,
   "metadata": {
    "ExecuteTime": {
     "end_time": "2025-06-14T18:04:52.968869Z",
     "start_time": "2025-06-14T18:04:50.406811Z"
    }
   },
   "outputs": [
    {
     "name": "stdout",
     "output_type": "stream",
     "text": [
      "📦 Kiểm tra packages:\n",
      "\n",
      "❌ langchain: Chưa cài đặt\n",
      "❌ langchain-anthropic: Chưa cài đặt\n",
      "❌ python-dotenv: Chưa cài đặt\n",
      "✅ jupyter: 1.1.1\n",
      "✅ ipykernel: 6.29.5\n"
     ]
    }
   ],
   "source": [
    "# Kiểm tra các packages đã cài\n",
    "import pkg_resources\n",
    "\n",
    "packages_to_check = [\n",
    "    'langchain',\n",
    "    'langchain-anthropic',\n",
    "    'python-dotenv',\n",
    "    'jupyter',\n",
    "    'ipykernel'\n",
    "]\n",
    "\n",
    "print(\"📦 Kiểm tra packages:\\n\")\n",
    "\n",
    "for package in packages_to_check:\n",
    "    try:\n",
    "        version = pkg_resources.get_distribution(package).version\n",
    "        print(f\"✅ {package}: {version}\")\n",
    "    except:\n",
    "        print(f\"❌ {package}: Chưa cài đặt\")"
   ]
  },
  {
   "cell_type": "markdown",
   "metadata": {},
   "source": [
    "## 5. Troubleshooting\n",
    "\n",
    "### Các lỗi thường gặp và cách xử lý:\n",
    "\n",
    "#### 1. Lỗi `externally-managed-environment`\n",
    "- **Nguyên nhân**: Python system được bảo vệ\n",
    "- **Giải pháp**: Sử dụng virtual environment (như hướng dẫn ở trên)\n",
    "\n",
    "#### 2. Jupyter không thấy virtual environment\n",
    "- **Nguyên nhân**: Kernel chưa được thêm\n",
    "- **Giải pháp**: Chạy lệnh add kernel (bước 6 ở trên)\n",
    "\n",
    "#### 3. Import error sau khi cài packages\n",
    "- **Nguyên nhân**: Jupyter đang dùng kernel sai\n",
    "- **Giải pháp**: Kernel > Change kernel > Python (langchain_env)\n",
    "\n",
    "#### 4. Permission denied khi tạo venv\n",
    "- **Nguyên nhân**: Không có quyền trong thư mục\n",
    "- **Giải pháp**: Chuyển sang thư mục home hoặc dùng sudo"
   ]
  },
  {
   "cell_type": "markdown",
   "metadata": {},
   "source": [
    "## 6. Best Practices\n",
    "\n",
    "### 📌 Luôn sử dụng virtual environment\n",
    "- Mỗi project một venv riêng\n",
    "- Đặt tên venv có ý nghĩa\n",
    "- Thêm venv vào .gitignore\n",
    "\n",
    "### 📌 Quản lý dependencies\n",
    "- Dùng requirements.txt hoặc pyproject.toml\n",
    "- Pin version cho production\n",
    "- Update thường xuyên\n",
    "\n",
    "### 📌 Jupyter best practices\n",
    "- Một kernel cho mỗi project\n",
    "- Clear output trước khi commit\n",
    "- Dùng notebook cho exploration, script cho production"
   ]
  },
  {
   "cell_type": "markdown",
   "metadata": {},
   "source": [
    "## 7. Cheatsheet - Quick Commands\n",
    "\n",
    "Lưu lại để tham khảo nhanh:"
   ]
  },
  {
   "cell_type": "code",
   "execution_count": 18,
   "metadata": {
    "ExecuteTime": {
     "end_time": "2025-06-14T18:06:11.859088Z",
     "start_time": "2025-06-14T18:06:11.847565Z"
    }
   },
   "outputs": [
    {
     "name": "stdout",
     "output_type": "stream",
     "text": [
      "📄 Cheatsheet:\n",
      "# VIRTUAL ENVIRONMENT CHEATSHEET\n",
      "\n",
      "## Cấu trúc thư mục\n",
      "/mnt/d/llm/notebooks/           # Thư mục gốc project\n",
      "├── langchain_env/              # Virtual environment\n",
      "├── requirements.txt            # Dependencies\n",
      "├── .env                        # API keys (DO NOT COMMIT!)\n",
      "├── 00_Setup_and_Intro/         # Setup notebooks\n",
      "└── 01_Models/                  # Model tutorials\n",
      "\n",
      "## Create & Activate (từ thư mục gốc)\n",
      "python3 -m venv langchain_env\n",
      "source langchain_env/bin/activate  # Linux/Mac\n",
      "langchain_env\\Scripts\\activate    # Windows\n",
      "\n",
      "## Deactivate\n",
      "deactivate\n",
      "\n",
      "## Install packages\n",
      "pip install langchain langchain-anthropic python-dotenv\n",
      "pip install -r requirements.txt\n",
      "\n",
      "## Save dependencies\n",
      "pip freeze > requirements.txt\n",
      "\n",
      "## Jupyter kernel\n",
      "python -m ipykernel install --user --name=langchain_env\n",
      "\n",
      "## Remove kernel\n",
      "jupyter kernelspec uninstall langchain_env\n",
      "\n",
      "## List kernels\n",
      "jupyter kernelspec list\n",
      "\n"
     ]
    }
   ],
   "source": [
    "cheatsheet = \"\"\"# VIRTUAL ENVIRONMENT CHEATSHEET\n",
    "\n",
    "## Cấu trúc thư mục\n",
    "/mnt/d/llm/notebooks/           # Thư mục gốc project\n",
    "├── langchain_env/              # Virtual environment\n",
    "├── requirements.txt            # Dependencies\n",
    "├── .env                        # API keys (DO NOT COMMIT!)\n",
    "├── 00_Setup_and_Intro/         # Setup notebooks\n",
    "└── 01_Models/                  # Model tutorials\n",
    "\n",
    "## Create & Activate (từ thư mục gốc)\n",
    "python3 -m venv langchain_env\n",
    "source langchain_env/bin/activate  # Linux/Mac\n",
    "langchain_env\\\\Scripts\\\\activate    # Windows\n",
    "\n",
    "## Deactivate\n",
    "deactivate\n",
    "\n",
    "## Install packages\n",
    "pip install langchain langchain-anthropic python-dotenv\n",
    "pip install -r requirements.txt\n",
    "\n",
    "## Save dependencies\n",
    "pip freeze > requirements.txt\n",
    "\n",
    "## Jupyter kernel\n",
    "python -m ipykernel install --user --name=langchain_env\n",
    "\n",
    "## Remove kernel\n",
    "jupyter kernelspec uninstall langchain_env\n",
    "\n",
    "## List kernels\n",
    "jupyter kernelspec list\n",
    "\"\"\"\n",
    "\n",
    "# Lưu cheatsheet vào thư mục parent\n",
    "with open('../../venv_cheatsheet.txt', 'w') as f:\n",
    "    f.write(cheatsheet)\n",
    "\n",
    "print(\"📄 Cheatsheet:\")\n",
    "print(cheatsheet)"
   ]
  },
  {
   "cell_type": "markdown",
   "metadata": {},
   "source": [
    "## Kết luận\n",
    "\n",
    "Bây giờ bạn đã có:\n",
    "- ✅ Virtual environment độc lập cho project\n",
    "- ✅ Jupyter kernel riêng\n",
    "- ✅ Có thể cài đặt packages không bị lỗi\n",
    "- ✅ Script và cheatsheet để reference\n",
    "\n",
    "**Next step**: Mở notebook `01_CaiDat_CauHinh_Claude.ipynb` và chọn kernel `Python (langchain_env)` để bắt đầu!"
   ]
  }
 ],
 "metadata": {
  "kernelspec": {
   "display_name": "Python 3 (ipykernel)",
   "language": "python",
   "name": "python3"
  },
  "language_info": {
   "codemirror_mode": {
    "name": "ipython",
    "version": 3
   },
   "file_extension": ".py",
   "mimetype": "text/x-python",
   "name": "python",
   "nbconvert_exporter": "python",
   "pygments_lexer": "ipython3",
   "version": "3.12.3"
  }
 },
 "nbformat": 4,
 "nbformat_minor": 4
}
