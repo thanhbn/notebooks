{
 "cells": [
  {
   "cell_type": "markdown",
   "id": "147f9131",
   "metadata": {},
   "source": [
    "# Khóa học LangGraph — Từ cơ bản đến nâng cao 🐍\n",
    "\n",
    "Notebook này giúp bạn **tự học toàn bộ LangGraph** thông qua các phần:\n",
    "\n",
    "1. Cài đặt & cấu hình môi trường  \n",
    "2. Khái niệm State Graph & Message State  \n",
    "3. Xây dựng graph cơ bản (linear)  \n",
    "4. Thêm điều kiện rẽ nhánh & vòng lặp  \n",
    "5. Tích hợp LangChain & OpenAI API  \n",
    "6. Xây dựng Agent đa công cụ  \n",
    "7. Quan sát & gỡ lỗi (visualize, callbacks)  \n",
    "8. Bất đồng bộ & song song hoá  \n",
    "9. Case Study: Pipeline RAG đơn giản  \n",
    "10. Bài tập thực hành + gợi ý đáp án\n",
    "\n",
    "> **Yêu cầu**: Python ≥ 3.10, API key OpenAI (hoặc provider tương đương)."
   ]
  },
  {
   "cell_type": "markdown",
   "id": "527f3cd7",
   "metadata": {},
   "source": [
    "## 1️⃣ Cài đặt gói cần thiết"
   ]
  },
  {
   "cell_type": "code",
   "execution_count": null,
   "id": "cf92cf2b",
   "metadata": {},
   "outputs": [],
   "source": [
    "# Cài đặt LangGraph & phụ thuộc ( chỉ chạy lần đầu )\n",
    "%pip install -q langgraph langchain openai tiktoken "
   ]
  },
  {
   "cell_type": "markdown",
   "id": "d3e73ddb",
   "metadata": {},
   "source": [
    "## 2️⃣ Khái niệm chính\n",
    "\n",
    "* **StateGraph**: đồ thị xác định các nút (node) & cạnh (edge) cho luồng xử lý.  \n",
    "* **MessageState**: đối tượng lưu trạng thái xuyên suốt khi graph chạy.  \n",
    "* **Node**: hàm Python thuần (hoặc lớp) — xử lý State rồi trả State.  \n",
    "* **Edge**: quy tắc điều hướng (mặc định tuần tự, có thể điều kiện)."
   ]
  },
  {
   "cell_type": "markdown",
   "id": "e81cd661",
   "metadata": {},
   "source": [
    "## 3️⃣ Ví dụ: Graph tuyến tính tối giản"
   ]
  },
  {
   "cell_type": "code",
   "execution_count": null,
   "id": "84da5ef2",
   "metadata": {},
   "outputs": [],
   "source": [
    "from langgraph.graph import StateGraph, MessageState\n",
    "\n",
    "# Bước 1 — Định nghĩa State class\n",
    "class ChatState(MessageState):\n",
    "    messages: list[str] = []\n",
    "\n",
    "# Bước 2 — Khai báo các node\n",
    "def greet(state: ChatState) -> ChatState:\n",
    "    state.messages.append(\"Xin chào!\")\n",
    "    return state\n",
    "\n",
    "def ask_name(state: ChatState) -> ChatState:\n",
    "    state.messages.append(\"Bạn tên gì?\")\n",
    "    return state\n",
    "\n",
    "# Bước 3 — Tạo đồ thị & thêm node, cạnh\n",
    "graph = StateGraph(ChatState)\n",
    "graph.add_node(\"greet\", greet)\n",
    "graph.add_node(\"ask_name\", ask_name)\n",
    "graph.set_entry_point(\"greet\")\n",
    "graph.add_edge(\"greet\", \"ask_name\")\n",
    "\n",
    "chat = graph.compile()\n",
    "\n",
    "# Chạy thử\n",
    "final_state = chat.invoke(ChatState())\n",
    "print(final_state.messages)"
   ]
  },
  {
   "cell_type": "markdown",
   "id": "91062561",
   "metadata": {},
   "source": [
    "## 4️⃣ Rẽ nhánh điều kiện"
   ]
  },
  {
   "cell_type": "code",
   "execution_count": null,
   "id": "c072a6eb",
   "metadata": {},
   "outputs": [],
   "source": [
    "from random import random\n",
    "\n",
    "def random_branch(state: ChatState) -> str:\n",
    "    return \"joke\" if random() < 0.5 else \"fact\"\n",
    "\n",
    "def tell_joke(state: ChatState) -> ChatState:\n",
    "    state.messages.append(\"🤡 Đây là một câu đùa!\")\n",
    "    return state\n",
    "\n",
    "def fun_fact(state: ChatState) -> ChatState:\n",
    "    state.messages.append(\"📚 Bạn biết không…\")\n",
    "    return state\n",
    "\n",
    "graph2 = StateGraph(ChatState)\n",
    "graph2.add_node(\"start\", greet)\n",
    "graph2.add_node(\"branch\", random_branch)          # trả về id cạnh kế tiếp\n",
    "graph2.add_conditional_edges(\"branch\", {\"joke\": \"joke\", \"fact\": \"fact\"})\n",
    "graph2.add_node(\"joke\", tell_joke)\n",
    "graph2.add_node(\"fact\", fun_fact)\n",
    "graph2.set_entry_point(\"start\")\n",
    "\n",
    "chat2 = graph2.compile()\n",
    "print(chat2.invoke(ChatState()).messages)"
   ]
  },
  {
   "cell_type": "markdown",
   "id": "2155caf4",
   "metadata": {},
   "source": [
    "## 5️⃣ Tích hợp LangChain & OpenAI"
   ]
  },
  {
   "cell_type": "code",
   "execution_count": null,
   "id": "c07a262d",
   "metadata": {},
   "outputs": [],
   "source": [
    "from langchain_openai import ChatOpenAI\n",
    "from langchain.schema import HumanMessage\n",
    "\n",
    "llm = ChatOpenAI(model=\"gpt-4o-mini\", temperature=0.1)\n",
    "\n",
    "def llm_node(state: ChatState) -> ChatState:\n",
    "    last_msg = state.messages[-1] if state.messages else \"Xin chào\"\n",
    "    response = llm([HumanMessage(content=last_msg)]).content\n",
    "    state.messages.append(response)\n",
    "    return state\n",
    "\n",
    "graph3 = StateGraph(ChatState)\n",
    "graph3.add_node(\"user_prompt\", ask_name)\n",
    "graph3.add_node(\"llm_response\", llm_node)\n",
    "graph3.set_entry_point(\"user_prompt\")\n",
    "graph3.add_edge(\"user_prompt\", \"llm_response\")\n",
    "\n",
    "chat3 = graph3.compile()\n",
    "print(chat3.invoke(ChatState()).messages[-1])"
   ]
  },
  {
   "cell_type": "markdown",
   "id": "f277673f",
   "metadata": {},
   "source": [
    "## 6️⃣ Quan sát & gỡ lỗi"
   ]
  },
  {
   "cell_type": "code",
   "execution_count": null,
   "id": "0fdb88cd",
   "metadata": {},
   "outputs": [],
   "source": [
    "# Hiển thị cấu trúc graph dưới dạng DOT (có thể render bằng graphviz)\n",
    "dot_code = graph3.get_graph().to_dot()\n",
    "print(dot_code[:400], \"...\")  # in preview"
   ]
  },
  {
   "cell_type": "markdown",
   "id": "7907dbd9",
   "metadata": {},
   "source": [
    "## 7️⃣ Bất đồng bộ và song song hoá"
   ]
  },
  {
   "cell_type": "code",
   "execution_count": null,
   "id": "f596b1d4",
   "metadata": {},
   "outputs": [],
   "source": [
    "import asyncio\n",
    "\n",
    "async def greet_async(state: ChatState) -> ChatState:\n",
    "    await asyncio.sleep(0.2)\n",
    "    state.messages.append(\"Hello (async)!\")\n",
    "    return state\n",
    "\n",
    "g_async = StateGraph(ChatState)\n",
    "g_async.add_node(\"start\", greet_async, is_async=True)\n",
    "g_async.set_entry_point(\"start\")\n",
    "chat_async = g_async.compile()\n",
    "\n",
    "asyncio.run(chat_async.ainvoke(ChatState()))"
   ]
  },
  {
   "cell_type": "markdown",
   "id": "94c1637b",
   "metadata": {},
   "source": [
    "## 8️⃣ Case Study: Pipeline RAG đơn giản"
   ]
  },
  {
   "cell_type": "code",
   "execution_count": null,
   "id": "e78d12e3",
   "metadata": {},
   "outputs": [],
   "source": [
    "# Giả lập bước truy vấn vector store → sinh câu trả lời\n",
    "def retrieve(state: ChatState) -> ChatState:\n",
    "    state.messages.append(\"🔍 Đã truy xuất 3 tài liệu liên quan.\")\n",
    "    return state\n",
    "\n",
    "def answer(state: ChatState) -> ChatState:\n",
    "    docs = \" \".join(state.messages[-1:])\n",
    "    reply = llm([HumanMessage(content=f\"Trả lời dựa trên: {docs}\")]).content\n",
    "    state.messages.append(reply)\n",
    "    return state\n",
    "\n",
    "rag = StateGraph(ChatState)    .add_node(\"user\", ask_name)    .add_node(\"retrieve\", retrieve)    .add_node(\"answer\", answer)    .set_entry_point(\"user\")    .add_edge(\"user\", \"retrieve\")    .add_edge(\"retrieve\", \"answer\")    .compile()\n",
    "\n",
    "print(rag.invoke(ChatState()).messages)"
   ]
  },
  {
   "cell_type": "markdown",
   "id": "19600e2f",
   "metadata": {},
   "source": [
    "## 9️⃣ Bài tập\n",
    "\n",
    "✏️ **Exercise 1**: Thêm node `translate` để dịch câu trả lời cuối sang tiếng Anh.  \n",
    "✏️ **Exercise 2**: Thêm điều kiện: nếu tên người dùng chứa “AI” thì nhảy tới node `special_greet`.  \n",
    "✏️ **Exercise 3**: Thử connect LangGraph với tool truy vấn cơ sở dữ liệu (SQL)."
   ]
  },
  {
   "cell_type": "markdown",
   "id": "22cb7032",
   "metadata": {},
   "source": [
    "## 🔟 Tổng kết\n",
    "\n",
    "* LangGraph cung cấp **stateful orchestration** mạnh mẽ cho agent.  \n",
    "* Kết hợp LangChain + LangGraph giúp xây LLM workflow nâng cao.  \n",
    "* Tiếp tục đọc docs chính thức & source code để nắm chi tiết."
   ]
  }
 ],
 "metadata": {},
 "nbformat": 4,
 "nbformat_minor": 5
}
