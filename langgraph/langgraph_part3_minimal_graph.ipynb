{
 "cells": [
  {
   "cell_type": "markdown",
   "id": "93637ab3",
   "metadata": {},
   "source": [
    "# LangGraph Tutorial – Part 3️⃣: Graph tuyến tính tối giản"
   ]
  },
  {
   "cell_type": "markdown",
   "id": "84986e60",
   "metadata": {},
   "source": [
    "Ví dụ Hello‑World với LangGraph."
   ]
  },
  {
   "cell_type": "code",
   "execution_count": null,
   "id": "57d07107",
   "metadata": {},
   "outputs": [],
   "source": [
    "from langgraph.graph import StateGraph, MessageState\n",
    "\n",
    "class ChatState(MessageState):\n",
    "    messages: list[str] = []\n",
    "\n",
    "def greet(state: ChatState) -> ChatState:\n",
    "    state.messages.append(\"Xin chào!\")\n",
    "    return state\n",
    "\n",
    "def ask_name(state: ChatState) -> ChatState:\n",
    "    state.messages.append(\"Bạn tên gì?\")\n",
    "    return state\n",
    "\n",
    "graph = StateGraph(ChatState)\n",
    "graph.add_node(\"greet\", greet)\n",
    "graph.add_node(\"ask_name\", ask_name)\n",
    "graph.set_entry_point(\"greet\")\n",
    "graph.add_edge(\"greet\", \"ask_name\")\n",
    "\n",
    "chat = graph.compile()\n",
    "chat.invoke(ChatState()).messages"
   ]
  }
 ],
 "metadata": {},
 "nbformat": 4,
 "nbformat_minor": 5
}
