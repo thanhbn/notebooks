{
 "cells": [
  {
   "cell_type": "markdown",
   "source": [
    "## ⚠️ Lưu ý về đường dẫn\n",
    "Notebook này nằm trong thư mục con `00_Setup_and_Intro/`, nhưng virtual environment sẽ được tạo ở thư mục gốc project (`/mnt/d/llm/notebooks/`). Vì vậy:\n",
    "- Các lệnh sẽ sử dụng `../` để truy cập thư mục parent\n",
    "- Virtual environment path: `../venv_langchain_win/`\n",
    "- Requirements file: `../../requirements.txt`"
   ],
   "metadata": {}
  },
  {
   "cell_type": "markdown",
   "metadata": {},
   "source": [
    "# Thiết lập Virtual Environment cho LangChain\n",
    "\n",
    "Notebook này hướng dẫn cách thiết lập môi trường ảo (virtual environment) để tránh lỗi `externally-managed-environment` trên các hệ thống Linux/Ubuntu mới.\n",
    "\n",
    "## Tại sao cần Virtual Environment?\n",
    "\n",
    "- **Tránh xung đột**: Các package không ảnh hưởng đến system Python\n",
    "- **Quản lý dependencies**: Mỗi project có môi trường riêng\n",
    "- **Bảo mật**: Không cần quyền admin để cài đặt packages\n",
    "- **Khuyến nghị**: Best practice cho Python development"
   ]
  },
  {
   "cell_type": "code",
   "source": [
    "# Kiểm tra cấu trúc thư mục hiện tại\n",
    "!pwd\n",
    "!echo \"\\n📁 Cấu trúc thư mục:\"\n",
    "!echo \"   /mnt/d/llm/notebooks/           (thư mục gốc project)\"\n",
    "!echo \"   ├── .langchain_win/              (virtual environment sẽ ở đây)\"\n",
    "!echo \"   └── 00_Setup_and_Intro/         (thư mục hiện tại)\"\n",
    "!echo \"       └── notebook này\""
   ],
   "metadata": {
    "ExecuteTime": {
     "end_time": "2025-06-17T15:27:33.155657Z",
     "start_time": "2025-06-17T15:27:33.003221Z"
    }
   },
   "outputs": [
    {
     "name": "stderr",
     "output_type": "stream",
     "text": [
      "'pwd' is not recognized as an internal or external command,\n",
      "operable program or batch file.\n"
     ]
    },
    {
     "name": "stdout",
     "output_type": "stream",
     "text": [
      "\"\\n?? C?u tr£c thu m?c:\"\n",
      "\"   /mnt/d/llm/notebooks/           (thu m?c g?c project)\"\n",
      "\"   ÃÄÄ .venv_win/              (virtual environment s? ? dƒy)\"\n",
      "\"   ÀÄÄ 00_Setup_and_Intro/         (thu m?c hi?n t?i)\"\n",
      "\"       ÀÄÄ notebook n…y\"\n"
     ]
    }
   ],
   "execution_count": 5
  },
  {
   "cell_type": "markdown",
   "metadata": {},
   "source": [
    "## 1. Tạo Virtual Environment\n",
    "\n",
    "Chạy các lệnh sau trong terminal (không phải trong Jupyter):"
   ]
  },
  {
   "metadata": {
    "ExecuteTime": {
     "end_time": "2025-06-17T15:27:50.265609Z",
     "start_time": "2025-06-17T15:27:39.633952Z"
    }
   },
   "cell_type": "code",
   "source": [
    "# Tạo virtual environment trong thư mục parent\n",
    "!cd ../.. && python3 -m venv .venv_win"
   ],
   "outputs": [],
   "execution_count": 6
  },
  {
   "metadata": {
    "ExecuteTime": {
     "end_time": "2025-06-14T17:07:41.282951Z",
     "start_time": "2025-06-14T16:58:59.886084Z"
    }
   },
   "cell_type": "code",
   "source": [
    "# Cài đặt pip và các tools cơ bản trong venv\n",
    "!../.venv_win/bin/pip install --upgrade pip\n",
    "!../.venv_win/bin/pip install jupyter ipykernel"
   ],
   "outputs": [
    {
     "name": "stdout",
     "output_type": "stream",
     "text": [
      "Requirement already satisfied: pip in /mnt/d/llm/notebooks/langchain_env/lib/python3.12/site-packages (25.1.1)\r\n",
      "Collecting jupyter\r\n",
      "  Using cached jupyter-1.1.1-py2.py3-none-any.whl.metadata (2.0 kB)\r\n",
      "Collecting ipykernel\r\n",
      "  Using cached ipykernel-6.29.5-py3-none-any.whl.metadata (6.3 kB)\r\n",
      "Collecting notebook (from jupyter)\r\n",
      "  Using cached notebook-7.4.3-py3-none-any.whl.metadata (10 kB)\r\n",
      "Collecting jupyter-console (from jupyter)\r\n",
      "  Using cached jupyter_console-6.6.3-py3-none-any.whl.metadata (5.8 kB)\r\n",
      "Collecting nbconvert (from jupyter)\r\n",
      "  Using cached nbconvert-7.16.6-py3-none-any.whl.metadata (8.5 kB)\r\n",
      "Collecting ipywidgets (from jupyter)\r\n",
      "  Using cached ipywidgets-8.1.7-py3-none-any.whl.metadata (2.4 kB)\r\n",
      "Collecting jupyterlab (from jupyter)\r\n",
      "  Using cached jupyterlab-4.4.3-py3-none-any.whl.metadata (16 kB)\r\n",
      "Collecting comm>=0.1.1 (from ipykernel)\r\n",
      "  Using cached comm-0.2.2-py3-none-any.whl.metadata (3.7 kB)\r\n",
      "Collecting debugpy>=1.6.5 (from ipykernel)\r\n",
      "  Using cached debugpy-1.8.14-cp312-cp312-manylinux_2_5_x86_64.manylinux1_x86_64.manylinux_2_17_x86_64.manylinux2014_x86_64.whl.metadata (1.3 kB)\r\n",
      "Collecting ipython>=7.23.1 (from ipykernel)\r\n",
      "  Using cached ipython-9.3.0-py3-none-any.whl.metadata (4.4 kB)\r\n",
      "Collecting jupyter-client>=6.1.12 (from ipykernel)\r\n",
      "  Using cached jupyter_client-8.6.3-py3-none-any.whl.metadata (8.3 kB)\r\n",
      "Collecting jupyter-core!=5.0.*,>=4.12 (from ipykernel)\r\n",
      "  Using cached jupyter_core-5.8.1-py3-none-any.whl.metadata (1.6 kB)\r\n",
      "Collecting matplotlib-inline>=0.1 (from ipykernel)\r\n",
      "  Using cached matplotlib_inline-0.1.7-py3-none-any.whl.metadata (3.9 kB)\r\n",
      "Collecting nest-asyncio (from ipykernel)\r\n",
      "  Using cached nest_asyncio-1.6.0-py3-none-any.whl.metadata (2.8 kB)\r\n",
      "Collecting packaging (from ipykernel)\r\n",
      "  Using cached packaging-25.0-py3-none-any.whl.metadata (3.3 kB)\r\n",
      "Collecting psutil (from ipykernel)\r\n",
      "  Using cached psutil-7.0.0-cp36-abi3-manylinux_2_12_x86_64.manylinux2010_x86_64.manylinux_2_17_x86_64.manylinux2014_x86_64.whl.metadata (22 kB)\r\n",
      "Collecting pyzmq>=24 (from ipykernel)\r\n",
      "  Downloading pyzmq-27.0.0-cp312-abi3-manylinux_2_27_x86_64.manylinux_2_28_x86_64.whl.metadata (6.0 kB)\r\n",
      "Collecting tornado>=6.1 (from ipykernel)\r\n",
      "  Using cached tornado-6.5.1-cp39-abi3-manylinux_2_5_x86_64.manylinux1_x86_64.manylinux_2_17_x86_64.manylinux2014_x86_64.whl.metadata (2.8 kB)\r\n",
      "Collecting traitlets>=5.4.0 (from ipykernel)\r\n",
      "  Using cached traitlets-5.14.3-py3-none-any.whl.metadata (10 kB)\r\n",
      "Collecting decorator (from ipython>=7.23.1->ipykernel)\r\n",
      "  Using cached decorator-5.2.1-py3-none-any.whl.metadata (3.9 kB)\r\n",
      "Collecting ipython-pygments-lexers (from ipython>=7.23.1->ipykernel)\r\n",
      "  Using cached ipython_pygments_lexers-1.1.1-py3-none-any.whl.metadata (1.1 kB)\r\n",
      "Collecting jedi>=0.16 (from ipython>=7.23.1->ipykernel)\r\n",
      "  Using cached jedi-0.19.2-py2.py3-none-any.whl.metadata (22 kB)\r\n",
      "Collecting pexpect>4.3 (from ipython>=7.23.1->ipykernel)\r\n",
      "  Using cached pexpect-4.9.0-py2.py3-none-any.whl.metadata (2.5 kB)\r\n",
      "Collecting prompt_toolkit<3.1.0,>=3.0.41 (from ipython>=7.23.1->ipykernel)\r\n",
      "  Using cached prompt_toolkit-3.0.51-py3-none-any.whl.metadata (6.4 kB)\r\n",
      "Collecting pygments>=2.4.0 (from ipython>=7.23.1->ipykernel)\r\n",
      "  Using cached pygments-2.19.1-py3-none-any.whl.metadata (2.5 kB)\r\n",
      "Collecting stack_data (from ipython>=7.23.1->ipykernel)\r\n",
      "  Using cached stack_data-0.6.3-py3-none-any.whl.metadata (18 kB)\r\n",
      "Collecting wcwidth (from prompt_toolkit<3.1.0,>=3.0.41->ipython>=7.23.1->ipykernel)\r\n",
      "  Using cached wcwidth-0.2.13-py2.py3-none-any.whl.metadata (14 kB)\r\n",
      "Collecting parso<0.9.0,>=0.8.4 (from jedi>=0.16->ipython>=7.23.1->ipykernel)\r\n",
      "  Using cached parso-0.8.4-py2.py3-none-any.whl.metadata (7.7 kB)\r\n",
      "Collecting python-dateutil>=2.8.2 (from jupyter-client>=6.1.12->ipykernel)\r\n",
      "  Using cached python_dateutil-2.9.0.post0-py2.py3-none-any.whl.metadata (8.4 kB)\r\n",
      "Collecting platformdirs>=2.5 (from jupyter-core!=5.0.*,>=4.12->ipykernel)\r\n",
      "  Using cached platformdirs-4.3.8-py3-none-any.whl.metadata (12 kB)\r\n",
      "Collecting ptyprocess>=0.5 (from pexpect>4.3->ipython>=7.23.1->ipykernel)\r\n",
      "  Using cached ptyprocess-0.7.0-py2.py3-none-any.whl.metadata (1.3 kB)\r\n",
      "Collecting six>=1.5 (from python-dateutil>=2.8.2->jupyter-client>=6.1.12->ipykernel)\r\n",
      "  Using cached six-1.17.0-py2.py3-none-any.whl.metadata (1.7 kB)\r\n",
      "Collecting widgetsnbextension~=4.0.14 (from ipywidgets->jupyter)\r\n",
      "  Using cached widgetsnbextension-4.0.14-py3-none-any.whl.metadata (1.6 kB)\r\n",
      "Collecting jupyterlab_widgets~=3.0.15 (from ipywidgets->jupyter)\r\n",
      "  Using cached jupyterlab_widgets-3.0.15-py3-none-any.whl.metadata (20 kB)\r\n",
      "Collecting async-lru>=1.0.0 (from jupyterlab->jupyter)\r\n",
      "  Using cached async_lru-2.0.5-py3-none-any.whl.metadata (4.5 kB)\r\n",
      "Collecting httpx>=0.25.0 (from jupyterlab->jupyter)\r\n",
      "  Using cached httpx-0.28.1-py3-none-any.whl.metadata (7.1 kB)\r\n",
      "Collecting jinja2>=3.0.3 (from jupyterlab->jupyter)\r\n",
      "  Using cached jinja2-3.1.6-py3-none-any.whl.metadata (2.9 kB)\r\n",
      "Collecting jupyter-lsp>=2.0.0 (from jupyterlab->jupyter)\r\n",
      "  Using cached jupyter_lsp-2.2.5-py3-none-any.whl.metadata (1.8 kB)\r\n",
      "Collecting jupyter-server<3,>=2.4.0 (from jupyterlab->jupyter)\r\n",
      "  Using cached jupyter_server-2.16.0-py3-none-any.whl.metadata (8.5 kB)\r\n",
      "Collecting jupyterlab-server<3,>=2.27.1 (from jupyterlab->jupyter)\r\n",
      "  Using cached jupyterlab_server-2.27.3-py3-none-any.whl.metadata (5.9 kB)\r\n",
      "Collecting notebook-shim>=0.2 (from jupyterlab->jupyter)\r\n",
      "  Using cached notebook_shim-0.2.4-py3-none-any.whl.metadata (4.0 kB)\r\n",
      "Collecting setuptools>=41.1.0 (from jupyterlab->jupyter)\r\n",
      "  Using cached setuptools-80.9.0-py3-none-any.whl.metadata (6.6 kB)\r\n",
      "Collecting anyio>=3.1.0 (from jupyter-server<3,>=2.4.0->jupyterlab->jupyter)\r\n",
      "  Using cached anyio-4.9.0-py3-none-any.whl.metadata (4.7 kB)\r\n",
      "Collecting argon2-cffi>=21.1 (from jupyter-server<3,>=2.4.0->jupyterlab->jupyter)\r\n",
      "  Using cached argon2_cffi-25.1.0-py3-none-any.whl.metadata (4.1 kB)\r\n",
      "Collecting jupyter-events>=0.11.0 (from jupyter-server<3,>=2.4.0->jupyterlab->jupyter)\r\n",
      "  Using cached jupyter_events-0.12.0-py3-none-any.whl.metadata (5.8 kB)\r\n",
      "Collecting jupyter-server-terminals>=0.4.4 (from jupyter-server<3,>=2.4.0->jupyterlab->jupyter)\r\n",
      "  Using cached jupyter_server_terminals-0.5.3-py3-none-any.whl.metadata (5.6 kB)\r\n",
      "Collecting nbformat>=5.3.0 (from jupyter-server<3,>=2.4.0->jupyterlab->jupyter)\r\n",
      "  Using cached nbformat-5.10.4-py3-none-any.whl.metadata (3.6 kB)\r\n",
      "Collecting overrides>=5.0 (from jupyter-server<3,>=2.4.0->jupyterlab->jupyter)\r\n",
      "  Using cached overrides-7.7.0-py3-none-any.whl.metadata (5.8 kB)\r\n",
      "Collecting prometheus-client>=0.9 (from jupyter-server<3,>=2.4.0->jupyterlab->jupyter)\r\n",
      "  Using cached prometheus_client-0.22.1-py3-none-any.whl.metadata (1.9 kB)\r\n",
      "Collecting send2trash>=1.8.2 (from jupyter-server<3,>=2.4.0->jupyterlab->jupyter)\r\n",
      "  Using cached Send2Trash-1.8.3-py3-none-any.whl.metadata (4.0 kB)\r\n",
      "Collecting terminado>=0.8.3 (from jupyter-server<3,>=2.4.0->jupyterlab->jupyter)\r\n",
      "  Using cached terminado-0.18.1-py3-none-any.whl.metadata (5.8 kB)\r\n",
      "Collecting websocket-client>=1.7 (from jupyter-server<3,>=2.4.0->jupyterlab->jupyter)\r\n",
      "  Using cached websocket_client-1.8.0-py3-none-any.whl.metadata (8.0 kB)\r\n",
      "Collecting babel>=2.10 (from jupyterlab-server<3,>=2.27.1->jupyterlab->jupyter)\r\n",
      "  Using cached babel-2.17.0-py3-none-any.whl.metadata (2.0 kB)\r\n",
      "Collecting json5>=0.9.0 (from jupyterlab-server<3,>=2.27.1->jupyterlab->jupyter)\r\n",
      "  Using cached json5-0.12.0-py3-none-any.whl.metadata (36 kB)\r\n",
      "Collecting jsonschema>=4.18.0 (from jupyterlab-server<3,>=2.27.1->jupyterlab->jupyter)\r\n",
      "  Using cached jsonschema-4.24.0-py3-none-any.whl.metadata (7.8 kB)\r\n",
      "Collecting requests>=2.31 (from jupyterlab-server<3,>=2.27.1->jupyterlab->jupyter)\r\n",
      "  Using cached requests-2.32.4-py3-none-any.whl.metadata (4.9 kB)\r\n",
      "Collecting idna>=2.8 (from anyio>=3.1.0->jupyter-server<3,>=2.4.0->jupyterlab->jupyter)\r\n",
      "  Using cached idna-3.10-py3-none-any.whl.metadata (10 kB)\r\n",
      "Collecting sniffio>=1.1 (from anyio>=3.1.0->jupyter-server<3,>=2.4.0->jupyterlab->jupyter)\r\n",
      "  Using cached sniffio-1.3.1-py3-none-any.whl.metadata (3.9 kB)\r\n",
      "Collecting typing_extensions>=4.5 (from anyio>=3.1.0->jupyter-server<3,>=2.4.0->jupyterlab->jupyter)\r\n",
      "  Using cached typing_extensions-4.14.0-py3-none-any.whl.metadata (3.0 kB)\r\n",
      "Collecting argon2-cffi-bindings (from argon2-cffi>=21.1->jupyter-server<3,>=2.4.0->jupyterlab->jupyter)\r\n",
      "  Using cached argon2_cffi_bindings-21.2.0-cp36-abi3-manylinux_2_17_x86_64.manylinux2014_x86_64.whl.metadata (6.7 kB)\r\n",
      "Collecting certifi (from httpx>=0.25.0->jupyterlab->jupyter)\r\n",
      "  Using cached certifi-2025.4.26-py3-none-any.whl.metadata (2.5 kB)\r\n",
      "Collecting httpcore==1.* (from httpx>=0.25.0->jupyterlab->jupyter)\r\n",
      "  Using cached httpcore-1.0.9-py3-none-any.whl.metadata (21 kB)\r\n",
      "Collecting h11>=0.16 (from httpcore==1.*->httpx>=0.25.0->jupyterlab->jupyter)\r\n",
      "  Using cached h11-0.16.0-py3-none-any.whl.metadata (8.3 kB)\r\n",
      "Collecting MarkupSafe>=2.0 (from jinja2>=3.0.3->jupyterlab->jupyter)\r\n",
      "  Using cached MarkupSafe-3.0.2-cp312-cp312-manylinux_2_17_x86_64.manylinux2014_x86_64.whl.metadata (4.0 kB)\r\n",
      "Collecting attrs>=22.2.0 (from jsonschema>=4.18.0->jupyterlab-server<3,>=2.27.1->jupyterlab->jupyter)\r\n",
      "  Using cached attrs-25.3.0-py3-none-any.whl.metadata (10 kB)\r\n",
      "Collecting jsonschema-specifications>=2023.03.6 (from jsonschema>=4.18.0->jupyterlab-server<3,>=2.27.1->jupyterlab->jupyter)\r\n",
      "  Using cached jsonschema_specifications-2025.4.1-py3-none-any.whl.metadata (2.9 kB)\r\n",
      "Collecting referencing>=0.28.4 (from jsonschema>=4.18.0->jupyterlab-server<3,>=2.27.1->jupyterlab->jupyter)\r\n",
      "  Using cached referencing-0.36.2-py3-none-any.whl.metadata (2.8 kB)\r\n",
      "Collecting rpds-py>=0.7.1 (from jsonschema>=4.18.0->jupyterlab-server<3,>=2.27.1->jupyterlab->jupyter)\r\n",
      "  Using cached rpds_py-0.25.1-cp312-cp312-manylinux_2_17_x86_64.manylinux2014_x86_64.whl.metadata (4.1 kB)\r\n",
      "Collecting python-json-logger>=2.0.4 (from jupyter-events>=0.11.0->jupyter-server<3,>=2.4.0->jupyterlab->jupyter)\r\n",
      "  Using cached python_json_logger-3.3.0-py3-none-any.whl.metadata (4.0 kB)\r\n",
      "Collecting pyyaml>=5.3 (from jupyter-events>=0.11.0->jupyter-server<3,>=2.4.0->jupyterlab->jupyter)\r\n",
      "  Using cached PyYAML-6.0.2-cp312-cp312-manylinux_2_17_x86_64.manylinux2014_x86_64.whl.metadata (2.1 kB)\r\n",
      "Collecting rfc3339-validator (from jupyter-events>=0.11.0->jupyter-server<3,>=2.4.0->jupyterlab->jupyter)\r\n",
      "  Using cached rfc3339_validator-0.1.4-py2.py3-none-any.whl.metadata (1.5 kB)\r\n",
      "Collecting rfc3986-validator>=0.1.1 (from jupyter-events>=0.11.0->jupyter-server<3,>=2.4.0->jupyterlab->jupyter)\r\n",
      "  Using cached rfc3986_validator-0.1.1-py2.py3-none-any.whl.metadata (1.7 kB)\r\n",
      "Collecting fqdn (from jsonschema[format-nongpl]>=4.18.0->jupyter-events>=0.11.0->jupyter-server<3,>=2.4.0->jupyterlab->jupyter)\r\n",
      "  Using cached fqdn-1.5.1-py3-none-any.whl.metadata (1.4 kB)\r\n",
      "Collecting isoduration (from jsonschema[format-nongpl]>=4.18.0->jupyter-events>=0.11.0->jupyter-server<3,>=2.4.0->jupyterlab->jupyter)\r\n",
      "  Using cached isoduration-20.11.0-py3-none-any.whl.metadata (5.7 kB)\r\n",
      "Collecting jsonpointer>1.13 (from jsonschema[format-nongpl]>=4.18.0->jupyter-events>=0.11.0->jupyter-server<3,>=2.4.0->jupyterlab->jupyter)\r\n",
      "  Using cached jsonpointer-3.0.0-py2.py3-none-any.whl.metadata (2.3 kB)\r\n",
      "Collecting uri-template (from jsonschema[format-nongpl]>=4.18.0->jupyter-events>=0.11.0->jupyter-server<3,>=2.4.0->jupyterlab->jupyter)\r\n",
      "  Using cached uri_template-1.3.0-py3-none-any.whl.metadata (8.8 kB)\r\n",
      "Collecting webcolors>=24.6.0 (from jsonschema[format-nongpl]>=4.18.0->jupyter-events>=0.11.0->jupyter-server<3,>=2.4.0->jupyterlab->jupyter)\r\n",
      "  Using cached webcolors-24.11.1-py3-none-any.whl.metadata (2.2 kB)\r\n",
      "Collecting beautifulsoup4 (from nbconvert->jupyter)\r\n",
      "  Using cached beautifulsoup4-4.13.4-py3-none-any.whl.metadata (3.8 kB)\r\n",
      "Collecting bleach!=5.0.0 (from bleach[css]!=5.0.0->nbconvert->jupyter)\r\n",
      "  Using cached bleach-6.2.0-py3-none-any.whl.metadata (30 kB)\r\n",
      "Collecting defusedxml (from nbconvert->jupyter)\r\n",
      "  Using cached defusedxml-0.7.1-py2.py3-none-any.whl.metadata (32 kB)\r\n",
      "Collecting jupyterlab-pygments (from nbconvert->jupyter)\r\n",
      "  Using cached jupyterlab_pygments-0.3.0-py3-none-any.whl.metadata (4.4 kB)\r\n",
      "Collecting mistune<4,>=2.0.3 (from nbconvert->jupyter)\r\n",
      "  Using cached mistune-3.1.3-py3-none-any.whl.metadata (1.8 kB)\r\n",
      "Collecting nbclient>=0.5.0 (from nbconvert->jupyter)\r\n",
      "  Using cached nbclient-0.10.2-py3-none-any.whl.metadata (8.3 kB)\r\n",
      "Collecting pandocfilters>=1.4.1 (from nbconvert->jupyter)\r\n",
      "  Using cached pandocfilters-1.5.1-py2.py3-none-any.whl.metadata (9.0 kB)\r\n",
      "Collecting webencodings (from bleach!=5.0.0->bleach[css]!=5.0.0->nbconvert->jupyter)\r\n",
      "  Using cached webencodings-0.5.1-py2.py3-none-any.whl.metadata (2.1 kB)\r\n",
      "Collecting tinycss2<1.5,>=1.1.0 (from bleach[css]!=5.0.0->nbconvert->jupyter)\r\n",
      "  Using cached tinycss2-1.4.0-py3-none-any.whl.metadata (3.0 kB)\r\n",
      "Collecting fastjsonschema>=2.15 (from nbformat>=5.3.0->jupyter-server<3,>=2.4.0->jupyterlab->jupyter)\r\n",
      "  Using cached fastjsonschema-2.21.1-py3-none-any.whl.metadata (2.2 kB)\r\n",
      "Collecting charset_normalizer<4,>=2 (from requests>=2.31->jupyterlab-server<3,>=2.27.1->jupyterlab->jupyter)\r\n",
      "  Using cached charset_normalizer-3.4.2-cp312-cp312-manylinux_2_17_x86_64.manylinux2014_x86_64.whl.metadata (35 kB)\r\n",
      "Collecting urllib3<3,>=1.21.1 (from requests>=2.31->jupyterlab-server<3,>=2.27.1->jupyterlab->jupyter)\r\n",
      "  Using cached urllib3-2.4.0-py3-none-any.whl.metadata (6.5 kB)\r\n",
      "Collecting cffi>=1.0.1 (from argon2-cffi-bindings->argon2-cffi>=21.1->jupyter-server<3,>=2.4.0->jupyterlab->jupyter)\r\n",
      "  Using cached cffi-1.17.1-cp312-cp312-manylinux_2_17_x86_64.manylinux2014_x86_64.whl.metadata (1.5 kB)\r\n",
      "Collecting pycparser (from cffi>=1.0.1->argon2-cffi-bindings->argon2-cffi>=21.1->jupyter-server<3,>=2.4.0->jupyterlab->jupyter)\r\n",
      "  Using cached pycparser-2.22-py3-none-any.whl.metadata (943 bytes)\r\n",
      "Collecting soupsieve>1.2 (from beautifulsoup4->nbconvert->jupyter)\r\n",
      "  Using cached soupsieve-2.7-py3-none-any.whl.metadata (4.6 kB)\r\n",
      "Collecting arrow>=0.15.0 (from isoduration->jsonschema[format-nongpl]>=4.18.0->jupyter-events>=0.11.0->jupyter-server<3,>=2.4.0->jupyterlab->jupyter)\r\n",
      "  Using cached arrow-1.3.0-py3-none-any.whl.metadata (7.5 kB)\r\n",
      "Collecting types-python-dateutil>=2.8.10 (from arrow>=0.15.0->isoduration->jsonschema[format-nongpl]>=4.18.0->jupyter-events>=0.11.0->jupyter-server<3,>=2.4.0->jupyterlab->jupyter)\r\n",
      "  Using cached types_python_dateutil-2.9.0.20250516-py3-none-any.whl.metadata (2.1 kB)\r\n",
      "Collecting executing>=1.2.0 (from stack_data->ipython>=7.23.1->ipykernel)\r\n",
      "  Using cached executing-2.2.0-py2.py3-none-any.whl.metadata (8.9 kB)\r\n",
      "Collecting asttokens>=2.1.0 (from stack_data->ipython>=7.23.1->ipykernel)\r\n",
      "  Using cached asttokens-3.0.0-py3-none-any.whl.metadata (4.7 kB)\r\n",
      "Collecting pure-eval (from stack_data->ipython>=7.23.1->ipykernel)\r\n",
      "  Using cached pure_eval-0.2.3-py3-none-any.whl.metadata (6.3 kB)\r\n",
      "Using cached jupyter-1.1.1-py2.py3-none-any.whl (2.7 kB)\r\n",
      "Using cached ipykernel-6.29.5-py3-none-any.whl (117 kB)\r\n",
      "Using cached comm-0.2.2-py3-none-any.whl (7.2 kB)\r\n",
      "Using cached debugpy-1.8.14-cp312-cp312-manylinux_2_5_x86_64.manylinux1_x86_64.manylinux_2_17_x86_64.manylinux2014_x86_64.whl (4.2 MB)\r\n",
      "Using cached ipython-9.3.0-py3-none-any.whl (605 kB)\r\n",
      "Using cached prompt_toolkit-3.0.51-py3-none-any.whl (387 kB)\r\n",
      "Using cached jedi-0.19.2-py2.py3-none-any.whl (1.6 MB)\r\n",
      "Using cached parso-0.8.4-py2.py3-none-any.whl (103 kB)\r\n",
      "Using cached jupyter_client-8.6.3-py3-none-any.whl (106 kB)\r\n",
      "Using cached jupyter_core-5.8.1-py3-none-any.whl (28 kB)\r\n",
      "Using cached matplotlib_inline-0.1.7-py3-none-any.whl (9.9 kB)\r\n",
      "Using cached pexpect-4.9.0-py2.py3-none-any.whl (63 kB)\r\n",
      "Using cached platformdirs-4.3.8-py3-none-any.whl (18 kB)\r\n",
      "Using cached ptyprocess-0.7.0-py2.py3-none-any.whl (13 kB)\r\n",
      "Using cached pygments-2.19.1-py3-none-any.whl (1.2 MB)\r\n",
      "Using cached python_dateutil-2.9.0.post0-py2.py3-none-any.whl (229 kB)\r\n",
      "Downloading pyzmq-27.0.0-cp312-abi3-manylinux_2_27_x86_64.manylinux_2_28_x86_64.whl (839 kB)\r\n",
      "\u001B[2K   \u001B[90m━━━━━━━━━━━━━━━━━━━━━━━━━━━━━━━━━━━━━━━━\u001B[0m \u001B[32m839.8/839.8 kB\u001B[0m \u001B[31m6.9 MB/s\u001B[0m eta \u001B[36m0:00:00\u001B[0m\r\n",
      "\u001B[?25hUsing cached six-1.17.0-py2.py3-none-any.whl (11 kB)\r\n",
      "Using cached tornado-6.5.1-cp39-abi3-manylinux_2_5_x86_64.manylinux1_x86_64.manylinux_2_17_x86_64.manylinux2014_x86_64.whl (443 kB)\r\n",
      "Using cached traitlets-5.14.3-py3-none-any.whl (85 kB)\r\n",
      "Using cached decorator-5.2.1-py3-none-any.whl (9.2 kB)\r\n",
      "Using cached ipython_pygments_lexers-1.1.1-py3-none-any.whl (8.1 kB)\r\n",
      "Using cached ipywidgets-8.1.7-py3-none-any.whl (139 kB)\r\n",
      "Using cached jupyterlab_widgets-3.0.15-py3-none-any.whl (216 kB)\r\n",
      "Using cached widgetsnbextension-4.0.14-py3-none-any.whl (2.2 MB)\r\n",
      "Using cached jupyter_console-6.6.3-py3-none-any.whl (24 kB)\r\n",
      "Using cached jupyterlab-4.4.3-py3-none-any.whl (12.3 MB)\r\n",
      "Using cached jupyter_server-2.16.0-py3-none-any.whl (386 kB)\r\n",
      "Using cached jupyterlab_server-2.27.3-py3-none-any.whl (59 kB)\r\n",
      "Using cached anyio-4.9.0-py3-none-any.whl (100 kB)\r\n",
      "Using cached argon2_cffi-25.1.0-py3-none-any.whl (14 kB)\r\n",
      "Using cached async_lru-2.0.5-py3-none-any.whl (6.1 kB)\r\n",
      "Using cached babel-2.17.0-py3-none-any.whl (10.2 MB)\r\n",
      "Using cached httpx-0.28.1-py3-none-any.whl (73 kB)\r\n",
      "Using cached httpcore-1.0.9-py3-none-any.whl (78 kB)\r\n",
      "Using cached h11-0.16.0-py3-none-any.whl (37 kB)\r\n",
      "Using cached idna-3.10-py3-none-any.whl (70 kB)\r\n",
      "Using cached jinja2-3.1.6-py3-none-any.whl (134 kB)\r\n",
      "Using cached json5-0.12.0-py3-none-any.whl (36 kB)\r\n",
      "Using cached jsonschema-4.24.0-py3-none-any.whl (88 kB)\r\n",
      "Using cached attrs-25.3.0-py3-none-any.whl (63 kB)\r\n",
      "Using cached jsonschema_specifications-2025.4.1-py3-none-any.whl (18 kB)\r\n",
      "Using cached jupyter_events-0.12.0-py3-none-any.whl (19 kB)\r\n",
      "Using cached jsonpointer-3.0.0-py2.py3-none-any.whl (7.6 kB)\r\n",
      "Using cached jupyter_lsp-2.2.5-py3-none-any.whl (69 kB)\r\n",
      "Using cached jupyter_server_terminals-0.5.3-py3-none-any.whl (13 kB)\r\n",
      "Using cached MarkupSafe-3.0.2-cp312-cp312-manylinux_2_17_x86_64.manylinux2014_x86_64.whl (23 kB)\r\n",
      "Using cached nbconvert-7.16.6-py3-none-any.whl (258 kB)\r\n",
      "Using cached mistune-3.1.3-py3-none-any.whl (53 kB)\r\n",
      "Using cached bleach-6.2.0-py3-none-any.whl (163 kB)\r\n",
      "Using cached tinycss2-1.4.0-py3-none-any.whl (26 kB)\r\n",
      "Using cached nbclient-0.10.2-py3-none-any.whl (25 kB)\r\n",
      "Using cached nbformat-5.10.4-py3-none-any.whl (78 kB)\r\n",
      "Using cached fastjsonschema-2.21.1-py3-none-any.whl (23 kB)\r\n",
      "Using cached notebook_shim-0.2.4-py3-none-any.whl (13 kB)\r\n",
      "Using cached overrides-7.7.0-py3-none-any.whl (17 kB)\r\n",
      "Using cached packaging-25.0-py3-none-any.whl (66 kB)\r\n",
      "Using cached pandocfilters-1.5.1-py2.py3-none-any.whl (8.7 kB)\r\n",
      "Using cached prometheus_client-0.22.1-py3-none-any.whl (58 kB)\r\n",
      "Using cached python_json_logger-3.3.0-py3-none-any.whl (15 kB)\r\n",
      "Using cached PyYAML-6.0.2-cp312-cp312-manylinux_2_17_x86_64.manylinux2014_x86_64.whl (767 kB)\r\n",
      "Using cached referencing-0.36.2-py3-none-any.whl (26 kB)\r\n",
      "Using cached requests-2.32.4-py3-none-any.whl (64 kB)\r\n",
      "Using cached charset_normalizer-3.4.2-cp312-cp312-manylinux_2_17_x86_64.manylinux2014_x86_64.whl (148 kB)\r\n",
      "Using cached urllib3-2.4.0-py3-none-any.whl (128 kB)\r\n",
      "Using cached certifi-2025.4.26-py3-none-any.whl (159 kB)\r\n",
      "Using cached rfc3986_validator-0.1.1-py2.py3-none-any.whl (4.2 kB)\r\n",
      "Using cached rpds_py-0.25.1-cp312-cp312-manylinux_2_17_x86_64.manylinux2014_x86_64.whl (390 kB)\r\n",
      "Using cached Send2Trash-1.8.3-py3-none-any.whl (18 kB)\r\n",
      "Using cached setuptools-80.9.0-py3-none-any.whl (1.2 MB)\r\n",
      "Using cached sniffio-1.3.1-py3-none-any.whl (10 kB)\r\n",
      "Using cached terminado-0.18.1-py3-none-any.whl (14 kB)\r\n",
      "Using cached typing_extensions-4.14.0-py3-none-any.whl (43 kB)\r\n",
      "Using cached webcolors-24.11.1-py3-none-any.whl (14 kB)\r\n",
      "Using cached webencodings-0.5.1-py2.py3-none-any.whl (11 kB)\r\n",
      "Using cached websocket_client-1.8.0-py3-none-any.whl (58 kB)\r\n",
      "Using cached argon2_cffi_bindings-21.2.0-cp36-abi3-manylinux_2_17_x86_64.manylinux2014_x86_64.whl (86 kB)\r\n",
      "Using cached cffi-1.17.1-cp312-cp312-manylinux_2_17_x86_64.manylinux2014_x86_64.whl (479 kB)\r\n",
      "Using cached beautifulsoup4-4.13.4-py3-none-any.whl (187 kB)\r\n",
      "Using cached soupsieve-2.7-py3-none-any.whl (36 kB)\r\n",
      "Using cached defusedxml-0.7.1-py2.py3-none-any.whl (25 kB)\r\n",
      "Using cached fqdn-1.5.1-py3-none-any.whl (9.1 kB)\r\n",
      "Using cached isoduration-20.11.0-py3-none-any.whl (11 kB)\r\n",
      "Using cached arrow-1.3.0-py3-none-any.whl (66 kB)\r\n",
      "Using cached types_python_dateutil-2.9.0.20250516-py3-none-any.whl (14 kB)\r\n",
      "Using cached jupyterlab_pygments-0.3.0-py3-none-any.whl (15 kB)\r\n",
      "Using cached nest_asyncio-1.6.0-py3-none-any.whl (5.2 kB)\r\n",
      "Using cached notebook-7.4.3-py3-none-any.whl (14.3 MB)\r\n",
      "Using cached psutil-7.0.0-cp36-abi3-manylinux_2_12_x86_64.manylinux2010_x86_64.manylinux_2_17_x86_64.manylinux2014_x86_64.whl (277 kB)\r\n",
      "Using cached pycparser-2.22-py3-none-any.whl (117 kB)\r\n",
      "Using cached rfc3339_validator-0.1.4-py2.py3-none-any.whl (3.5 kB)\r\n",
      "Using cached stack_data-0.6.3-py3-none-any.whl (24 kB)\r\n",
      "Using cached asttokens-3.0.0-py3-none-any.whl (26 kB)\r\n",
      "Using cached executing-2.2.0-py2.py3-none-any.whl (26 kB)\r\n",
      "Using cached pure_eval-0.2.3-py3-none-any.whl (11 kB)\r\n",
      "Using cached uri_template-1.3.0-py3-none-any.whl (11 kB)\r\n",
      "Using cached wcwidth-0.2.13-py2.py3-none-any.whl (34 kB)\r\n",
      "Installing collected packages: webencodings, wcwidth, pure-eval, ptyprocess, fastjsonschema, widgetsnbextension, websocket-client, webcolors, urllib3, uri-template, typing_extensions, types-python-dateutil, traitlets, tornado, tinycss2, soupsieve, sniffio, six, setuptools, send2trash, rpds-py, rfc3986-validator, pyzmq, pyyaml, python-json-logger, pygments, pycparser, psutil, prompt_toolkit, prometheus-client, platformdirs, pexpect, parso, pandocfilters, packaging, overrides, nest-asyncio, mistune, MarkupSafe, jupyterlab_widgets, jupyterlab-pygments, jsonpointer, json5, idna, h11, fqdn, executing, defusedxml, decorator, debugpy, charset_normalizer, certifi, bleach, babel, attrs, async-lru, asttokens, terminado, stack_data, rfc3339-validator, requests, referencing, python-dateutil, matplotlib-inline, jupyter-core, jinja2, jedi, ipython-pygments-lexers, httpcore, comm, cffi, beautifulsoup4, anyio, jupyter-server-terminals, jupyter-client, jsonschema-specifications, ipython, httpx, arrow, argon2-cffi-bindings, jsonschema, isoduration, ipywidgets, ipykernel, argon2-cffi, nbformat, jupyter-console, nbclient, jupyter-events, nbconvert, jupyter-server, notebook-shim, jupyterlab-server, jupyter-lsp, jupyterlab, notebook, jupyter\r\n",
      "\u001B[2K   \u001B[90m━━━━━━━━━━━━━━━━━━━━━━━━━━━━━━━━━━━━━━━━\u001B[0m \u001B[32m97/97\u001B[0m [jupyter][jupyter]]jupyterlab]]erver]gs]ions]\r\n",
      "\u001B[1A\u001B[2KSuccessfully installed MarkupSafe-3.0.2 anyio-4.9.0 argon2-cffi-25.1.0 argon2-cffi-bindings-21.2.0 arrow-1.3.0 asttokens-3.0.0 async-lru-2.0.5 attrs-25.3.0 babel-2.17.0 beautifulsoup4-4.13.4 bleach-6.2.0 certifi-2025.4.26 cffi-1.17.1 charset_normalizer-3.4.2 comm-0.2.2 debugpy-1.8.14 decorator-5.2.1 defusedxml-0.7.1 executing-2.2.0 fastjsonschema-2.21.1 fqdn-1.5.1 h11-0.16.0 httpcore-1.0.9 httpx-0.28.1 idna-3.10 ipykernel-6.29.5 ipython-9.3.0 ipython-pygments-lexers-1.1.1 ipywidgets-8.1.7 isoduration-20.11.0 jedi-0.19.2 jinja2-3.1.6 json5-0.12.0 jsonpointer-3.0.0 jsonschema-4.24.0 jsonschema-specifications-2025.4.1 jupyter-1.1.1 jupyter-client-8.6.3 jupyter-console-6.6.3 jupyter-core-5.8.1 jupyter-events-0.12.0 jupyter-lsp-2.2.5 jupyter-server-2.16.0 jupyter-server-terminals-0.5.3 jupyterlab-4.4.3 jupyterlab-pygments-0.3.0 jupyterlab-server-2.27.3 jupyterlab_widgets-3.0.15 matplotlib-inline-0.1.7 mistune-3.1.3 nbclient-0.10.2 nbconvert-7.16.6 nbformat-5.10.4 nest-asyncio-1.6.0 notebook-7.4.3 notebook-shim-0.2.4 overrides-7.7.0 packaging-25.0 pandocfilters-1.5.1 parso-0.8.4 pexpect-4.9.0 platformdirs-4.3.8 prometheus-client-0.22.1 prompt_toolkit-3.0.51 psutil-7.0.0 ptyprocess-0.7.0 pure-eval-0.2.3 pycparser-2.22 pygments-2.19.1 python-dateutil-2.9.0.post0 python-json-logger-3.3.0 pyyaml-6.0.2 pyzmq-27.0.0 referencing-0.36.2 requests-2.32.4 rfc3339-validator-0.1.4 rfc3986-validator-0.1.1 rpds-py-0.25.1 send2trash-1.8.3 setuptools-80.9.0 six-1.17.0 sniffio-1.3.1 soupsieve-2.7 stack_data-0.6.3 terminado-0.18.1 tinycss2-1.4.0 tornado-6.5.1 traitlets-5.14.3 types-python-dateutil-2.9.0.20250516 typing_extensions-4.14.0 uri-template-1.3.0 urllib3-2.4.0 wcwidth-0.2.13 webcolors-24.11.1 webencodings-0.5.1 websocket-client-1.8.0 widgetsnbextension-4.0.14\r\n"
     ]
    }
   ],
   "execution_count": 6
  },
  {
   "cell_type": "markdown",
   "source": [
    "### ⚠️ Lưu ý quan trọng:\n",
    "- Sau khi chạy các cell trên, bạn cần **restart kernel** và chọn kernel mới `Python (venv_win)`\n",
    "- Đi tới: **Kernel → Change kernel → Python (venv_win)**\n",
    "- Tất cả các cài đặt package sau này sẽ được thực hiện trong kernel mới"
   ],
   "metadata": {}
  },
  {
   "cell_type": "code",
   "source": [
    "# Thêm kernel cho Jupyter\n",
    "!../.venv_win/bin/python -m ipykernel install --user --name=venv_win --display-name='Python (venv_win)'"
   ],
   "metadata": {
    "ExecuteTime": {
     "end_time": "2025-06-14T17:09:44.266484Z",
     "start_time": "2025-06-14T17:09:35.538021Z"
    }
   },
   "outputs": [
    {
     "name": "stdout",
     "output_type": "stream",
     "text": [
      "Installed kernelspec langchain_env in /home/admin88/.local/share/jupyter/kernels/langchain_env\r\n"
     ]
    }
   ],
   "execution_count": 7
  },
  {
   "cell_type": "code",
   "metadata": {
    "ExecuteTime": {
     "end_time": "2025-06-16T15:18:44.753226Z",
     "start_time": "2025-06-16T15:18:44.366123Z"
    }
   },
   "source": [
    "# Kiểm tra virtual environment đã được tạo chưa\n",
    "!ls -la ../venv_win/\n",
    "print(\"\\n✅ Virtual environment đã được tạo thành công!\")\n",
    "print(\"🔄 Vui lòng chuyển sang kernel 'Python (venv_win)' để tiếp tục\")"
   ],
   "outputs": [
    {
     "name": "stderr",
     "output_type": "stream",
     "text": [
      "Task was destroyed but it is pending!\n",
      "task: <Task pending name='Task-2' coro=<Kernel.poll_control_queue() done, defined at /mnt/d/llm/notebooks/langchain_env/lib/python3.12/site-packages/ipykernel/kernelbase.py:302> wait_for=<Future finished result=<Future at 0x...state=pending>> cb=[_chain_future.<locals>._call_set_state() at /usr/lib/python3.12/asyncio/futures.py:394]>\n"
     ]
    },
    {
     "name": "stdout",
     "output_type": "stream",
     "text": [
      "ls: cannot access '../langchain_env/': No such file or directory\r\n",
      "\n",
      "✅ Virtual environment đã được tạo thành công!\n",
      "🔄 Vui lòng chuyển sang kernel 'Python (langchain_env)' để tiếp tục\n"
     ]
    }
   ],
   "execution_count": 1
  },
  {
   "cell_type": "markdown",
   "metadata": {},
   "source": [
    "## 2. Cài đặt các packages cần thiết\n",
    "\n",
    "Sau khi đã kích hoạt virtual environment, cài đặt các packages:"
   ]
  },
  {
   "cell_type": "code",
   "metadata": {},
   "source": [
    "# Cài đặt tất cả requirements (chỉ chạy sau khi đã chuyển sang kernel langchain_env)\n",
    "!which pip\n",
    "!pip install -r ../requirements.txt"
   ],
   "outputs": [],
   "execution_count": null
  },
  {
   "cell_type": "markdown",
   "metadata": {},
   "source": [
    "## 3. Script tự động setup (cho Linux/Mac)\n",
    "\n",
    "Tạo script để tự động hóa quá trình setup:"
   ]
  },
  {
   "cell_type": "code",
   "execution_count": null,
   "metadata": {},
   "outputs": [],
   "source": [
    "# Tạo setup script\n",
    "setup_script = \"\"\"#!/bin/bash\n",
    "\n",
    "# Setup script for LangChain learning environment\n",
    "\n",
    "echo \"🚀 Starting LangChain environment setup...\"\n",
    "\n",
    "# Check if virtual environment exists\n",
    "if [ -d \".venv_win\" ]; then\n",
    "    echo \"⚠️  Virtual environment already exists. Activating...\"\n",
    "else\n",
    "    echo \"📦 Creating virtual environment...\"\n",
    "    python3 -m venv venv_win\n",
    "fi\n",
    "\n",
    "# Activate virtual environment\n",
    "source venv_win/bin/activate\n",
    "\n",
    "# Upgrade pip\n",
    "echo \"📦 Upgrading pip...\"\n",
    "pip install --upgrade pip\n",
    "\n",
    "# Install Jupyter\n",
    "echo \"📦 Installing Jupyter...\"\n",
    "pip install jupyter ipykernel\n",
    "\n",
    "# Add Jupyter kernel\n",
    "echo \"🔧 Adding Jupyter kernel...\"\n",
    "python -m ipykernel install --user --name=venv_win --display-name='Python (venv_win)'\n",
    "\n",
    "# Install requirements if file exists\n",
    "if [ -f \"requirements.txt\" ]; then\n",
    "    echo \"📦 Installing requirements...\"\n",
    "    pip install -r requirements.txt\n",
    "else\n",
    "    echo \"📦 Installing basic packages...\"\n",
    "    pip install langchain langchain-anthropic python-dotenv\n",
    "fi\n",
    "\n",
    "echo \"✅ Setup complete!\"\n",
    "echo \"\"\n",
    "echo \"To activate the environment in the future, run:\"\n",
    "echo \"source langchain_env/bin/activate\"\n",
    "echo \"\"\n",
    "echo \"To start Jupyter with the correct kernel:\"\n",
    "echo \"jupyter notebook\"\n",
    "\"\"\"\n",
    "\n",
    "# Lưu script\n",
    "with open('../setup_env.sh', 'w') as f:\n",
    "    f.write(setup_script)\n",
    "\n",
    "# Make executable\n",
    "import os\n",
    "os.chmod('../setup_env.sh', 0o755)\n",
    "\n",
    "print(\"✅ Đã tạo script setup_env.sh\")\n",
    "print(\"\\n📋 Để chạy script, sử dụng lệnh:\")\n",
    "print(\"./setup_env.sh\")"
   ]
  },
  {
   "cell_type": "code",
   "metadata": {},
   "outputs": [],
   "source": "# Tạo setup script\nsetup_script = \"\"\"#!/bin/bash\n\n# Setup script for LangChain learning environment\n# Run this from the project root: /mnt/d/llm/notebooks/\n\necho \"🚀 Starting LangChain environment setup...\"\n\n# Check if virtual environment exists\nif [ -d \"langchain_env\" ]; then\n    echo \"⚠️  Virtual environment already exists. Activating...\"\nelse\n    echo \"📦 Creating virtual environment...\"\n    python3 -m venv langchain_env\nfi\n\n# Activate virtual environment\nsource langchain_env/bin/activate\n\n# Upgrade pip\necho \"📦 Upgrading pip...\"\npip install --upgrade pip\n\n# Install Jupyter\necho \"📦 Installing Jupyter...\"\npip install jupyter ipykernel\n\n# Add Jupyter kernel\necho \"🔧 Adding Jupyter kernel...\"\npython -m ipykernel install --user --name=langchain_env --display-name='Python (langchain_env)'\n\n# Install requirements if file exists\nif [ -f \"requirements.txt\" ]; then\n    echo \"📦 Installing requirements...\"\n    pip install -r requirements.txt\nelse\n    echo \"📦 Installing basic packages...\"\n    pip install langchain langchain-anthropic python-dotenv\nfi\n\necho \"✅ Setup complete!\"\necho \"\"\necho \"To activate the environment in the future, run:\"\necho \"source langchain_env/bin/activate\"\necho \"\"\necho \"To start Jupyter with the correct kernel:\"\necho \"jupyter notebook\"\n\"\"\"\n\n# Lưu script vào thư mục parent\nwith open('../setup_env.sh', 'w') as f:\n    f.write(setup_script)\n\n# Make executable\nimport os\nos.chmod('../setup_env.sh', 0o755)\n\nprint(\"✅ Đã tạo script setup_env.sh trong thư mục gốc project\")\nprint(\"\\n📋 Để chạy script từ thư mục gốc (/mnt/d/llm/notebooks/):\")\nprint(\"./setup_env.sh\")",
   "execution_count": null
  },
  {
   "cell_type": "code",
   "metadata": {
    "ExecuteTime": {
     "end_time": "2025-06-17T15:24:46.232108Z",
     "start_time": "2025-06-17T15:24:46.035500Z"
    }
   },
   "source": [
    "# Kiểm tra các packages đã cài\n",
    "import pkg_resources\n",
    "\n",
    "packages_to_check = [\n",
    "    'langchain',\n",
    "    'langchain-anthropic',\n",
    "    'python-dotenv',\n",
    "    'jupyter',\n",
    "    'ipykernel'\n",
    "]\n",
    "\n",
    "print(\"📦 Kiểm tra packages:\\n\")\n",
    "\n",
    "for package in packages_to_check:\n",
    "    try:\n",
    "        version = pkg_resources.get_distribution(package).version\n",
    "        print(f\"✅ {package}: {version}\")\n",
    "    except:\n",
    "        print(f\"❌ {package}: Chưa cài đặt\")"
   ],
   "outputs": [
    {
     "name": "stdout",
     "output_type": "stream",
     "text": [
      "📦 Kiểm tra packages:\n",
      "\n",
      "❌ langchain: Chưa cài đặt\n",
      "❌ langchain-anthropic: Chưa cài đặt\n",
      "❌ python-dotenv: Chưa cài đặt\n",
      "❌ jupyter: Chưa cài đặt\n",
      "✅ ipykernel: 6.29.5\n"
     ]
    }
   ],
   "execution_count": 4
  },
  {
   "cell_type": "markdown",
   "metadata": {},
   "source": [
    "## 5. Troubleshooting\n",
    "\n",
    "### Các lỗi thường gặp và cách xử lý:\n",
    "\n",
    "#### 1. Lỗi `externally-managed-environment`\n",
    "- **Nguyên nhân**: Python system được bảo vệ\n",
    "- **Giải pháp**: Sử dụng virtual environment (như hướng dẫn ở trên)\n",
    "\n",
    "#### 2. Jupyter không thấy virtual environment\n",
    "- **Nguyên nhân**: Kernel chưa được thêm\n",
    "- **Giải pháp**: Chạy lệnh add kernel (bước 6 ở trên)\n",
    "\n",
    "#### 3. Import error sau khi cài packages\n",
    "- **Nguyên nhân**: Jupyter đang dùng kernel sai\n",
    "- **Giải pháp**: Kernel > Change kernel > Python (langchain_env)\n",
    "\n",
    "#### 4. Permission denied khi tạo venv\n",
    "- **Nguyên nhân**: Không có quyền trong thư mục\n",
    "- **Giải pháp**: Chuyển sang thư mục home hoặc dùng sudo"
   ]
  },
  {
   "cell_type": "markdown",
   "metadata": {},
   "source": [
    "## 6. Best Practices\n",
    "\n",
    "### 📌 Luôn sử dụng virtual environment\n",
    "- Mỗi project một venv riêng\n",
    "- Đặt tên venv có ý nghĩa\n",
    "- Thêm venv vào .gitignore\n",
    "\n",
    "### 📌 Quản lý dependencies\n",
    "- Dùng requirements.txt hoặc pyproject.toml\n",
    "- Pin version cho production\n",
    "- Update thường xuyên\n",
    "\n",
    "### 📌 Jupyter best practices\n",
    "- Một kernel cho mỗi project\n",
    "- Clear output trước khi commit\n",
    "- Dùng notebook cho exploration, script cho production"
   ]
  },
  {
   "cell_type": "markdown",
   "metadata": {},
   "source": [
    "## 7. Cheatsheet - Quick Commands\n",
    "\n",
    "Lưu lại để tham khảo nhanh:"
   ]
  },
  {
   "cell_type": "code",
   "metadata": {},
   "outputs": [],
   "source": "cheatsheet = \"\"\"# VIRTUAL ENVIRONMENT CHEATSHEET\n\n## Cấu trúc thư mục\n/mnt/d/llm/notebooks/           # Thư mục gốc project\n├── langchain_env/              # Virtual environment\n├── requirements.txt            # Dependencies\n├── .env                        # API keys (DO NOT COMMIT!)\n├── 00_Setup_and_Intro/         # Setup notebooks\n└── 01_Models/                  # Model tutorials\n\n## Create & Activate (từ thư mục gốc)\npython3 -m venv langchain_env\nsource langchain_env/bin/activate  # Linux/Mac\nlangchain_env\\\\Scripts\\\\activate    # Windows\n\n## Deactivate\ndeactivate\n\n## Install packages\npip install langchain langchain-anthropic python-dotenv\npip install -r requirements.txt\n\n## Save dependencies\npip freeze > requirements.txt\n\n## Jupyter kernel\npython -m ipykernel install --user --name=langchain_env\n\n## Remove kernel\njupyter kernelspec uninstall langchain_env\n\n## List kernels\njupyter kernelspec list\n\"\"\"\n\n# Lưu cheatsheet vào thư mục parent\nwith open('../venv_cheatsheet.txt', 'w') as f:\n    f.write(cheatsheet)\n\nprint(\"📄 Cheatsheet:\")\nprint(cheatsheet)",
   "execution_count": null
  },
  {
   "cell_type": "markdown",
   "metadata": {},
   "source": [
    "## Kết luận\n",
    "\n",
    "Bây giờ bạn đã có:\n",
    "- ✅ Virtual environment độc lập cho project\n",
    "- ✅ Jupyter kernel riêng\n",
    "- ✅ Có thể cài đặt packages không bị lỗi\n",
    "- ✅ Script và cheatsheet để reference\n",
    "\n",
    "**Next step**: Mở notebook `01_CaiDat_CauHinh_Claude.ipynb` và chọn kernel `Python (langchain_env)` để bắt đầu!"
   ]
  }
 ],
 "metadata": {
  "kernelspec": {
   "display_name": "Python 3 (ipykernel)",
   "language": "python",
   "name": "python3"
  },
  "language_info": {
   "codemirror_mode": {
    "name": "ipython",
    "version": 3
   },
   "file_extension": ".py",
   "mimetype": "text/x-python",
   "name": "python",
   "nbconvert_exporter": "python",
   "pygments_lexer": "ipython3",
   "version": "3.8.0"
  }
 },
 "nbformat": 4,
 "nbformat_minor": 4
}
