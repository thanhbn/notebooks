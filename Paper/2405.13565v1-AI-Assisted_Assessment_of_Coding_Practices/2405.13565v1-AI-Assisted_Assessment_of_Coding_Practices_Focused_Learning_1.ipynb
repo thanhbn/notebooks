{
 "cells": [
  {
   "cell_type": "markdown",
   "metadata": {},
   "source": [
    "# Focused Learning 1: Code Quality Assessment Metrics\n",
    "\n",
    "This notebook explores the metrics and criteria used for assessing code quality through AI."
   ]
  },
  {
   "cell_type": "code",
   "execution_count": null,
   "metadata": {},
   "outputs": [],
   "source": [
    "import numpy as np\n",
    "from deepeval.metrics import HallucinationMetric"
   ]
  }
 ],
 "metadata": {
  "kernelspec": {
   "display_name": "Python 3",
   "language": "python",
   "name": "python3"
  }
 },
 "nbformat": 4,
 "nbformat_minor": 4
}