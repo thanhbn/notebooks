{
 "cells": [
  {
   "cell_type": "markdown",
   "metadata": {},
   "source": [
    "# Cài Đặt và Cấu Hình Claude với LangChain\n",
    "\n",
    "Notebook này hướng dẫn chi tiết cách:\n",
    "1. Cài đặt các thư viện cần thiết\n",
    "2. Cấu hình API key cho Claude (Anthropic)\n",
    "3. Kiểm tra kết nối với Claude\n",
    "4. Thực hiện một ví dụ đơn giản với ChatAnthropic\n",
    "\n",
    "## Yêu cầu\n",
    "- Python 3.8 trở lên\n",
    "- Tài khoản Anthropic với API key (đăng ký tại https://console.anthropic.com/)"
   ]
  },
  {
   "cell_type": "markdown",
   "metadata": {},
   "source": [
    "## ⚠️ Quan trọng: Virtual Environment\n",
    "Trước khi chạy notebook này, hãy chắc chắn rằng bạn đã:\n",
    "1. Chạy notebook `00_Setup_Virtual_Environment.ipynb` để tạo virtual environment\n",
    "2. Chọn kernel `Python (langchain_env)` trong Jupyter\n",
    "3. Kiểm tra: **Kernel → Change kernel → Python (langchain_env)**\""
   ]
  },
  {
   "cell_type": "markdown",
   "metadata": {},
   "source": [
    "## 1. Cài đặt các thư viện cần thiết\n",
    "\n",
    "Chúng ta cần cài đặt:\n",
    "- `langchain`: Framework chính cho việc xây dựng ứng dụng LLM\n",
    "- `langchain-anthropic`: Package tích hợp Claude của Anthropic\n",
    "- `python-dotenv`: Quản lý biến môi trường một cách an toàn"
   ]
  },
  {
   "cell_type": "code",
   "execution_count": 1,
   "metadata": {
    "jupyter": {
     "is_executing": true
    }
   },
   "outputs": [
    {
     "name": "stdout",
     "output_type": "stream",
     "text": [
      "anthropic                 0.54.0\n",
      "langchain                 0.3.25\n",
      "langchain-anthropic       0.3.15\n",
      "langchain-core            0.3.65\n",
      "langchain-text-splitters  0.3.8\n",
      "python-dotenv             1.1.0\n"
     ]
    }
   ],
   "source": [
    "# Kiểm tra các package đã cài đặt\n",
    "!pip list | grep -E \"langchain|anthropic|dotenv\""
   ]
  },
  {
   "cell_type": "code",
   "execution_count": null,
   "metadata": {
    "ExecuteTime": {
     "end_time": "2025-06-14T16:43:14.664847Z",
     "start_time": "2025-06-14T16:43:13.833748Z"
    }
   },
   "outputs": [],
   "source": [
    "# Cài đặt các thư viện cần thiết\n",
    "# Lưu ý: Đảm bảo bạn đang sử dụng kernel 'Python (langchain_env)' \n",
    "!pip install langchain langchain-anthropic python-dotenv"
   ]
  },
  {
   "cell_type": "markdown",
   "metadata": {},
   "source": [
    "## 2. Cấu hình API Key\n",
    "\n",
    "### 2.1 Tạo file .env\n",
    "\n",
    "Tạo file `.env` trong thư mục gốc của project với nội dung:\n",
    "```\n",
    "ANTHROPIC_API_KEY=YOUR_KEY_HERE\n",
    "```\n",
    "\n",
    "**Lưu ý quan trọng:**\n",
    "- KHÔNG BAO GIỜ commit file `.env` lên Git\n",
    "- Thêm `.env` vào file `.gitignore`\n",
    "- Giữ API key của bạn bí mật"
   ]
  },
  {
   "cell_type": "code",
   "execution_count": null,
   "metadata": {},
   "outputs": [],
   "source": [
    "# Tạo file .env mẫu (chỉ chạy một lần)\n",
    "import os\n",
    "\n",
    "# Kiểm tra xem file .env đã tồn tại chưa\n",
    "if not os.path.exists('../.env'):\n",
    "    with open('../.env', 'w') as f:\n",
    "        f.write('ANTHROPIC_API_KEY=YOUR_KEY_HERE\\n')\n",
    "    print(\"✅ Đã tạo file .env mẫu. Vui lòng cập nhật API key của bạn!\")\n",
    "else:\n",
    "    print(\"ℹ️ File .env đã tồn tại\")\n",
    "\n",
    "# Tạo file .gitignore nếu chưa có\n",
    "if not os.path.exists('../.gitignore'):\n",
    "    with open('../.gitignore', 'w') as f:\n",
    "        f.write('.env\\n')\n",
    "    print(\"✅ Đã tạo file .gitignore\")"
   ]
  },
  {
   "cell_type": "markdown",
   "metadata": {},
   "source": [
    "### 2.2 Load biến môi trường"
   ]
  },
  {
   "cell_type": "markdown",
   "metadata": {},
   "source": [
    "### 2.1.1 Chỉnh sửa file .env\n",
    "\n",
    "Để cập nhật API key, bạn có thể:\n",
    "1. Mở file .env bằng text editor yêu thích\n",
    "2. Hoặc sử dụng lệnh sau trong terminal:\n",
    "```bash\n",
    "nano ../.env\n",
    "# hoặc\n",
    "vim ../.env\n",
    "```"
   ]
  },
  {
   "cell_type": "code",
   "execution_count": null,
   "metadata": {},
   "outputs": [],
   "source": [
    "# Tạo file .env mẫu (chỉ chạy một lần)\n",
    "!test -f ../.env || echo 'ANTHROPIC_API_KEY=your-api-key-here' > ../.env\n",
    "!test -f ../.env && echo \"✅ File .env đã tồn tại hoặc vừa được tạo\"\n",
    "\n",
    "# Tạo file .gitignore nếu chưa có\n",
    "!test -f ../.gitignore || echo '.env' > ../.gitignore\n",
    "!test -f ../.gitignore && echo \"✅ File .gitignore đã tồn tại hoặc vừa được tạo\"\n",
    "\n",
    "# Hiển thị nội dung file .env (ẩn phần API key)\n",
    "!echo \"\\n📄 Nội dung file .env:\"\n",
    "!head -n 1 ../.env | sed 's/=.*/=***hidden***/'"
   ]
  },
  {
   "cell_type": "markdown",
   "metadata": {},
   "source": [
    "## 3. Khởi tạo ChatAnthropic\n",
    "\n",
    "Bây giờ chúng ta sẽ khởi tạo model Claude thông qua LangChain"
   ]
  },
  {
   "cell_type": "code",
   "execution_count": null,
   "metadata": {},
   "outputs": [],
   "source": [
    "from langchain_anthropic import ChatAnthropic\n",
    "\n",
    "# Khởi tạo model Claude\n",
    "# Có thể sử dụng các model: claude-3-opus-20240229, claude-3-sonnet-20240229, claude-3-haiku-20240307\n",
    "chat = ChatAnthropic(\n",
    "    model=\"claude-3-sonnet-20240229\",\n",
    "    anthropic_api_key=api_key,\n",
    "    temperature=0.7,\n",
    "    max_tokens=1000\n",
    ")\n",
    "\n",
    "print(\"✅ Đã khởi tạo ChatAnthropic thành công!\")\n",
    "print(f\"📊 Model: {chat.model}\")\n",
    "print(f\"🌡️ Temperature: {chat.temperature}\")\n",
    "print(f\"📝 Max tokens: {chat.max_tokens}\")"
   ]
  },
  {
   "cell_type": "markdown",
   "metadata": {},
   "source": [
    "## 4. Kiểm tra kết nối với ví dụ đơn giản\n",
    "\n",
    "Hãy thử gửi một tin nhắn đơn giản để kiểm tra kết nối"
   ]
  },
  {
   "cell_type": "code",
   "execution_count": null,
   "metadata": {},
   "outputs": [],
   "source": [
    "# Gửi tin nhắn test\n",
    "try:\n",
    "    response = chat.invoke(\"Xin chào! Bạn có thể giới thiệu ngắn gọn về bản thân không?\")\n",
    "    print(\"✅ Kết nối thành công!\\n\")\n",
    "    print(\"Claude trả lời:\")\n",
    "    print(\"-\" * 50)\n",
    "    print(response.content)\n",
    "except Exception as e:\n",
    "    print(f\"❌ Lỗi kết nối: {e}\")\n",
    "    print(\"\\n💡 Kiểm tra lại:\")\n",
    "    print(\"1. API key có hợp lệ không?\")\n",
    "    print(\"2. Kết nối internet có ổn định không?\")\n",
    "    print(\"3. Tài khoản Anthropic có đủ credit không?\")"
   ]
  },
  {
   "cell_type": "markdown",
   "metadata": {},
   "source": [
    "## 5. Ví dụ nâng cao hơn\n",
    "\n",
    "### 5.1 Sử dụng System Message"
   ]
  },
  {
   "cell_type": "code",
   "execution_count": null,
   "metadata": {},
   "outputs": [],
   "source": [
    "from langchain_core.messages import SystemMessage, HumanMessage\n",
    "\n",
    "# Tạo một cuộc hội thoại với system message\n",
    "messages = [\n",
    "    SystemMessage(content=\"Bạn là một chuyên gia về LangChain, hãy trả lời ngắn gọn và chính xác.\"),\n",
    "    HumanMessage(content=\"LangChain là gì và tại sao nó hữu ích?\")\n",
    "]\n",
    "\n",
    "response = chat.invoke(messages)\n",
    "print(\"Claude (Expert) trả lời:\")\n",
    "print(\"-\" * 50)\n",
    "print(response.content)"
   ]
  },
  {
   "cell_type": "markdown",
   "metadata": {},
   "source": [
    "### 5.2 Streaming Response"
   ]
  },
  {
   "cell_type": "code",
   "execution_count": null,
   "metadata": {},
   "outputs": [],
   "source": [
    "# Streaming để nhận response theo từng phần\n",
    "print(\"Claude đang trả lời (streaming):\")\n",
    "print(\"-\" * 50)\n",
    "\n",
    "for chunk in chat.stream(\"Giải thích ngắn gọn về RAG (Retrieval-Augmented Generation)\"):\n",
    "    print(chunk.content, end=\"\", flush=True)"
   ]
  },
  {
   "cell_type": "markdown",
   "metadata": {},
   "source": [
    "## 6. Các lưu ý quan trọng\n",
    "\n",
    "### 6.1 Về API Key\n",
    "- **Bảo mật**: Không bao giờ share API key công khai\n",
    "- **Giới hạn**: Mỗi API key có giới hạn rate limit và usage\n",
    "- **Monitoring**: Theo dõi usage tại https://console.anthropic.com/\n",
    "\n",
    "### 6.2 Về Models\n",
    "- **Claude 3 Opus**: Mạnh nhất, phù hợp cho task phức tạp\n",
    "- **Claude 3 Sonnet**: Cân bằng giữa hiệu năng và chi phí\n",
    "- **Claude 3 Haiku**: Nhanh và rẻ nhất, phù hợp cho task đơn giản\n",
    "\n",
    "### 6.3 Best Practices\n",
    "1. Luôn handle exceptions khi gọi API\n",
    "2. Sử dụng temperature phù hợp với use case\n",
    "3. Giới hạn max_tokens để kiểm soát chi phí\n",
    "4. Cache response khi có thể để tránh gọi API lặp lại"
   ]
  },
  {
   "cell_type": "markdown",
   "metadata": {},
   "source": [
    "## 7. Tổng kết\n",
    "\n",
    "Trong notebook này, chúng ta đã:\n",
    "- ✅ Cài đặt LangChain và langchain-anthropic\n",
    "- ✅ Cấu hình API key an toàn với python-dotenv\n",
    "- ✅ Khởi tạo và test ChatAnthropic\n",
    "- ✅ Thực hiện các ví dụ cơ bản và nâng cao\n",
    "\n",
    "Bây giờ bạn đã sẵn sàng để xây dựng các ứng dụng phức tạp hơn với Claude và LangChain!"
   ]
  },
  {
   "cell_type": "code",
   "execution_count": null,
   "metadata": {},
   "outputs": [],
   "source": [
    "# Cell cuối cùng - Kiểm tra version\n",
    "import langchain\n",
    "import langchain_anthropic\n",
    "\n",
    "print(\"📦 Phiên bản các thư viện:\")\n",
    "print(f\"- LangChain: {langchain.__version__}\")\n",
    "print(f\"- LangChain-Anthropic: {langchain_anthropic.__version__}\")"
   ]
  }
 ],
 "metadata": {
  "kernelspec": {
   "display_name": "Python (langchain_env)",
   "language": "python",
   "name": "langchain_env"
  },
  "language_info": {
   "codemirror_mode": {
    "name": "ipython",
    "version": 3
   },
   "file_extension": ".py",
   "mimetype": "text/x-python",
   "name": "python",
   "nbconvert_exporter": "python",
   "pygments_lexer": "ipython3",
   "version": "3.12.3"
  }
 },
 "nbformat": 4,
 "nbformat_minor": 4
}
