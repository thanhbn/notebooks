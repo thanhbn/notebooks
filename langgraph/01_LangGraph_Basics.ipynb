{
 "cells": [
  {
   "cell_type": "markdown",
   "metadata": {},
   "source": [
    "# 01. LangGraph Basics - Khái niệm cơ bản\n",
    "\n",
    "## Mục tiêu học tập\n",
    "- Hiểu được LangGraph là gì và tại sao nó quan trọng\n",
    "- Nắm vững các khái niệm cốt lõi: Graph, Nodes, Edges, State\n",
    "- Tạo được một Graph cơ bản đầu tiên\n",
    "- Hiểu luồng điều khiển trong LangGraph"
   ]
  },
  {
   "cell_type": "markdown",
   "metadata": {},
   "source": [
    "## Giới thiệu về LangGraph\n",
    "\n",
    "### LangGraph là gì?\n",
    "LangGraph là một thư viện để xây dựng các ứng dụng có trạng thái (stateful) và đa tác nhân (multi-actor) với các LLM. Nó mở rộng LangChain Expression Language với khả năng:\n",
    "- Định nghĩa luồng xử lý phức tạp dưới dạng Graph\n",
    "- Quản lý trạng thái (state) xuyên suốt quá trình xử lý\n",
    "- Hỗ trợ các tác nhân (agents) có thể tương tác với nhau\n",
    "\n",
    "### Tại sao cần LangGraph?\n",
    "- **Kiểm soát luồng xử lý**: Thay vì chuỗi tuyến tính, bạn có thể tạo luồng phức tạp với điều kiện và vòng lặp\n",
    "- **Quản lý trạng thái**: Duy trì thông tin xuyên suốt quá trình xử lý\n",
    "- **Khả năng mở rộng**: Dễ dàng thêm các bước xử lý mới\n",
    "- **Debug và theo dõi**: Có thể quan sát từng bước trong quá trình xử lý"
   ]
  },
  {
   "cell_type": "markdown",
   "metadata": {},
   "source": [
    "## Các khái niệm cốt lõi\n",
    "\n",
    "### 1. Graph (Đồ thị)\n",
    "- Cấu trúc chính của LangGraph\n",
    "- Bao gồm các nodes (nút) và edges (cạnh)\n",
    "- Định nghĩa luồng xử lý từ đầu đến cuối\n",
    "\n",
    "### 2. Nodes (Nút)\n",
    "- Đại diện cho các bước xử lý\n",
    "- Có thể là function Python, LLM call, hay bất kỳ logic nào\n",
    "- Nhận state làm input và trả về state mới\n",
    "\n",
    "### 3. Edges (Cạnh)\n",
    "- Kết nối các nodes với nhau\n",
    "- Định nghĩa thứ tự thực hiện\n",
    "- Có thể có điều kiện (conditional edges)\n",
    "\n",
    "### 4. State (Trạng thái)\n",
    "- Dữ liệu được truyền qua các nodes\n",
    "- Có thể được cập nhật tại mỗi node\n",
    "- Thường là dictionary hoặc TypedDict"
   ]
  },
  {
   "cell_type": "markdown",
   "metadata": {},
   "source": [
    "## Cài đặt & Cấu hình"
   ]
  },
  {
   "cell_type": "code",
   "execution_count": null,
   "metadata": {},
   "outputs": [],
   "source": [
    "# Cài đặt các thư viện cần thiết\n",
    "!pip install langgraph langchain langchain-anthropic python-dotenv"
   ]
  },
  {
   "cell_type": "code",
   "execution_count": null,
   "metadata": {},
   "outputs": [],
   "source": [
    "import os\n",
    "from dotenv import load_dotenv\n",
    "\n",
    "# Load environment variables\n",
    "load_dotenv()\n",
    "\n",
    "# Kiểm tra API key\n",
    "anthropic_api_key = os.getenv(\"ANTHROPIC_API_KEY\")\n",
    "if not anthropic_api_key:\n",
    "    print(\"⚠️ Cần cấu hình ANTHROPIC_API_KEY trong file .env\")\n",
    "    print(\"Tạo file .env và thêm: ANTHROPIC_API_KEY=your_api_key_here\")\n",
    "else:\n",
    "    print(\"✅ ANTHROPIC_API_KEY đã được cấu hình\")"
   ]
  },
  {
   "cell_type": "markdown",
   "metadata": {},
   "source": [
    "## Import các thư viện cần thiết"
   ]
  },
  {
   "cell_type": "code",
   "execution_count": null,
   "metadata": {},
   "outputs": [],
   "source": [
    "from typing import TypedDict, Annotated\n",
    "from langgraph.graph import StateGraph, START, END\n",
    "from langgraph.graph.message import add_messages\n",
    "from langchain_anthropic import ChatAnthropic\n",
    "from langchain_core.messages import HumanMessage, AIMessage\n",
    "import operator"
   ]
  },
  {
   "cell_type": "markdown",
   "metadata": {},
   "source": [
    "## Ví dụ 1: Định nghĩa State"
   ]
  },
  {
   "cell_type": "code",
   "execution_count": null,
   "metadata": {},
   "outputs": [],
   "source": [
    "# Định nghĩa State schema\n",
    "class GraphState(TypedDict):\n",
    "    # Danh sách tin nhắn\n",
    "    messages: Annotated[list, add_messages]\n",
    "    # Bước xử lý hiện tại\n",
    "    current_step: str\n",
    "    # Số lần xử lý\n",
    "    step_count: int\n",
    "\n",
    "print(\"✅ Đã định nghĩa GraphState\")"
   ]
  },
  {
   "cell_type": "markdown",
   "metadata": {},
   "source": [
    "## Ví dụ 2: Định nghĩa các Node (Functions)"
   ]
  },
  {
   "cell_type": "code",
   "execution_count": null,
   "metadata": {},
   "outputs": [],
   "source": [
    "# Node 1: Khởi tạo\n",
    "def initialize_node(state: GraphState) -> GraphState:\n",
    "    \"\"\"\n",
    "    Node khởi tạo - bước đầu tiên trong graph\n",
    "    \"\"\"\n",
    "    print(\"🚀 Bắt đầu xử lý...\")\n",
    "    \n",
    "    return {\n",
    "        \"current_step\": \"initialized\",\n",
    "        \"step_count\": 1,\n",
    "        \"messages\": [HumanMessage(content=\"Hệ thống đã khởi tạo\")]\n",
    "    }\n",
    "\n",
    "# Node 2: Xử lý với LLM\n",
    "def llm_node(state: GraphState) -> GraphState:\n",
    "    \"\"\"\n",
    "    Node xử lý với LLM\n",
    "    \"\"\"\n",
    "    print(f\"🤖 Xử lý với LLM (bước {state['step_count'] + 1})...\")\n",
    "    \n",
    "    # Khởi tạo LLM\n",
    "    llm = ChatAnthropic(model=\"claude-3-sonnet-20240229\", temperature=0)\n",
    "    \n",
    "    # Tạo prompt\n",
    "    prompt = \"Bạn là một trợ lý AI thân thiện. Hãy chào hỏi người dùng bằng tiếng Việt.\"\n",
    "    \n",
    "    # Gọi LLM\n",
    "    response = llm.invoke([HumanMessage(content=prompt)])\n",
    "    \n",
    "    return {\n",
    "        \"current_step\": \"llm_processed\",\n",
    "        \"step_count\": state[\"step_count\"] + 1,\n",
    "        \"messages\": [response]\n",
    "    }\n",
    "\n",
    "# Node 3: Hoàn thành\n",
    "def finalize_node(state: GraphState) -> GraphState:\n",
    "    \"\"\"\n",
    "    Node hoàn thành - bước cuối cùng\n",
    "    \"\"\"\n",
    "    print(f\"✅ Hoàn thành xử lý (tổng cộng {state['step_count'] + 1} bước)\")\n",
    "    \n",
    "    return {\n",
    "        \"current_step\": \"completed\",\n",
    "        \"step_count\": state[\"step_count\"] + 1,\n",
    "        \"messages\": state[\"messages\"] + [HumanMessage(content=\"Xử lý hoàn tất\")]\n",
    "    }\n",
    "\n",
    "print(\"✅ Đã định nghĩa 3 nodes: initialize_node, llm_node, finalize_node\")"
   ]
  },
  {
   "cell_type": "markdown",
   "metadata": {},
   "source": [
    "## Ví dụ 3: Tạo Graph cơ bản"
   ]
  },
  {
   "cell_type": "code",
   "execution_count": null,
   "metadata": {},
   "outputs": [],
   "source": [
    "# Tạo StateGraph\n",
    "workflow = StateGraph(GraphState)\n",
    "\n",
    "# Thêm các nodes\n",
    "workflow.add_node(\"initialize\", initialize_node)\n",
    "workflow.add_node(\"llm_process\", llm_node)\n",
    "workflow.add_node(\"finalize\", finalize_node)\n",
    "\n",
    "# Định nghĩa luồng xử lý (edges)\n",
    "workflow.add_edge(START, \"initialize\")  # Bắt đầu -> initialize\n",
    "workflow.add_edge(\"initialize\", \"llm_process\")  # initialize -> llm_process\n",
    "workflow.add_edge(\"llm_process\", \"finalize\")  # llm_process -> finalize\n",
    "workflow.add_edge(\"finalize\", END)  # finalize -> kết thúc\n",
    "\n",
    "# Compile graph\n",
    "app = workflow.compile()\n",
    "\n",
    "print(\"✅ Đã tạo thành công LangGraph với 3 nodes\")\n",
    "print(\"📊 Luồng xử lý: START → initialize → llm_process → finalize → END\")"
   ]
  },
  {
   "cell_type": "markdown",
   "metadata": {},
   "source": [
    "## Ví dụ 4: Chạy Graph"
   ]
  },
  {
   "cell_type": "code",
   "execution_count": null,
   "metadata": {},
   "outputs": [],
   "source": [
    "# State ban đầu\n",
    "initial_state = {\n",
    "    \"messages\": [],\n",
    "    \"current_step\": \"start\",\n",
    "    \"step_count\": 0\n",
    "}\n",
    "\n",
    "print(\"🎯 Chạy LangGraph...\")\n",
    "print(\"=\" * 50)\n",
    "\n",
    "# Chạy graph\n",
    "final_state = app.invoke(initial_state)\n",
    "\n",
    "print(\"=\" * 50)\n",
    "print(\"📋 Kết quả cuối cùng:\")\n",
    "print(f\"   - Bước hiện tại: {final_state['current_step']}\")\n",
    "print(f\"   - Số bước đã xử lý: {final_state['step_count']}\")\n",
    "print(f\"   - Số tin nhắn: {len(final_state['messages'])}\")\n",
    "\n",
    "# Hiển thị tin nhắn cuối cùng từ LLM\n",
    "if final_state['messages']:\n",
    "    last_ai_message = None\n",
    "    for msg in final_state['messages']:\n",
    "        if isinstance(msg, AIMessage):\n",
    "            last_ai_message = msg\n",
    "    \n",
    "    if last_ai_message:\n",
    "        print(f\"\\n🤖 Phản hồi từ AI: {last_ai_message.content}\")"
   ]
  },
  {
   "cell_type": "markdown",
   "metadata": {},
   "source": [
    "## Giải thích & Phân tích\n",
    "\n",
    "### Cách hoạt động của Graph\n",
    "\n",
    "1. **Khởi tạo State**: Graph bắt đầu với state rỗng\n",
    "2. **Chạy từng Node**: Mỗi node nhận state hiện tại, xử lý và trả về state mới\n",
    "3. **Cập nhật State**: State được cập nhật sau mỗi node\n",
    "4. **Chuyển đổi Node**: Edges định nghĩa node tiếp theo sẽ được thực hiện\n",
    "5. **Kết thúc**: Graph kết thúc khi đến END node\n",
    "\n",
    "### Ưu điểm của cách tiếp cận này\n",
    "\n",
    "- **Rõ ràng**: Mỗi bước xử lý được định nghĩa riêng biệt\n",
    "- **Có thể theo dõi**: Bạn có thể thấy state thay đổi như thế nào\n",
    "- **Linh hoạt**: Dễ dàng thêm/bớt nodes hoặc thay đổi luồng\n",
    "- **Tái sử dụng**: Các nodes có thể được sử dụng lại trong các graphs khác"
   ]
  },
  {
   "cell_type": "markdown",
   "metadata": {},
   "source": [
    "## Ví dụ 5: Xem cấu trúc Graph"
   ]
  },
  {
   "cell_type": "code",
   "execution_count": null,
   "metadata": {},
   "outputs": [],
   "source": [
    "# In ra cấu trúc của graph\n",
    "print(\"📊 Cấu trúc Graph:\")\n",
    "print(f\"   - Nodes: {list(app.graph.nodes.keys())}\")\n",
    "print(f\"   - Edges: {len(app.graph.edges)} kết nối\")\n",
    "\n",
    "# Xem chi tiết các edges\n",
    "print(\"\\n🔗 Chi tiết các kết nối:\")\n",
    "for edge in app.graph.edges:\n",
    "    print(f\"   {edge[0]} → {edge[1]}\")"
   ]
  },
  {
   "cell_type": "markdown",
   "metadata": {},
   "source": [
    "## Ví dụ 6: Chạy từng bước (Streaming)"
   ]
  },
  {
   "cell_type": "code",
   "execution_count": null,
   "metadata": {},
   "outputs": [],
   "source": [
    "print(\"🔄 Chạy Graph với streaming (xem từng bước):\")\n",
    "print(\"=\" * 60)\n",
    "\n",
    "# State ban đầu\n",
    "streaming_state = {\n",
    "    \"messages\": [],\n",
    "    \"current_step\": \"start\",\n",
    "    \"step_count\": 0\n",
    "}\n",
    "\n",
    "# Chạy với streaming để xem từng bước\n",
    "for i, step in enumerate(app.stream(streaming_state)):\n",
    "    print(f\"\\n📍 Bước {i+1}:\")\n",
    "    for node_name, node_output in step.items():\n",
    "        print(f\"   Node: {node_name}\")\n",
    "        print(f\"   Current step: {node_output.get('current_step', 'N/A')}\")\n",
    "        print(f\"   Step count: {node_output.get('step_count', 'N/A')}\")\n",
    "        print(f\"   Messages: {len(node_output.get('messages', []))}\")\n",
    "\n",
    "print(\"\\n✅ Hoàn thành streaming\")"
   ]
  },
  {
   "cell_type": "markdown",
   "metadata": {},
   "source": [
    "## Kết luận & Bước tiếp theo\n",
    "\n",
    "### Những gì đã học được\n",
    "\n",
    "1. **Khái niệm cơ bản**: Graph, Nodes, Edges, State\n",
    "2. **Cách tạo Graph**: Sử dụng StateGraph và compile\n",
    "3. **Định nghĩa Nodes**: Các function Python nhận và trả về state\n",
    "4. **Kết nối Nodes**: Sử dụng add_edge để định nghĩa luồng\n",
    "5. **Chạy Graph**: invoke() và stream() để thực hiện\n",
    "\n",
    "### Bước tiếp theo\n",
    "\n",
    "Trong các notebook tiếp theo, chúng ta sẽ tìm hiểu:\n",
    "- **Conditional Edges**: Tạo luồng có điều kiện\n",
    "- **Human-in-the-loop**: Tương tác với người dùng\n",
    "- **Multi-agent systems**: Nhiều agent hoạt động cùng lúc\n",
    "- **Persistence**: Lưu trữ và khôi phục state\n",
    "- **Error handling**: Xử lý lỗi trong graph\n",
    "\n",
    "### Bài tập thực hành\n",
    "\n",
    "1. Thêm một node mới vào graph hiện tại\n",
    "2. Tạo một graph với 2 nhánh parallel\n",
    "3. Thử thay đổi thứ tự các nodes\n",
    "4. Tạo một graph xử lý danh sách items"
   ]
  },
  {
   "cell_type": "markdown",
   "metadata": {},
   "source": [
    "---\n",
    "\n",
    "**📚 Tài liệu tham khảo:**\n",
    "- [LangGraph Documentation](https://langchain-ai.github.io/langgraph/)\n",
    "- [LangGraph GitHub](https://github.com/langchain-ai/langgraph)\n",
    "- [LangChain Expression Language](https://python.langchain.com/docs/expression_language/)\n",
    "\n",
    "**💡 Tips:**\n",
    "- Luôn định nghĩa State schema rõ ràng\n",
    "- Tên nodes nên mô tả rõ chức năng\n",
    "- Sử dụng streaming để debug\n",
    "- Test từng node riêng biệt trước khi kết hợp"
   ]
  }
 ],
 "metadata": {
  "kernelspec": {
   "display_name": "Python 3",
   "language": "python",
   "name": "python3"
  },
  "language_info": {
   "codemirror_mode": {
    "name": "ipython",
    "version": 3
   },
   "file_extension": ".py",
   "mimetype": "text/x-python",
   "name": "python",
   "nbconvert_exporter": "python",
   "pygments_lexer": "ipython3",
   "version": "3.11.0"
  }
 },
 "nbformat": 4,
 "nbformat_minor": 4
}