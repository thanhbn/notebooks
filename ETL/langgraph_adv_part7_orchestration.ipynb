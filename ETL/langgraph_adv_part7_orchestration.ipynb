{
 "cells": [
  {
   "cell_type": "markdown",
   "id": "68218ca2",
   "metadata": {},
   "source": [
    "# LangGraph Advanced – Part 7️⃣: Checkpoint & Resume"
   ]
  },
  {
   "cell_type": "markdown",
   "id": "8d2bbf68",
   "metadata": {},
   "source": [
    "Thể hiện checkpoint thủ công, resume sau crash."
   ]
  },
  {
   "cell_type": "code",
   "execution_count": null,
   "id": "af77f19a",
   "metadata": {},
   "outputs": [],
   "source": [
    "%pip install -q langgraph"
   ]
  },
  {
   "cell_type": "code",
   "execution_count": null,
   "id": "6786aa1a",
   "metadata": {},
   "outputs": [],
   "source": [
    "import pickle, time, os, sys\n",
    "from langgraph.graph import StateGraph, MessageState\n",
    "\n",
    "CKPT=\"ckpt.pkl\"\n",
    "\n",
    "class CState(MessageState):\n",
    "    i:int=0\n",
    "\n",
    "def step(state:CState):\n",
    "    print(\"i=\",state.i)\n",
    "    time.sleep(0.5)\n",
    "    state.i+=1\n",
    "    if state.i==3:\n",
    "        pickle.dump(state, open(CKPT,\"wb\"))\n",
    "        sys.exit(\"Simulated crash at 3\")\n",
    "    return state\n",
    "\n",
    "g=StateGraph(CState).add_node(\"s\",step).set_entry_point(\"s\")\n",
    "if os.path.exists(CKPT):\n",
    "    st=pickle.load(open(CKPT,\"rb\"))\n",
    "else:\n",
    "    st=CState()\n",
    "try:\n",
    "    g.compile().invoke(st)\n",
    "except SystemExit as e:\n",
    "    print(\"Crashed:\",e)\n"
   ]
  }
 ],
 "metadata": {},
 "nbformat": 4,
 "nbformat_minor": 5
}
