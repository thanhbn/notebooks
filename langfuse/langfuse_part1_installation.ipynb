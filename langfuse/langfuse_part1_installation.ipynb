{
 "cells": [
  {
   "cell_type": "markdown",
   "id": "35972f38",
   "metadata": {},
   "source": [
    "# LangFuse Tutorial – Part 1️⃣: Cài đặt & cấu hình"
   ]
  },
  {
   "cell_type": "markdown",
   "id": "17a1e1f3",
   "metadata": {},
   "source": [
    "Notebook này hướng dẫn bạn khởi động nhanh LangFuse để quan sát & đánh giá LLM workflow.  \n",
    "\n",
    "**Yêu cầu**  \n",
    "* Python ≥ 3.10  \n",
    "* Tài khoản LangFuse Cloud **hoặc** self‑host (Docker)  \n",
    "* Thiết lập biến môi trường:  \n",
    "\n",
    "```bash\n",
    "export LANGFUSE_PUBLIC_KEY=\"pk_xxx\"\n",
    "export LANGFUSE_SECRET_KEY=\"sk_xxx\"\n",
    "export LANGFUSE_HOST=\"https://cloud.langfuse.com\"  # nếu self‑host đổi URL\n",
    "```"
   ]
  },
  {
   "cell_type": "markdown",
   "id": "8d2c956d",
   "metadata": {},
   "source": [
    "## Cài đặt gói cần thiết"
   ]
  },
  {
   "cell_type": "code",
   "execution_count": null,
   "id": "3e71bd7e",
   "metadata": {},
   "outputs": [],
   "source": [
    "%pip install -q langfuse langchain langchain-anthropic tiktoken"
   ]
  }
 ],
 "metadata": {},
 "nbformat": 4,
 "nbformat_minor": 5
}
