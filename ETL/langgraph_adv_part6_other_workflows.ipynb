{
 "cells": [
  {
   "cell_type": "markdown",
   "id": "df5eca40",
   "metadata": {},
   "source": [
    "# LangGraph Advanced – Part 6️⃣: Fan‑out / Fan‑in Pattern"
   ]
  },
  {
   "cell_type": "markdown",
   "id": "25beda28",
   "metadata": {},
   "source": [
    "Demo chạy song song 3 truy vấn rồi gộp kết quả."
   ]
  },
  {
   "cell_type": "code",
   "execution_count": null,
   "id": "b0377f89",
   "metadata": {},
   "outputs": [],
   "source": [
    "%pip install -q langgraph langchain langchain-anthropic tiktoken"
   ]
  },
  {
   "cell_type": "code",
   "execution_count": null,
   "id": "0e433608",
   "metadata": {},
   "outputs": [],
   "source": [
    "from langgraph.graph import StateGraph, MessageState\n",
    "from concurrent.futures import ThreadPoolExecutor\n",
    "from langchain_anthropic import ChatAnthropic\n",
    "from langchain.schema import HumanMessage\n",
    "\n",
    "llm = ChatAnthropic(model_name=\"claude-3-haiku-20240307\",temperature=0.4)\n",
    "\n",
    "class FanState(MessageState):\n",
    "    question:str\n",
    "\n",
    "def search(engine:str):\n",
    "    return f\"Kết quả từ {engine}\"\n",
    "\n",
    "def fanout(state:FanState):\n",
    "    engines=[\"wiki\",\"news\",\"books\"]\n",
    "    with ThreadPoolExecutor(max_workers=3) as pool:\n",
    "        results=list(pool.map(search, engines))\n",
    "    state.results=results\n",
    "    return state\n",
    "\n",
    "def merge(state:FanState):\n",
    "    prompt=\"\\n\".join(state.results)\n",
    "    state.answer=llm([HumanMessage(content=f\"Tổng hợp:\\n{prompt}\")]).content\n",
    "    print(state.answer)\n",
    "    return state\n",
    "\n",
    "g=StateGraph(FanState).add_node(\"fan\",fanout).add_node(\"merge\",merge)\n",
    "g.set_entry_point(\"fan\").add_edge(\"fan\",\"merge\")\n",
    "g.compile().invoke(FanState(question=\"AI là gì?\"))"
   ]
  }
 ],
 "metadata": {},
 "nbformat": 4,
 "nbformat_minor": 5
}
