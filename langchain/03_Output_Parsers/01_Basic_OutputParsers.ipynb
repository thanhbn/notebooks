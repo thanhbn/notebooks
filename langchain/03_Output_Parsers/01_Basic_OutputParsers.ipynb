{
 "cells": [
  {
   "cell_type": "markdown",
   "metadata": {},
   "source": [
    "# Output Parsers Cơ Bản trong LangChain\n",
    "\n",
    "## Giới thiệu\n",
    "\n",
    "Output Parsers là các công cụ quan trọng trong LangChain giúp:\n",
    "- **Chuẩn hóa** đầu ra từ LLM thành format mong muốn\n",
    "- **Chuyển đổi** text response thành các cấu trúc dữ liệu Python\n",
    "- **Xử lý lỗi** khi LLM trả về format không đúng\n",
    "- **Tích hợp** dễ dàng với các hệ thống downstream\n",
    "\n",
    "Trong notebook này, chúng ta sẽ tìm hiểu các parser cơ bản nhất."
   ]
  },
  {
   "cell_type": "markdown",
   "metadata": {},
   "source": [
    "## Setup môi trường"
   ]
  },
  {
   "cell_type": "code",
   "execution_count": null,
   "metadata": {},
   "outputs": [],
   "source": [
    "# Import các thư viện cần thiết\n",
    "from langchain_core.output_parsers import (\n",
    "    StrOutputParser,\n",
    "    CommaSeparatedListOutputParser,\n",
    "    JsonOutputParser\n",
    ")\n",
    "from langchain_core.prompts import ChatPromptTemplate\n",
    "from langchain_anthropic import ChatAnthropic\n",
    "import os\n",
    "from dotenv import load_dotenv\n",
    "\n",
    "# Load environment variables\n",
    "load_dotenv()\n",
    "\n",
    "# Khởi tạo model\n",
    "model = ChatAnthropic(\n",
    "    model=\"claude-3-5-sonnet-20241022\",\n",
    "    temperature=0,\n",
    "    anthropic_api_key=os.getenv(\"ANTHROPIC_API_KEY\")\n",
    ")"
   ]
  },
  {
   "cell_type": "markdown",
   "metadata": {},
   "source": [
    "## 1. StrOutputParser - Parser đơn giản nhất\n",
    "\n",
    "`StrOutputParser` chuyển đổi output của LLM thành string thuần túy. Đây là parser mặc định và đơn giản nhất."
   ]
  },
  {
   "cell_type": "code",
   "execution_count": null,
   "metadata": {},
   "outputs": [],
   "source": [
    "# Khởi tạo StrOutputParser\n",
    "str_parser = StrOutputParser()\n",
    "\n",
    "# Tạo prompt đơn giản\n",
    "prompt = ChatPromptTemplate.from_messages([\n",
    "    (\"system\", \"Bạn là một nhà thơ. Hãy viết một câu thơ ngắn về {topic}.\")\n",
    "])\n",
    "\n",
    "# Tạo chain: prompt -> model -> parser\n",
    "chain = prompt | model | str_parser\n",
    "\n",
    "# Chạy chain\n",
    "result = chain.invoke({\"topic\": \"mùa xuân\"})\n",
    "\n",
    "print(\"Kết quả (type):\", type(result))\n",
    "print(\"Nội dung:\")\n",
    "print(result)"
   ]
  },
  {
   "cell_type": "code",
   "execution_count": null,
   "metadata": {},
   "outputs": [],
   "source": [
    "# So sánh với không dùng parser\n",
    "chain_no_parser = prompt | model\n",
    "result_no_parser = chain_no_parser.invoke({\"topic\": \"mùa xuân\"})\n",
    "\n",
    "print(\"Không dùng parser:\")\n",
    "print(\"Type:\", type(result_no_parser))\n",
    "print(\"Content:\", result_no_parser.content)\n",
    "print(\"\\nDùng StrOutputParser:\")\n",
    "print(\"Type:\", type(result))\n",
    "print(\"Content:\", result)"
   ]
  },
  {
   "cell_type": "markdown",
   "metadata": {},
   "source": [
    "## 2. CommaSeparatedListOutputParser\n",
    "\n",
    "Parser này chuyển đổi text output thành Python list, với các items được phân tách bởi dấu phẩy."
   ]
  },
  {
   "cell_type": "code",
   "execution_count": null,
   "metadata": {},
   "outputs": [],
   "source": [
    "# Khởi tạo CommaSeparatedListOutputParser\n",
    "list_parser = CommaSeparatedListOutputParser()\n",
    "\n",
    "# Xem format instructions mà parser cung cấp\n",
    "print(\"Format instructions:\")\n",
    "print(list_parser.get_format_instructions())\n",
    "print(\"=\"*50)"
   ]
  },
  {
   "cell_type": "code",
   "execution_count": null,
   "metadata": {},
   "outputs": [],
   "source": [
    "# Tạo prompt yêu cầu list output\n",
    "list_prompt = ChatPromptTemplate.from_messages([\n",
    "    (\"system\", \"\"\"Bạn là một chuyên gia về {domain}.\n",
    "    {format_instructions}\"\"\"),\n",
    "    (\"human\", \"Liệt kê 5 {items} phổ biến nhất.\")\n",
    "])\n",
    "\n",
    "# Tạo chain với parser\n",
    "list_chain = list_prompt | model | list_parser\n",
    "\n",
    "# Test với các domain khác nhau\n",
    "domains = [\n",
    "    {\"domain\": \"ẩm thực Việt Nam\", \"items\": \"món ăn\"},\n",
    "    {\"domain\": \"lập trình\", \"items\": \"ngôn ngữ lập trình\"},\n",
    "    {\"domain\": \"du lịch\", \"items\": \"điểm đến ở Việt Nam\"}\n",
    "]\n",
    "\n",
    "for d in domains:\n",
    "    result = list_chain.invoke({\n",
    "        \"domain\": d[\"domain\"],\n",
    "        \"items\": d[\"items\"],\n",
    "        \"format_instructions\": list_parser.get_format_instructions()\n",
    "    })\n",
    "    \n",
    "    print(f\"\\nDomain: {d['domain']}\")\n",
    "    print(f\"Kết quả (type: {type(result)}):\")\n",
    "    for i, item in enumerate(result, 1):\n",
    "        print(f\"  {i}. {item}\")"
   ]
  },
  {
   "cell_type": "markdown",
   "metadata": {},
   "source": [
    "## 3. Xử lý lỗi với OutputParser"
   ]
  },
  {
   "cell_type": "code",
   "execution_count": null,
   "metadata": {},
   "outputs": [],
   "source": [
    "# Test case có thể gây lỗi\n",
    "error_prompt = ChatPromptTemplate.from_messages([\n",
    "    (\"human\", \"Viết một đoạn văn về {topic}\")\n",
    "])\n",
    "\n",
    "# Chain với list parser (sẽ gặp lỗi nếu output không phải list)\n",
    "error_chain = error_prompt | model | list_parser\n",
    "\n",
    "try:\n",
    "    result = error_chain.invoke({\"topic\": \"biển\"})\n",
    "    print(\"Kết quả:\", result)\n",
    "except Exception as e:\n",
    "    print(f\"Lỗi xảy ra: {type(e).__name__}\")\n",
    "    print(f\"Chi tiết: {str(e)}\")\n",
    "    print(\"\\nĐây là lý do tại sao cần format instructions!\")"
   ]
  },
  {
   "cell_type": "markdown",
   "metadata": {},
   "source": [
    "## 4. Kết hợp nhiều Parser trong pipeline"
   ]
  },
  {
   "cell_type": "code",
   "execution_count": null,
   "metadata": {},
   "outputs": [],
   "source": [
    "# Tạo một pipeline phức tạp hơn\n",
    "from langchain_core.runnables import RunnablePassthrough, RunnableLambda\n",
    "\n",
    "# Custom function để xử lý list\n",
    "def process_list(items):\n",
    "    \"\"\"Xử lý và format lại list items\"\"\"\n",
    "    return {\n",
    "        \"count\": len(items),\n",
    "        \"items\": items,\n",
    "        \"formatted\": \"\\n\".join([f\"• {item}\" for item in items])\n",
    "    }\n",
    "\n",
    "# Prompt yêu cầu list\n",
    "analysis_prompt = ChatPromptTemplate.from_messages([\n",
    "    (\"system\", \"Bạn là chuyên gia phân tích.\"),\n",
    "    (\"human\", \"\"\"Liệt kê các bước để {task}.\n",
    "    {format_instructions}\"\"\")\n",
    "])\n",
    "\n",
    "# Chain với multiple steps\n",
    "analysis_chain = (\n",
    "    analysis_prompt \n",
    "    | model \n",
    "    | list_parser\n",
    "    | RunnableLambda(process_list)\n",
    ")\n",
    "\n",
    "# Test\n",
    "result = analysis_chain.invoke({\n",
    "    \"task\": \"học lập trình Python từ cơ bản\",\n",
    "    \"format_instructions\": list_parser.get_format_instructions()\n",
    "})\n",
    "\n",
    "print(f\"Số bước: {result['count']}\")\n",
    "print(\"\\nDanh sách các bước:\")\n",
    "print(result['formatted'])"
   ]
  },
  {
   "cell_type": "markdown",
   "metadata": {},
   "source": [
    "## 5. So sánh các Output Parser cơ bản"
   ]
  },
  {
   "cell_type": "code",
   "execution_count": null,
   "metadata": {},
   "outputs": [],
   "source": [
    "# Prompt chung để test\n",
    "test_prompt = ChatPromptTemplate.from_messages([\n",
    "    (\"human\", \"Liệt kê 3 loại trái cây nhiệt đới. {format_instructions}\")\n",
    "])\n",
    "\n",
    "# Test với StrOutputParser\n",
    "str_chain = test_prompt | model | StrOutputParser()\n",
    "str_result = str_chain.invoke({\"format_instructions\": \"\"})\n",
    "\n",
    "# Test với CommaSeparatedListOutputParser\n",
    "list_chain = test_prompt | model | list_parser\n",
    "list_result = list_chain.invoke({\n",
    "    \"format_instructions\": list_parser.get_format_instructions()\n",
    "})\n",
    "\n",
    "print(\"=== StrOutputParser ===\")\n",
    "print(f\"Type: {type(str_result)}\")\n",
    "print(f\"Result: {str_result}\")\n",
    "print(f\"\\n=== CommaSeparatedListOutputParser ===\")\n",
    "print(f\"Type: {type(list_result)}\")\n",
    "print(f\"Result: {list_result}\")\n",
    "print(f\"Length: {len(list_result)} items\")"
   ]
  },
  {
   "cell_type": "markdown",
   "metadata": {},
   "source": [
    "## 6. Use Case thực tế: Xử lý feedback từ người dùng"
   ]
  },
  {
   "cell_type": "code",
   "execution_count": null,
   "metadata": {},
   "outputs": [],
   "source": [
    "# Scenario: Phân tích feedback và trích xuất keywords\n",
    "feedback_prompt = ChatPromptTemplate.from_messages([\n",
    "    (\"system\", \"\"\"Bạn là chuyên gia phân tích feedback khách hàng.\n",
    "    Nhiệm vụ: Trích xuất các từ khóa chính từ feedback.\n",
    "    {format_instructions}\"\"\"),\n",
    "    (\"human\", \"Feedback: {feedback}\")\n",
    "])\n",
    "\n",
    "# Chain để xử lý feedback\n",
    "feedback_chain = feedback_prompt | model | list_parser\n",
    "\n",
    "# Test với nhiều feedback\n",
    "feedbacks = [\n",
    "    \"Sản phẩm rất tốt, giao hàng nhanh, đóng gói cẩn thận. Tuy nhiên giá hơi cao.\",\n",
    "    \"Dịch vụ tệ, nhân viên không nhiệt tình, thời gian chờ lâu. Không hài lòng.\",\n",
    "    \"App dễ sử dụng, giao diện đẹp, tính năng đầy đủ. Rất recommend!\"\n",
    "]\n",
    "\n",
    "for fb in feedbacks:\n",
    "    keywords = feedback_chain.invoke({\n",
    "        \"feedback\": fb,\n",
    "        \"format_instructions\": list_parser.get_format_instructions()\n",
    "    })\n",
    "    \n",
    "    print(f\"\\nFeedback: {fb}\")\n",
    "    print(f\"Keywords: {', '.join(keywords)}\")"
   ]
  },
  {
   "cell_type": "markdown",
   "metadata": {},
   "source": [
    "## 7. Custom processing với Output Parser"
   ]
  },
  {
   "cell_type": "code",
   "execution_count": null,
   "metadata": {},
   "outputs": [],
   "source": [
    "# Tạo function để phân loại keywords\n",
    "def categorize_keywords(keywords):\n",
    "    \"\"\"Phân loại keywords thành positive/negative\"\"\"\n",
    "    positive_words = ['tốt', 'nhanh', 'đẹp', 'hài lòng', 'recommend', 'cẩn thận', 'dễ', 'đầy đủ']\n",
    "    negative_words = ['tệ', 'cao', 'lâu', 'không', 'khó']\n",
    "    \n",
    "    result = {\n",
    "        'positive': [],\n",
    "        'negative': [],\n",
    "        'neutral': []\n",
    "    }\n",
    "    \n",
    "    for keyword in keywords:\n",
    "        keyword_lower = keyword.lower()\n",
    "        if any(pos in keyword_lower for pos in positive_words):\n",
    "            result['positive'].append(keyword)\n",
    "        elif any(neg in keyword_lower for neg in negative_words):\n",
    "            result['negative'].append(keyword)\n",
    "        else:\n",
    "            result['neutral'].append(keyword)\n",
    "    \n",
    "    return result\n",
    "\n",
    "# Enhanced chain với categorization\n",
    "enhanced_chain = (\n",
    "    feedback_prompt \n",
    "    | model \n",
    "    | list_parser\n",
    "    | RunnableLambda(categorize_keywords)\n",
    ")\n",
    "\n",
    "# Test\n",
    "test_feedback = \"Sản phẩm chất lượng tốt, thiết kế đẹp nhưng giá khá cao và giao hàng chậm.\"\n",
    "result = enhanced_chain.invoke({\n",
    "    \"feedback\": test_feedback,\n",
    "    \"format_instructions\": list_parser.get_format_instructions()\n",
    "})\n",
    "\n",
    "print(f\"Feedback: {test_feedback}\")\n",
    "print(\"\\nPhân tích:\")\n",
    "for category, keywords in result.items():\n",
    "    if keywords:\n",
    "        print(f\"  {category.capitalize()}: {', '.join(keywords)}\")"
   ]
  },
  {
   "cell_type": "markdown",
   "metadata": {},
   "source": [
    "## 8. Tips và Best Practices\n",
    "\n",
    "### 1. Luôn cung cấp format instructions\n",
    "- Giúp LLM hiểu rõ format output mong muốn\n",
    "- Giảm thiểu lỗi parsing\n",
    "\n",
    "### 2. Xử lý lỗi gracefully\n",
    "- Luôn có try-catch cho parsing operations\n",
    "- Cung cấp fallback behavior\n",
    "\n",
    "### 3. Chọn parser phù hợp\n",
    "- `StrOutputParser`: Khi cần text thuần\n",
    "- `CommaSeparatedListOutputParser`: Khi cần list đơn giản\n",
    "- `JsonOutputParser`: Khi cần structured data (sẽ học ở bài sau)"
   ]
  },
  {
   "cell_type": "code",
   "execution_count": null,
   "metadata": {},
   "outputs": [],
   "source": [
    "# Best practice example: Robust parsing với error handling\n",
    "def safe_parse_list(prompt_template, input_data):\n",
    "    \"\"\"Parse list với error handling\"\"\"\n",
    "    parser = CommaSeparatedListOutputParser()\n",
    "    \n",
    "    # Thêm format instructions vào input\n",
    "    input_data['format_instructions'] = parser.get_format_instructions()\n",
    "    \n",
    "    try:\n",
    "        # Tạo và chạy chain\n",
    "        chain = prompt_template | model | parser\n",
    "        result = chain.invoke(input_data)\n",
    "        return {\n",
    "            'success': True,\n",
    "            'data': result,\n",
    "            'error': None\n",
    "        }\n",
    "    except Exception as e:\n",
    "        # Fallback: dùng StrOutputParser và split manually\n",
    "        try:\n",
    "            str_chain = prompt_template | model | StrOutputParser()\n",
    "            str_result = str_chain.invoke(input_data)\n",
    "            # Manual split\n",
    "            items = [item.strip() for item in str_result.split(',')]\n",
    "            return {\n",
    "                'success': True,\n",
    "                'data': items,\n",
    "                'error': f'Fallback to manual parsing: {str(e)}'\n",
    "            }\n",
    "        except Exception as e2:\n",
    "            return {\n",
    "                'success': False,\n",
    "                'data': [],\n",
    "                'error': str(e2)\n",
    "            }\n",
    "\n",
    "# Test robust parsing\n",
    "test_cases = [\n",
    "    {\"items\": \"framework Python\"},\n",
    "    {\"items\": \"thư viện machine learning\"}\n",
    "]\n",
    "\n",
    "robust_prompt = ChatPromptTemplate.from_messages([\n",
    "    (\"human\", \"Liệt kê 3 {items} phổ biến. {format_instructions}\")\n",
    "])\n",
    "\n",
    "for test in test_cases:\n",
    "    result = safe_parse_list(robust_prompt, test)\n",
    "    print(f\"\\nTest: {test['items']}\")\n",
    "    print(f\"Success: {result['success']}\")\n",
    "    if result['success']:\n",
    "        print(f\"Data: {result['data']}\")\n",
    "    if result['error']:\n",
    "        print(f\"Note: {result['error']}\")"
   ]
  },
  {
   "cell_type": "markdown",
   "metadata": {},
   "source": [
    "## Tổng kết\n",
    "\n",
    "Trong notebook này, chúng ta đã học về:\n",
    "\n",
    "1. **StrOutputParser**: Parser cơ bản nhất, chuyển đổi thành string\n",
    "2. **CommaSeparatedListOutputParser**: Chuyển đổi thành Python list\n",
    "3. **Format Instructions**: Cách hướng dẫn LLM output đúng format\n",
    "4. **Error Handling**: Xử lý khi parsing thất bại\n",
    "5. **Chaining**: Kết hợp parser với các processing steps khác\n",
    "6. **Best Practices**: Robust parsing và fallback strategies\n",
    "\n",
    "Output Parsers là thành phần quan trọng giúp tích hợp LLM vào ứng dụng thực tế. Trong các bài tiếp theo, chúng ta sẽ học về các parser phức tạp hơn như JsonOutputParser và PydanticOutputParser!"
   ]
  }
 ],
 "metadata": {
  "kernelspec": {
   "display_name": "Python 3",
   "language": "python",
   "name": "python3"
  },
  "language_info": {
   "codemirror_mode": {
    "name": "ipython",
    "version": 3
   },
   "file_extension": ".py",
   "mimetype": "text/x-python",
   "name": "python",
   "nbconvert_exporter": "python",
   "pygments_lexer": "ipython3",
   "version": "3.11.0"
  }
 },
 "nbformat": 4,
 "nbformat_minor": 4
}