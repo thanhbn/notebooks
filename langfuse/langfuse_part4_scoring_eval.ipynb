{
 "cells": [
  {
   "cell_type": "markdown",
   "id": "5dea09ac",
   "metadata": {},
   "source": [
    "# LangFuse Tutorial – Part 4️⃣: Ghi điểm & đánh giá (Scoring)"
   ]
  },
  {
   "cell_type": "markdown",
   "id": "da2b686e",
   "metadata": {},
   "source": [
    "LangFuse cho phép attach **score** (numeric hoặc boolean) vào trace hay span."
   ]
  },
  {
   "cell_type": "code",
   "execution_count": null,
   "id": "ea47e479",
   "metadata": {},
   "outputs": [],
   "source": [
    "from langfuse import Langfuse, Score\n",
    "\n",
    "lf = Langfuse()\n",
    "trace = lf.get_trace(\"<trace_id_thu_được_từ_callback>\")  # điền ID thực tế\n",
    "\n",
    "# Thêm điểm chính xác thủ công\n",
    "Score(name=\"accuracy\", value=0.9, trace_id=trace.id).save()\n",
    "print(\"Đã ghi score!\")"
   ]
  }
 ],
 "metadata": {},
 "nbformat": 4,
 "nbformat_minor": 5
}
