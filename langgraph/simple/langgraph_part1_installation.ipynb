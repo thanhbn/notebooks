{
 "cells": [
  {
   "cell_type": "markdown",
   "id": "86651eaa",
   "metadata": {},
   "source": [
    "# LangGraph Tutorial – Part 1️⃣: Cài đặt môi trường"
   ]
  },
  {
   "cell_type": "markdown",
   "id": "09cebdf1",
   "metadata": {},
   "source": [
    "Notebook này hướng dẫn bạn cài đặt mọi thứ cần thiết để học LangGraph + Claude.\n",
    "\n",
    "**Yêu cầu**  \n",
    "* Python ≥ 3.10  \n",
    "* API Key Claude (Anthropic) — đặt biến môi trường `ANTHROPIC_API_KEY`\n",
    "\n",
    "---"
   ]
  },
  {
   "cell_type": "markdown",
   "id": "08757076",
   "metadata": {},
   "source": [
    "## Cài đặt gói"
   ]
  },
  {
   "cell_type": "code",
   "id": "188574d8",
   "metadata": {
    "ExecuteTime": {
     "end_time": "2025-06-15T03:51:24.809720Z",
     "start_time": "2025-06-15T03:51:14.688562Z"
    }
   },
   "source": [
    "%pip install -q langgraph langchain langchain-anthropic tiktoken"
   ],
   "outputs": [
    {
     "name": "stdout",
     "output_type": "stream",
     "text": [
      "Note: you may need to restart the kernel to use updated packages.\n"
     ]
    }
   ],
   "execution_count": 1
  },
  {
   "metadata": {
    "ExecuteTime": {
     "end_time": "2025-06-15T03:51:49.189821Z",
     "start_time": "2025-06-15T03:51:49.059862Z"
    }
   },
   "cell_type": "code",
   "source": "!which pip3",
   "id": "7e63d1cc7739ebe5",
   "outputs": [
    {
     "name": "stdout",
     "output_type": "stream",
     "text": [
      "/usr/bin/pip3\r\n"
     ]
    }
   ],
   "execution_count": 3
  }
 ],
 "metadata": {
  "kernelspec": {
   "name": "langchain_env",
   "language": "python",
   "display_name": "Python (langchain_env)"
  }
 },
 "nbformat": 4,
 "nbformat_minor": 5
}
