{
 "cells": [
  {
   "cell_type": "markdown",
   "id": "aad6c113",
   "metadata": {},
   "source": [
    "# 01 – Nền tảng và Khái niệm cốt lõi\n",
    "Mục tiêu: Làm quen với DeepEval và cách viết test đơn giản."
   ]
  },
  {
   "cell_type": "markdown",
   "id": "a31ca0e8",
   "metadata": {},
   "source": [
    "## Cài đặt"
   ]
  },
  {
   "cell_type": "code",
   "execution_count": 1,
   "id": "961f019d",
   "metadata": {
    "ExecuteTime": {
     "end_time": "2025-06-20T01:01:53.852194Z",
     "start_time": "2025-06-20T01:01:53.801643Z"
    }
   },
   "outputs": [],
   "source": [
    "!pip install deepeval langchain pytest -q"
   ]
  },
  {
   "cell_type": "markdown",
   "id": "3ee6d281",
   "metadata": {},
   "source": [
    "## Thiết lập biến môi trường"
   ]
  },
  {
   "cell_type": "code",
   "execution_count": 3,
   "id": "a656034d",
   "metadata": {
    "ExecuteTime": {
     "end_time": "2025-06-20T02:11:07.488699Z",
     "start_time": "2025-06-20T02:11:07.483997Z"
    }
   },
   "outputs": [],
   "source": [
    "import os\n",
    "os.environ['OPENAI_API_KEY'] = 'YOUR_API_KEY'  # Thay bằng khóa thật"
   ]
  },
  {
   "cell_type": "code",
   "execution_count": null,
   "id": "626c3219-eb96-4d1b-ba4a-829f66e2537a",
   "metadata": {
    "ExecuteTime": {
     "end_time": "2025-06-20T02:18:21.230067Z",
     "start_time": "2025-06-20T02:18:21.030953Z"
    }
   },
   "outputs": [],
   "source": [
    "!pip3 list\n",
    "!where python"
   ]
  },
  {
   "cell_type": "markdown",
   "id": "2e597fff",
   "metadata": {},
   "source": [
    "## LLMTestCase cơ bản"
   ]
  },
  {
   "cell_type": "code",
   "execution_count": 13,
   "id": "bc3dd3c7",
   "metadata": {
    "ExecuteTime": {
     "end_time": "2025-06-20T02:15:30.357890Z",
     "start_time": "2025-06-20T02:15:30.325003Z"
    }
   },
   "outputs": [
    {
     "ename": "ImportError",
     "evalue": "cannot import name 'assert_test' from 'deepeval' (unknown location)",
     "output_type": "error",
     "traceback": [
      "\u001b[31m---------------------------------------------------------------------------\u001b[39m",
      "\u001b[31mImportError\u001b[39m                               Traceback (most recent call last)",
      "\u001b[36mCell\u001b[39m\u001b[36m \u001b[39m\u001b[32mIn[13]\u001b[39m\u001b[32m, line 1\u001b[39m\n\u001b[32m----> \u001b[39m\u001b[32m1\u001b[39m \u001b[38;5;28;01mfrom\u001b[39;00m\u001b[38;5;250m \u001b[39m\u001b[34;01mdeepeval\u001b[39;00m\u001b[38;5;250m \u001b[39m\u001b[38;5;28;01mimport\u001b[39;00m assert_test\n\u001b[32m      2\u001b[39m \u001b[38;5;28;01mfrom\u001b[39;00m\u001b[38;5;250m \u001b[39m\u001b[34;01mdeepeval\u001b[39;00m\u001b[34;01m.\u001b[39;00m\u001b[34;01mtest_case\u001b[39;00m\u001b[38;5;250m \u001b[39m\u001b[38;5;28;01mimport\u001b[39;00m LLMTestCase\n\u001b[32m      3\u001b[39m \u001b[38;5;28;01mfrom\u001b[39;00m\u001b[38;5;250m \u001b[39m\u001b[34;01mdeepeval\u001b[39;00m\u001b[34;01m.\u001b[39;00m\u001b[34;01mmetrics\u001b[39;00m\u001b[34;01m.\u001b[39;00m\u001b[34;01manswer_relevancy\u001b[39;00m\u001b[34;01m.\u001b[39;00m\u001b[34;01manswer_relevancy\u001b[39;00m\u001b[38;5;250m \u001b[39m\u001b[38;5;28;01mimport\u001b[39;00m AnswerRelevancyMetric\n",
      "\u001b[31mImportError\u001b[39m: cannot import name 'assert_test' from 'deepeval' (unknown location)"
     ]
    }
   ],
   "source": [
    "from deepeval import assert_test\n",
    "from deepeval.test_case import LLMTestCase\n",
    "from deepeval.metrics.answer_relevancy.answer_relevancy import AnswerRelevancyMetric\n",
    "\n",
    "test_case = LLMTestCase(\n",
    "    input=\"Xin chào, thủ đô Việt Nam là gì?\",\n",
    "    actual_output=\"Thủ đô của Việt Nam là Hà Nội.\"\n",
    ")\n",
    "metric = AnswerRelevancyMetric(threshold=0.7)\n",
    "assert_test(test_case, metrics=[metric])"
   ]
  },
  {
   "cell_type": "markdown",
   "id": "17d06c37",
   "metadata": {},
   "source": [
    "### Tích hợp với pytest"
   ]
  },
  {
   "cell_type": "code",
   "execution_count": null,
   "id": "9dac380d",
   "metadata": {},
   "outputs": [],
   "source": [
    "# file: test_sample.py\n",
    "from deepeval import assert_test, LLMTestCase\n",
    "from deepeval.metrics.hallucination import HallucinationMetric\n",
    "\n",
    "metric = HallucinationMetric(threshold=0.5)\n",
    "\n",
    "def test_capital():\n",
    "    case = LLMTestCase(\n",
    "        input=\"Thủ đô Lào là gì?\",\n",
    "        actual_output=\"Thủ đô của Lào là Viêng Chăn.\"\n",
    "    )\n",
    "    assert_test(case, [metric])"
   ]
  },
  {
   "cell_type": "markdown",
   "id": "e70b1fa6",
   "metadata": {},
   "source": [
    "Chạy `pytest -q` để thực thi."
   ]
  }
 ],
 "metadata": {
  "kernelspec": {
   "display_name": "Python 3 (ipykernel)",
   "language": "python",
   "name": "python3"
  },
  "language_info": {
   "codemirror_mode": {
    "name": "ipython",
    "version": 3
   },
   "file_extension": ".py",
   "mimetype": "text/x-python",
   "name": "python",
   "nbconvert_exporter": "python",
   "pygments_lexer": "ipython3",
   "version": "3.13.3"
  }
 },
 "nbformat": 4,
 "nbformat_minor": 5
}
