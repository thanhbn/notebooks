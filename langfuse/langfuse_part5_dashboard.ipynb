{
 "cells": [
  {
   "cell_type": "markdown",
   "id": "7bfa3c59",
   "metadata": {},
   "source": [
    "# LangFuse Tutorial – Part 5️⃣: Khám phá Dashboard & Query API"
   ]
  },
  {
   "cell_type": "markdown",
   "id": "e4c2c2af",
   "metadata": {},
   "source": [
    "Dashboard LangFuse cung cấp đồ thị thống kê latency, token, score v.v.  \n",
    "\n",
    "### API Truy vấn trace\n"
   ]
  },
  {
   "cell_type": "code",
   "execution_count": null,
   "id": "42d3fa2b",
   "metadata": {},
   "outputs": [],
   "source": [
    "from langfuse import Langfuse\n",
    "lf = Langfuse()\n",
    "\n",
    "traces = lf.search_traces(limit=5)\n",
    "for t in traces:\n",
    "    print(t.id, t.name, t.created_at)"
   ]
  }
 ],
 "metadata": {},
 "nbformat": 4,
 "nbformat_minor": 5
}
