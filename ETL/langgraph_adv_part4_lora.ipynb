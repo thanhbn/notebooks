{
 "cells": [
  {
   "cell_type": "markdown",
   "id": "314279d4",
   "metadata": {},
   "source": [
    "# LangGraph Advanced – Part 4️⃣: Inline LoRA Fine‑Tuning Node"
   ]
  },
  {
   "cell_type": "markdown",
   "id": "6aba5043",
   "metadata": {},
   "source": [
    "Sử dụng PEFT LoRA trong node LangGraph."
   ]
  },
  {
   "cell_type": "code",
   "execution_count": null,
   "id": "946eadaf",
   "metadata": {},
   "outputs": [],
   "source": [
    "%pip install -q langgraph transformers peft datasets accelerate"
   ]
  },
  {
   "cell_type": "code",
   "execution_count": null,
   "id": "66546c96",
   "metadata": {},
   "outputs": [],
   "source": [
    "from transformers import AutoModelForCausalLM, AutoTokenizer, TrainingArguments\n",
    "from peft import LoraConfig, get_peft_model, prepare_model_for_kbit_training\n",
    "from datasets import load_dataset\n",
    "from langgraph.graph import StateGraph, MessageState\n",
    "import torch\n",
    "\n",
    "BASE_MODEL = \"facebook/opt-350m\"\n",
    "token = AutoTokenizer.from_pretrained(BASE_MODEL)\n",
    "model = AutoModelForCausalLM.from_pretrained(BASE_MODEL, load_in_8bit=True, device_map=\"auto\")\n",
    "model = prepare_model_for_kbit_training(model)\n",
    "lora_cfg = LoraConfig(r=8, lora_alpha=16, target_modules=[\"q_proj\",\"v_proj\"])\n",
    "model = get_peft_model(model, lora_cfg)\n",
    "\n",
    "class LoRAState(MessageState): pass\n",
    "\n",
    "def train(state: LoRAState):\n",
    "    ds = load_dataset(\"yelp_review_full\", split=\"train[:0.1%]\")\n",
    "    def tokenize(batch):\n",
    "        return token(batch[\"text\"], truncation=True, padding=\"max_length\", max_length=64)\n",
    "    ds = ds.map(tokenize, batched=True)\n",
    "    args = TrainingArguments(output_dir=\"lora_out\", per_device_train_batch_size=4,\n",
    "                             num_train_epochs=1, fp16=True)\n",
    "    model.train()\n",
    "    trainer = torch.compile\n",
    "    return state\n",
    "\n",
    "g = StateGraph(LoRAState).add_node(\"train\", train).set_entry_point(\"train\").compile()\n"
   ]
  }
 ],
 "metadata": {},
 "nbformat": 4,
 "nbformat_minor": 5
}
