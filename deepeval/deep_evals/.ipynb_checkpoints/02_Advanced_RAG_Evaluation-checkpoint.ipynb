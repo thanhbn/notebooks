{
 "cells": [
  {
   "cell_type": "markdown",
   "id": "999f5e07",
   "metadata": {},
   "source": [
    "# 02 – Đánh giá nâng cao RAG"
   ]
  },
  {
   "cell_type": "markdown",
   "id": "1c25de59",
   "metadata": {},
   "source": [
    "Notebook này xây dựng một hệ RAG đơn giản bằng LangChain và đánh giá bằng DeepEval."
   ]
  },
  {
   "cell_type": "code",
   "id": "db450dde",
   "metadata": {
    "ExecuteTime": {
     "end_time": "2025-06-20T03:30:22.339977Z",
     "start_time": "2025-06-20T03:30:22.272448Z"
    }
   },
   "source": [
    "from langchain.embeddings import OpenAIEmbeddings\n",
    "from langchain.vectorstores import FAISS\n",
    "from langchain.text_splitter import RecursiveCharacterTextSplitter\n",
    "from langchain.chat_models import ChatOpenAI\n",
    "from langchain.chains import RetrievalQA\n",
    "\n",
    "from deepeval import assert_test\n",
    "from deepeval.test_case import LLMTestCase\n",
    "\n",
    "from deepeval.metrics import ContextualPrecisionMetric, ContextualRecallMetric, ContextualRelevancyMetric, FaithfulnessMetric\n",
    "\n",
    "with open('data/rag_document.txt', encoding='utf-8') as f:\n",
    "    doc = f.read()\n",
    "\n",
    "splitter = RecursiveCharacterTextSplitter(chunk_size=500, chunk_overlap=100)\n",
    "texts = splitter.split_text(doc)\n",
    "\n",
    "embeddings = OpenAIEmbeddings()\n",
    "vectorstore = FAISS.from_texts(texts, embeddings)\n",
    "retriever = vectorstore.as_retriever()\n",
    "\n",
    "llm = ChatOpenAI(model_name=\"gpt-3.5-turbo\")\n",
    "qa_chain = RetrievalQA(llm=llm, retriever=retriever)\n",
    "\n",
    "question = \"Dân số TP HCM khoảng bao nhiêu?\"\n",
    "result = qa_chain.run(question)\n",
    "print(\"KQ:\", result)\n",
    "\n",
    "metrics = [ContextualPrecisionMetric(), ContextualRecallMetric(), ContextualRelevancyMetric(), FaithfulnessMetric()]\n",
    "case = LLMTestCase(input=question, actual_output=result, context=texts[:5])\n",
    "assert_test(case, metrics)"
   ],
   "outputs": [
    {
     "ename": "ModuleNotFoundError",
     "evalue": "No module named 'langchain.embeddings'",
     "output_type": "error",
     "traceback": [
      "\u001B[31m---------------------------------------------------------------------------\u001B[39m",
      "\u001B[31mModuleNotFoundError\u001B[39m                       Traceback (most recent call last)",
      "\u001B[36mCell\u001B[39m\u001B[36m \u001B[39m\u001B[32mIn[2]\u001B[39m\u001B[32m, line 1\u001B[39m\n\u001B[32m----> \u001B[39m\u001B[32m1\u001B[39m \u001B[38;5;28;01mfrom\u001B[39;00m\u001B[38;5;250m \u001B[39m\u001B[34;01mlangchain\u001B[39;00m\u001B[34;01m.\u001B[39;00m\u001B[34;01membeddings\u001B[39;00m\u001B[38;5;250m \u001B[39m\u001B[38;5;28;01mimport\u001B[39;00m OpenAIEmbeddings\n\u001B[32m      2\u001B[39m \u001B[38;5;28;01mfrom\u001B[39;00m\u001B[38;5;250m \u001B[39m\u001B[34;01mlangchain\u001B[39;00m\u001B[34;01m.\u001B[39;00m\u001B[34;01mvectorstores\u001B[39;00m\u001B[38;5;250m \u001B[39m\u001B[38;5;28;01mimport\u001B[39;00m FAISS\n\u001B[32m      3\u001B[39m \u001B[38;5;28;01mfrom\u001B[39;00m\u001B[38;5;250m \u001B[39m\u001B[34;01mlangchain\u001B[39;00m\u001B[34;01m.\u001B[39;00m\u001B[34;01mtext_splitter\u001B[39;00m\u001B[38;5;250m \u001B[39m\u001B[38;5;28;01mimport\u001B[39;00m RecursiveCharacterTextSplitter\n",
      "\u001B[31mModuleNotFoundError\u001B[39m: No module named 'langchain.embeddings'"
     ]
    }
   ],
   "execution_count": 2
  },
  {
   "cell_type": "markdown",
   "id": "52407907",
   "metadata": {},
   "source": [
    "## Synthesizer – Tạo bộ dữ liệu tự động"
   ]
  },
  {
   "cell_type": "code",
   "execution_count": null,
   "id": "8ff6081d",
   "metadata": {},
   "outputs": [],
   "source": [
    "from deepeval.synthesizer import RAGSynthesizer\n",
    "synth = RAGSynthesizer(document_path='data/rag_document.txt', num_cases=3)\n",
    "testset = synth.generate()\n",
    "print(testset[0])"
   ]
  }
 ],
 "metadata": {
  "kernelspec": {
   "name": "python3",
   "language": "python",
   "display_name": "Python 3 (ipykernel)"
  }
 },
 "nbformat": 4,
 "nbformat_minor": 5
}
