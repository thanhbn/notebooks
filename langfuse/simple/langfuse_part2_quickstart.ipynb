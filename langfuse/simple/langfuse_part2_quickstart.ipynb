{
 "cells": [
  {
   "cell_type": "markdown",
   "id": "b6fb479b",
   "metadata": {},
   "source": [
    "# LangFuse Tutorial – Part 2️⃣: Quick‑start Trace & Span"
   ]
  },
  {
   "cell_type": "markdown",
   "id": "f629376e",
   "metadata": {},
   "source": [
    "Trong phần này bạn sẽ tạo một **trace** & hai **span** thủ công để hiểu cấu trúc dữ liệu LangFuse."
   ]
  },
  {
   "cell_type": "code",
   "execution_count": null,
   "id": "9a4a546c",
   "metadata": {},
   "outputs": [],
   "source": [
    "from langfuse import Langfuse\n",
    "import uuid, time\n",
    "\n",
    "# Khởi tạo client (dùng biến môi trường đã set)\n",
    "langfuse = Langfuse()\n",
    "\n",
    "# 1. Tạo trace\n",
    "trace_id = str(uuid.uuid4())\n",
    "trace = langfuse.trace(trace_id=trace_id, name=\"demo-trace\")\n",
    "\n",
    "# 2. Tạo span cho prompt\n",
    "prompt_span = trace.span(name=\"prompt\")\n",
    "prompt_span.input = {\"prompt\": \"Xin chào, bạn khoẻ không?\"}\n",
    "time.sleep(0.1)  # giả lập latency\n",
    "prompt_span.output = {\"completion\": \"Tôi rất khoẻ, cảm ơn bạn!\"}\n",
    "prompt_span.end()\n",
    "\n",
    "# 3. Tạo span xử lý tiếp theo\n",
    "process_span = trace.span(name=\"post-process\")\n",
    "process_span.input = {\"raw\": prompt_span.output}\n",
    "time.sleep(0.05)\n",
    "process_span.output = {\"processed\": prompt_span.output[\"completion\"].upper()}\n",
    "process_span.end()\n",
    "\n",
    "# Kết thúc trace\n",
    "trace.end()\n",
    "\n",
    "print(\"Trace gửi lên LangFuse Cloud:\", trace_id)"
   ]
  }
 ],
 "metadata": {},
 "nbformat": 4,
 "nbformat_minor": 5
}
