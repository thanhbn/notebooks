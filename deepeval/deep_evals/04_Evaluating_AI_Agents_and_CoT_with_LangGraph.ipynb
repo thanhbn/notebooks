{
 "cells": [
  {
   "cell_type": "markdown",
   "id": "5ac4274f",
   "metadata": {},
   "source": [
    "# 04 – Đánh giá AI Agent & CoT với LangGraph"
   ]
  },
  {
   "cell_type": "markdown",
   "id": "13a0eca5",
   "metadata": {},
   "source": [
    "Xây dựng agent đơn giản với LangGraph, lưu CoT và đánh giá."
   ]
  },
  {
   "cell_type": "code",
   "execution_count": null,
   "id": "28c23b34",
   "metadata": {},
   "outputs": [],
   "source": [
    "from langgraph.graph import StateGraph\n",
    "from langchain.chat_models import ChatOpenAI\n",
    "from deepeval import LLMTestCase, assert_test\n",
    "from deepeval.metrics.geval import GEval\n",
    "\n",
    "llm = ChatOpenAI(model_name='gpt-3.5-turbo')\n",
    "\n",
    "graph = StateGraph(llm=llm)\n",
    "graph.add_system_message(\"Bạn là trợ lý toán học, giải thích từng bước.\")\n",
    "graph.add_user_message(\"Tính 5!?\")\n",
    "result = graph.run()\n",
    "cot = result.cot\n",
    "print(cot)\n",
    "\n",
    "# LogicalFlowMetric\n",
    "logical_prompt = \"Chấm 1 nếu chuỗi suy luận sau hợp lý, 0 nếu không:\\n{actual_output}\"\n",
    "LogicalFlowMetric = GEval(name=\"LogicalFlow\", prompt=logical_prompt, threshold=0.7)\n",
    "\n",
    "# ToolUsageMetric (ví dụ)\n",
    "tool_prompt = \"Chấm 1 nếu agent gọi đúng công cụ, 0 nếu không:\\n{actual_output}\"\n",
    "ToolUsageMetric = GEval(name=\"ToolUsage\", prompt=tool_prompt, threshold=0.5)\n",
    "\n",
    "case = LLMTestCase(input=\"Tính 5!\", actual_output=cot, context=str(result))\n",
    "assert_test(case, metrics=[LogicalFlowMetric, ToolUsageMetric])"
   ]
  }
 ],
 "metadata": {},
 "nbformat": 4,
 "nbformat_minor": 5
}
