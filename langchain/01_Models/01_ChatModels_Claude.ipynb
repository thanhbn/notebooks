{
 "cells": [
  {
   "cell_type": "markdown",
   "metadata": {},
   "source": [
    "# Chat Models với Claude - Hướng dẫn chi tiết\n",
    "\n",
    "Notebook này cung cấp hướng dẫn toàn diện về cách sử dụng `ChatAnthropic` trong LangChain để tương tác với các mô hình Claude.\n",
    "\n",
    "## Nội dung chính:\n",
    "1. Giới thiệu về Chat Models\n",
    "2. Các mô hình Claude khả dụng\n",
    "3. Tham số cấu hình quan trọng\n",
    "4. Các loại tin nhắn (Messages)\n",
    "5. Phương thức invoke và stream\n",
    "6. Các use case nâng cao"
   ]
  },
  {
   "cell_type": "markdown",
   "metadata": {},
   "source": [
    "## 1. Setup môi trường"
   ]
  },
  {
   "cell_type": "code",
   "execution_count": null,
   "metadata": {},
   "outputs": [],
   "source": [
    "# Import các thư viện cần thiết\n",
    "import os\n",
    "from dotenv import load_dotenv\n",
    "from langchain_anthropic import ChatAnthropic\n",
    "from langchain_core.messages import SystemMessage, HumanMessage, AIMessage\n",
    "\n",
    "# Load environment variables\n",
    "load_dotenv(dotenv_path='../../.env')\n",
    "\n",
    "# Kiểm tra API key\n",
    "api_key = os.getenv('ANTHROPIC_API_KEY')\n",
    "if not api_key or api_key == 'your-api-key-here':\n",
    "    raise ValueError(\"Vui lòng cấu hình ANTHROPIC_API_KEY trong file .env\")\n",
    "\n",
    "print(\"✅ Setup thành công!\")"
   ]
  },
  {
   "cell_type": "markdown",
   "metadata": {},
   "source": [
    "## 2. Giới thiệu về Chat Models\n",
    "\n",
    "### Chat Models là gì?\n",
    "Chat Models là các mô hình ngôn ngữ được thiết kế đặc biệt cho các cuộc hội thoại. Khác với Text Models truyền thống:\n",
    "- **Input**: Danh sách các messages (tin nhắn) thay vì text đơn thuần\n",
    "- **Output**: AIMessage object chứa response có cấu trúc\n",
    "- **Context**: Duy trì ngữ cảnh hội thoại tốt hơn"
   ]
  },
  {
   "cell_type": "markdown",
   "metadata": {},
   "source": [
    "## 3. Các mô hình Claude khả dụng\n",
    "\n",
    "Anthropic cung cấp 3 dòng model Claude 3 với các đặc điểm khác nhau:"
   ]
  },
  {
   "cell_type": "code",
   "execution_count": null,
   "metadata": {},
   "outputs": [],
   "source": [
    "# Danh sách các model Claude 3 và đặc điểm\n",
    "claude_models = {\n",
    "    \"claude-3-opus-20240229\": {\n",
    "        \"description\": \"Mạnh nhất, phù hợp cho task phức tạp\",\n",
    "        \"context_window\": 200000,\n",
    "        \"cost\": \"Cao nhất\",\n",
    "        \"use_cases\": [\"Phân tích phức tạp\", \"Creative writing\", \"Code generation nâng cao\"]\n",
    "    },\n",
    "    \"claude-3-sonnet-20240229\": {\n",
    "        \"description\": \"Cân bằng giữa hiệu năng và chi phí\",\n",
    "        \"context_window\": 200000,\n",
    "        \"cost\": \"Trung bình\",\n",
    "        \"use_cases\": [\"Chatbot\", \"Tóm tắt văn bản\", \"Code review\"]\n",
    "    },\n",
    "    \"claude-3-haiku-20240307\": {\n",
    "        \"description\": \"Nhanh và tiết kiệm chi phí\",\n",
    "        \"context_window\": 200000,\n",
    "        \"cost\": \"Thấp nhất\",\n",
    "        \"use_cases\": [\"Classification\", \"Q&A đơn giản\", \"Data extraction\"]\n",
    "    }\n",
    "}\n",
    "\n",
    "# Hiển thị thông tin các model\n",
    "for model_name, info in claude_models.items():\n",
    "    print(f\"\\n🤖 {model_name}\")\n",
    "    print(f\"   📝 {info['description']}\")\n",
    "    print(f\"   📊 Context window: {info['context_window']:,} tokens\")\n",
    "    print(f\"   💰 Chi phí: {info['cost']}\")\n",
    "    print(f\"   🎯 Use cases: {', '.join(info['use_cases'])}\")"
   ]
  },
  {
   "cell_type": "markdown",
   "metadata": {},
   "source": [
    "## 4. Tham số cấu hình quan trọng\n",
    "\n",
    "Khi khởi tạo ChatAnthropic, có nhiều tham số quan trọng cần hiểu:"
   ]
  },
  {
   "cell_type": "code",
   "execution_count": null,
   "metadata": {},
   "outputs": [],
   "source": [
    "# Ví dụ về các tham số khác nhau\n",
    "# 1. Model với temperature cao (creative)\n",
    "creative_model = ChatAnthropic(\n",
    "    model=\"claude-3-sonnet-20240229\",\n",
    "    temperature=0.9,  # 0-1: càng cao càng creative/random\n",
    "    max_tokens=500,   # Giới hạn độ dài output\n",
    "    anthropic_api_key=api_key\n",
    ")\n",
    "\n",
    "# 2. Model với temperature thấp (deterministic)\n",
    "precise_model = ChatAnthropic(\n",
    "    model=\"claude-3-sonnet-20240229\",\n",
    "    temperature=0.1,  # Output ổn định, ít biến đổi\n",
    "    max_tokens=500,\n",
    "    anthropic_api_key=api_key\n",
    ")\n",
    "\n",
    "# 3. Model với cấu hình đầy đủ\n",
    "full_config_model = ChatAnthropic(\n",
    "    model=\"claude-3-sonnet-20240229\",\n",
    "    temperature=0.7,\n",
    "    max_tokens=1000,\n",
    "    top_p=0.95,       # Nucleus sampling\n",
    "    top_k=40,         # Top-k sampling\n",
    "    timeout=30,       # Timeout trong giây\n",
    "    max_retries=2,    # Số lần retry khi lỗi\n",
    "    anthropic_api_key=api_key\n",
    ")\n",
    "\n",
    "print(\"✅ Đã khởi tạo 3 model với cấu hình khác nhau\")"
   ]
  },
  {
   "cell_type": "markdown",
   "metadata": {},
   "source": [
    "### So sánh output với temperature khác nhau"
   ]
  },
  {
   "cell_type": "code",
   "execution_count": null,
   "metadata": {},
   "outputs": [],
   "source": [
    "# Test cùng một prompt với temperature khác nhau\n",
    "test_prompt = \"Viết một câu mở đầu cho câu chuyện về AI\"\n",
    "\n",
    "print(\"🎨 Creative Model (temp=0.9):\")\n",
    "creative_response = creative_model.invoke(test_prompt)\n",
    "print(creative_response.content)\n",
    "\n",
    "print(\"\\n🎯 Precise Model (temp=0.1):\")\n",
    "precise_response = precise_model.invoke(test_prompt)\n",
    "print(precise_response.content)"
   ]
  },
  {
   "cell_type": "markdown",
   "metadata": {},
   "source": [
    "## 5. Các loại tin nhắn (Message Types)\n",
    "\n",
    "LangChain hỗ trợ nhiều loại message khác nhau:"
   ]
  },
  {
   "cell_type": "code",
   "execution_count": null,
   "metadata": {},
   "outputs": [],
   "source": [
    "# Import thêm các message types\n",
    "from langchain_core.messages import (\n",
    "    SystemMessage,\n",
    "    HumanMessage,\n",
    "    AIMessage,\n",
    "    FunctionMessage,\n",
    "    ToolMessage\n",
    ")\n",
    "\n",
    "# Khởi tạo model cho ví dụ\n",
    "chat = ChatAnthropic(\n",
    "    model=\"claude-3-sonnet-20240229\",\n",
    "    temperature=0.7,\n",
    "    anthropic_api_key=api_key\n",
    ")"
   ]
  },
  {
   "cell_type": "markdown",
   "metadata": {},
   "source": [
    "### 5.1 SystemMessage - Định nghĩa vai trò và hành vi"
   ]
  },
  {
   "cell_type": "code",
   "execution_count": null,
   "metadata": {},
   "outputs": [],
   "source": [
    "# Ví dụ 1: AI như một chuyên gia\n",
    "messages = [\n",
    "    SystemMessage(content=\"\"\"Bạn là một chuyên gia về Machine Learning với 10 năm kinh nghiệm.\n",
    "    Hãy trả lời các câu hỏi một cách chuyên nghiệp, sử dụng thuật ngữ kỹ thuật khi cần thiết,\n",
    "    và luôn đưa ra ví dụ cụ thể.\"\"\"),\n",
    "    HumanMessage(content=\"Gradient Descent là gì?\")\n",
    "]\n",
    "\n",
    "response = chat.invoke(messages)\n",
    "print(\"🎓 Expert Response:\")\n",
    "print(response.content)"
   ]
  },
  {
   "cell_type": "code",
   "execution_count": null,
   "metadata": {},
   "outputs": [],
   "source": [
    "# Ví dụ 2: AI giải thích cho người mới bắt đầu\n",
    "messages = [\n",
    "    SystemMessage(content=\"\"\"Bạn là một giáo viên kiên nhẫn, giải thích mọi thứ một cách\n",
    "    đơn giản nhất có thể. Tránh sử dụng thuật ngữ phức tạp và luôn dùng ví dụ từ cuộc sống hàng ngày.\"\"\"),\n",
    "    HumanMessage(content=\"Gradient Descent là gì?\")\n",
    "]\n",
    "\n",
    "response = chat.invoke(messages)\n",
    "print(\"👶 Beginner-Friendly Response:\")\n",
    "print(response.content)"
   ]
  },
  {
   "cell_type": "markdown",
   "metadata": {},
   "source": [
    "### 5.2 Chuỗi hội thoại với nhiều messages"
   ]
  },
  {
   "cell_type": "code",
   "execution_count": null,
   "metadata": {},
   "outputs": [],
   "source": [
    "# Xây dựng một cuộc hội thoại đầy đủ\n",
    "conversation = [\n",
    "    SystemMessage(content=\"Bạn là trợ lý AI hữu ích, luôn nhớ ngữ cảnh cuộc trò chuyện.\"),\n",
    "    HumanMessage(content=\"Tôi đang học Python. Bạn có thể gợi ý một dự án cho người mới bắt đầu không?\"),\n",
    "    AIMessage(content=\"Tôi gợi ý bạn làm một ứng dụng To-Do List đơn giản. Đây là dự án tuyệt vời cho người mới bắt đầu vì nó bao gồm các khái niệm cơ bản như: input/output, lưu trữ dữ liệu, và xử lý logic.\"),\n",
    "    HumanMessage(content=\"Nghe hay đấy! Tôi nên bắt đầu từ đâu?\")\n",
    "]\n",
    "\n",
    "# Gửi toàn bộ conversation\n",
    "response = chat.invoke(conversation)\n",
    "print(\"💬 Conversation Response:\")\n",
    "print(response.content)"
   ]
  },
  {
   "cell_type": "markdown",
   "metadata": {},
   "source": [
    "## 6. Phương thức Invoke vs Stream\n",
    "\n",
    "### 6.1 Invoke - Nhận response đầy đủ"
   ]
  },
  {
   "cell_type": "code",
   "execution_count": null,
   "metadata": {},
   "outputs": [],
   "source": [
    "import time\n",
    "\n",
    "# Đo thời gian với invoke\n",
    "start_time = time.time()\n",
    "\n",
    "response = chat.invoke(\"Giải thích về Neural Networks trong 3 câu\")\n",
    "\n",
    "end_time = time.time()\n",
    "print(f\"⏱️ Thời gian response: {end_time - start_time:.2f} giây\\n\")\n",
    "print(\"📝 Response:\")\n",
    "print(response.content)\n",
    "print(f\"\\n📊 Metadata:\")\n",
    "print(f\"- ID: {response.id}\")\n",
    "print(f\"- Model: {response.response_metadata.get('model', 'N/A')}\")\n",
    "print(f\"- Usage: {response.response_metadata.get('usage', 'N/A')}\")"
   ]
  },
  {
   "cell_type": "markdown",
   "metadata": {},
   "source": [
    "### 6.2 Stream - Nhận response theo từng phần"
   ]
  },
  {
   "cell_type": "code",
   "execution_count": null,
   "metadata": {},
   "outputs": [],
   "source": [
    "# Stream cho trải nghiệm real-time\n",
    "print(\"🌊 Streaming Response:\")\n",
    "print(\"-\" * 50)\n",
    "\n",
    "stream_start = time.time()\n",
    "first_token_time = None\n",
    "token_count = 0\n",
    "\n",
    "for chunk in chat.stream(\"Viết một đoạn văn ngắn về tương lai của AI trong giáo dục\"):\n",
    "    if first_token_time is None:\n",
    "        first_token_time = time.time()\n",
    "    \n",
    "    print(chunk.content, end=\"\", flush=True)\n",
    "    token_count += 1\n",
    "\n",
    "stream_end = time.time()\n",
    "\n",
    "print(f\"\\n\\n📊 Stream Statistics:\")\n",
    "print(f\"- Time to first token: {first_token_time - stream_start:.2f}s\")\n",
    "print(f\"- Total time: {stream_end - stream_start:.2f}s\")\n",
    "print(f\"- Chunks received: {token_count}\")"
   ]
  },
  {
   "cell_type": "markdown",
   "metadata": {},
   "source": [
    "### 6.3 Async Operations"
   ]
  },
  {
   "cell_type": "code",
   "execution_count": null,
   "metadata": {},
   "outputs": [],
   "source": [
    "import asyncio\n",
    "\n",
    "# Async invoke\n",
    "async def async_chat_example():\n",
    "    # Gọi nhiều requests đồng thời\n",
    "    prompts = [\n",
    "        \"Định nghĩa Machine Learning trong 1 câu\",\n",
    "        \"Định nghĩa Deep Learning trong 1 câu\",\n",
    "        \"Định nghĩa AI trong 1 câu\"\n",
    "    ]\n",
    "    \n",
    "    # Tạo tasks\n",
    "    tasks = [chat.ainvoke(prompt) for prompt in prompts]\n",
    "    \n",
    "    # Chờ tất cả hoàn thành\n",
    "    start = time.time()\n",
    "    responses = await asyncio.gather(*tasks)\n",
    "    end = time.time()\n",
    "    \n",
    "    print(f\"⚡ Async execution time: {end - start:.2f}s\\n\")\n",
    "    \n",
    "    for prompt, response in zip(prompts, responses):\n",
    "        print(f\"❓ {prompt}\")\n",
    "        print(f\"✅ {response.content}\\n\")\n",
    "\n",
    "# Chạy async function\n",
    "await async_chat_example()"
   ]
  },
  {
   "cell_type": "markdown",
   "metadata": {},
   "source": [
    "## 7. Use Cases Nâng Cao\n",
    "\n",
    "### 7.1 Structured Output với Response Format"
   ]
  },
  {
   "cell_type": "code",
   "execution_count": null,
   "metadata": {},
   "outputs": [],
   "source": [
    "# Yêu cầu output có cấu trúc\n",
    "structured_prompt = \"\"\"Phân tích câu sau và trả về kết quả theo format JSON:\n",
    "Câu: \"LangChain là một framework mạnh mẽ cho việc phát triển ứng dụng AI.\"\n",
    "\n",
    "Format mong muốn:\n",
    "{\n",
    "    \"sentiment\": \"positive/negative/neutral\",\n",
    "    \"key_entities\": [list of important entities],\n",
    "    \"main_topic\": \"topic of the sentence\",\n",
    "    \"confidence\": 0.0-1.0\n",
    "}\"\"\"\n",
    "\n",
    "response = chat.invoke(structured_prompt)\n",
    "print(\"📋 Structured Output:\")\n",
    "print(response.content)\n",
    "\n",
    "# Parse JSON response\n",
    "import json\n",
    "try:\n",
    "    parsed_response = json.loads(response.content)\n",
    "    print(\"\\n✅ Parsed successfully:\")\n",
    "    for key, value in parsed_response.items():\n",
    "        print(f\"  - {key}: {value}\")\n",
    "except:\n",
    "    print(\"\\n⚠️ Response không phải JSON hợp lệ\")"
   ]
  },
  {
   "cell_type": "markdown",
   "metadata": {},
   "source": [
    "### 7.2 Chain of Thought Prompting"
   ]
  },
  {
   "cell_type": "code",
   "execution_count": null,
   "metadata": {},
   "outputs": [],
   "source": [
    "# Chain of Thought để giải quyết vấn đề phức tạp\n",
    "cot_messages = [\n",
    "    SystemMessage(content=\"\"\"Bạn là một chuyên gia giải quyết vấn đề. \n",
    "    Khi được hỏi, hãy:\n",
    "    1. Phân tích vấn đề từng bước\n",
    "    2. Giải thích logic của mỗi bước\n",
    "    3. Đưa ra kết luận cuối cùng\"\"\"),\n",
    "    HumanMessage(content=\"\"\"Một cửa hàng bán 3 loại sản phẩm:\n",
    "    - Sản phẩm A: giá 100k, lợi nhuận 30%\n",
    "    - Sản phẩm B: giá 200k, lợi nhuận 20%  \n",
    "    - Sản phẩm C: giá 150k, lợi nhuận 25%\n",
    "    \n",
    "    Nếu bán được 10A, 5B, và 8C trong ngày, tổng lợi nhuận là bao nhiêu?\"\"\")\n",
    "]\n",
    "\n",
    "response = chat.invoke(cot_messages)\n",
    "print(\"🧠 Chain of Thought Response:\")\n",
    "print(response.content)"
   ]
  },
  {
   "cell_type": "markdown",
   "metadata": {},
   "source": [
    "### 7.3 Multi-turn Conversation với Context Management"
   ]
  },
  {
   "cell_type": "code",
   "execution_count": null,
   "metadata": {},
   "outputs": [],
   "source": [
    "# Quản lý context trong hội thoại dài\n",
    "class ConversationManager:\n",
    "    def __init__(self, chat_model, max_history=10):\n",
    "        self.chat = chat_model\n",
    "        self.history = []\n",
    "        self.max_history = max_history\n",
    "        self.system_message = SystemMessage(\n",
    "            content=\"Bạn là trợ lý AI thông minh, luôn nhớ context cuộc trò chuyện.\"\n",
    "        )\n",
    "    \n",
    "    def add_message(self, role, content):\n",
    "        if role == \"human\":\n",
    "            self.history.append(HumanMessage(content=content))\n",
    "        elif role == \"ai\":\n",
    "            self.history.append(AIMessage(content=content))\n",
    "        \n",
    "        # Giới hạn history\n",
    "        if len(self.history) > self.max_history:\n",
    "            self.history = self.history[-self.max_history:]\n",
    "    \n",
    "    def get_response(self, user_input):\n",
    "        # Thêm user input\n",
    "        self.add_message(\"human\", user_input)\n",
    "        \n",
    "        # Tạo messages list với system message\n",
    "        messages = [self.system_message] + self.history\n",
    "        \n",
    "        # Gọi model\n",
    "        response = self.chat.invoke(messages)\n",
    "        \n",
    "        # Lưu response\n",
    "        self.add_message(\"ai\", response.content)\n",
    "        \n",
    "        return response.content\n",
    "\n",
    "# Demo conversation manager\n",
    "conv_manager = ConversationManager(chat)\n",
    "\n",
    "# Cuộc hội thoại mẫu\n",
    "conversation_flow = [\n",
    "    \"Xin chào! Tôi muốn học về Python.\",\n",
    "    \"Tôi đã biết các kiến thức cơ bản rồi. Bước tiếp theo là gì?\",\n",
    "    \"OOP nghe phức tạp quá. Bạn có thể cho ví dụ đơn giản không?\"\n",
    "]\n",
    "\n",
    "for i, user_input in enumerate(conversation_flow, 1):\n",
    "    print(f\"\\n👤 Turn {i} - User: {user_input}\")\n",
    "    response = conv_manager.get_response(user_input)\n",
    "    print(f\"🤖 Claude: {response}\")"
   ]
  },
  {
   "cell_type": "markdown",
   "metadata": {},
   "source": [
    "## 8. Best Practices và Tips\n",
    "\n",
    "### 8.1 Error Handling"
   ]
  },
  {
   "cell_type": "code",
   "execution_count": null,
   "metadata": {},
   "outputs": [],
   "source": [
    "from langchain_core.exceptions import OutputParserException\n",
    "from anthropic import RateLimitError, APIError\n",
    "\n",
    "def safe_chat_invoke(chat_model, messages, max_retries=3):\n",
    "    \"\"\"Invoke chat với error handling đầy đủ\"\"\"\n",
    "    for attempt in range(max_retries):\n",
    "        try:\n",
    "            response = chat_model.invoke(messages)\n",
    "            return response\n",
    "        \n",
    "        except RateLimitError as e:\n",
    "            print(f\"⚠️ Rate limit reached. Waiting 60s... (Attempt {attempt + 1}/{max_retries})\")\n",
    "            if attempt < max_retries - 1:\n",
    "                time.sleep(60)\n",
    "            else:\n",
    "                raise e\n",
    "        \n",
    "        except APIError as e:\n",
    "            print(f\"❌ API Error: {e}\")\n",
    "            if attempt < max_retries - 1:\n",
    "                time.sleep(5)\n",
    "            else:\n",
    "                raise e\n",
    "        \n",
    "        except Exception as e:\n",
    "            print(f\"❌ Unexpected error: {e}\")\n",
    "            raise e\n",
    "    \n",
    "    return None\n",
    "\n",
    "# Test error handling\n",
    "test_messages = [HumanMessage(content=\"Hello Claude!\")]\n",
    "safe_response = safe_chat_invoke(chat, test_messages)\n",
    "if safe_response:\n",
    "    print(\"✅ Safe invoke successful:\", safe_response.content)"
   ]
  },
  {
   "cell_type": "markdown",
   "metadata": {},
   "source": [
    "### 8.2 Token Counting và Cost Estimation"
   ]
  },
  {
   "cell_type": "code",
   "execution_count": null,
   "metadata": {},
   "outputs": [],
   "source": [
    "# Ước tính token và chi phí\n",
    "def estimate_tokens(text):\n",
    "    \"\"\"Ước tính số token (rough estimate)\"\"\"\n",
    "    # Quy tắc thô: ~1 token = 4 ký tự cho tiếng Anh\n",
    "    # Tiếng Việt có thể khác\n",
    "    return len(text) / 4\n",
    "\n",
    "def estimate_cost(input_tokens, output_tokens, model=\"claude-3-sonnet-20240229\"):\n",
    "    \"\"\"Ước tính chi phí (USD)\"\"\"\n",
    "    # Giá tham khảo (có thể thay đổi)\n",
    "    pricing = {\n",
    "        \"claude-3-opus-20240229\": {\"input\": 0.015, \"output\": 0.075},\n",
    "        \"claude-3-sonnet-20240229\": {\"input\": 0.003, \"output\": 0.015},\n",
    "        \"claude-3-haiku-20240307\": {\"input\": 0.00025, \"output\": 0.00125}\n",
    "    }\n",
    "    \n",
    "    if model in pricing:\n",
    "        input_cost = (input_tokens / 1000) * pricing[model][\"input\"]\n",
    "        output_cost = (output_tokens / 1000) * pricing[model][\"output\"]\n",
    "        return input_cost + output_cost\n",
    "    return 0\n",
    "\n",
    "# Demo\n",
    "test_input = \"Giải thích về Machine Learning\"\n",
    "response = chat.invoke(test_input)\n",
    "\n",
    "input_tokens = estimate_tokens(test_input)\n",
    "output_tokens = estimate_tokens(response.content)\n",
    "\n",
    "print(f\"📊 Token Usage Estimate:\")\n",
    "print(f\"- Input tokens: ~{input_tokens:.0f}\")\n",
    "print(f\"- Output tokens: ~{output_tokens:.0f}\")\n",
    "print(f\"- Total tokens: ~{input_tokens + output_tokens:.0f}\")\n",
    "\n",
    "cost = estimate_cost(input_tokens, output_tokens)\n",
    "print(f\"\\n💰 Estimated cost: ${cost:.6f} USD\")"
   ]
  },
  {
   "cell_type": "markdown",
   "metadata": {},
   "source": [
    "## 9. Tổng kết\n",
    "\n",
    "Trong notebook này, chúng ta đã học về:\n",
    "\n",
    "1. **Chat Models** - Hiểu rõ về chat models và cách chúng hoạt động\n",
    "2. **Các model Claude** - So sánh Opus, Sonnet, và Haiku\n",
    "3. **Tham số cấu hình** - Temperature, max_tokens, và các tham số khác\n",
    "4. **Message Types** - SystemMessage, HumanMessage, AIMessage\n",
    "5. **Invoke vs Stream** - Khi nào dùng phương thức nào\n",
    "6. **Async operations** - Xử lý đồng thời nhiều requests\n",
    "7. **Advanced patterns** - Structured output, CoT, conversation management\n",
    "8. **Best practices** - Error handling, token counting, cost estimation\n",
    "\n",
    "### Next Steps:\n",
    "- Thử nghiệm với các model khác nhau\n",
    "- Xây dựng chatbot hoàn chỉnh\n",
    "- Tích hợp với vector stores cho RAG\n",
    "- Implement streaming trong web applications"
   ]
  },
  {
   "cell_type": "code",
   "execution_count": null,
   "metadata": {},
   "outputs": [],
   "source": [
    "# Quick reference card\n",
    "print(\"🎯 CLAUDE CHAT MODELS - QUICK REFERENCE\\n\")\n",
    "print(\"📌 Basic Usage:\")\n",
    "print(\"   chat = ChatAnthropic(model='claude-3-sonnet-20240229', temperature=0.7)\")\n",
    "print(\"   response = chat.invoke('Your prompt here')\\n\")\n",
    "\n",
    "print(\"📌 With Messages:\")\n",
    "print(\"   messages = [\")\n",
    "print(\"       SystemMessage(content='You are a helpful assistant'),\")\n",
    "print(\"       HumanMessage(content='Hello!')\")\n",
    "print(\"   ]\")\n",
    "print(\"   response = chat.invoke(messages)\\n\")\n",
    "\n",
    "print(\"📌 Streaming:\")\n",
    "print(\"   for chunk in chat.stream('Your prompt'):\")\n",
    "print(\"       print(chunk.content, end='')\\n\")\n",
    "\n",
    "print(\"📌 Key Parameters:\")\n",
    "print(\"   - temperature: 0.0-1.0 (creativity)\")\n",
    "print(\"   - max_tokens: output length limit\")\n",
    "print(\"   - model: opus/sonnet/haiku variants\")"
   ]
  }
 ],
 "metadata": {
  "kernelspec": {
   "display_name": "Python 3",
   "language": "python",
   "name": "python3"
  },
  "language_info": {
   "codemirror_mode": {
    "name": "ipython",
    "version": 3
   },
   "file_extension": ".py",
   "mimetype": "text/x-python",
   "name": "python",
   "nbconvert_exporter": "python",
   "pygments_lexer": "ipython3",
   "version": "3.8.0"
  }
 },
 "nbformat": 4,
 "nbformat_minor": 4
}
