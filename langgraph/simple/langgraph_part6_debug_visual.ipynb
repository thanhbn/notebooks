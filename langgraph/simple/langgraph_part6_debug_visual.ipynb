{
 "cells": [
  {
   "cell_type": "markdown",
   "id": "699021df",
   "metadata": {},
   "source": [
    "# LangGraph Tutorial – Part 6️⃣: Quan sát & gỡ lỗi"
   ]
  },
  {
   "cell_type": "markdown",
   "id": "c9af671d",
   "metadata": {},
   "source": [
    "Dùng phương thức `.get_graph().to_dot()` để xuất graph"
   ]
  },
  {
   "cell_type": "code",
   "execution_count": null,
   "id": "76c1e0f5",
   "metadata": {},
   "outputs": [],
   "source": [
    "from langgraph.graph import StateGraph, MessageState\n",
    "class S(MessageState): x:int\n",
    "\n",
    "g = StateGraph(S).add_node(\"a\", lambda s:S()).set_entry_point(\"a\").compile()\n",
    "print(g.get_graph().to_dot())"
   ]
  }
 ],
 "metadata": {},
 "nbformat": 4,
 "nbformat_minor": 5
}
