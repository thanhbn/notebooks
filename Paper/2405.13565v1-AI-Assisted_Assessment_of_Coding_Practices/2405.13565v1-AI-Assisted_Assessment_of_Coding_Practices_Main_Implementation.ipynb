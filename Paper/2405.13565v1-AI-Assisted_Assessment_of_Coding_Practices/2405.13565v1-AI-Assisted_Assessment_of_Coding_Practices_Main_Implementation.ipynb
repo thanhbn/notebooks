{
 "cells": [
  {
   "cell_type": "markdown",
   "metadata": {},
   "source": [
    "# AI-Assisted Assessment of Coding Practices\n",
    "\n",
    "**Paper**: [AI-Assisted Assessment of Coding Practices](https://arxiv.org/abs/2405.13565v1)\n",
    "\n",
    "## Overview\n",
    "This notebook implements the key concepts from the paper on using AI to assess coding practices."
   ]
  },
  {
   "cell_type": "markdown",
   "metadata": {},
   "source": [
    "## Environment Setup"
   ]
  },
  {
   "cell_type": "code",
   "execution_count": null,
   "metadata": {},
   "outputs": [],
   "source": [
    "!pip install langchain langchain-openai langchain-anthropic deepeval ragas"
   ]
  },
  {
   "cell_type": "markdown",
   "metadata": {},
   "source": [
    "## Implementation"
   ]
  },
  {
   "cell_type": "code",
   "execution_count": null,
   "metadata": {},
   "outputs": [],
   "source": [
    "from langchain_core.prompts import ChatPromptTemplate\n",
    "from langchain_openai import ChatOpenAI\n",
    "from langchain_anthropic import ChatAnthropic"
   ]
  }
 ],
 "metadata": {
  "kernelspec": {
   "display_name": "Python 3",
   "language": "python",
   "name": "python3"
  }
 },
 "nbformat": 4,
 "nbformat_minor": 4
}